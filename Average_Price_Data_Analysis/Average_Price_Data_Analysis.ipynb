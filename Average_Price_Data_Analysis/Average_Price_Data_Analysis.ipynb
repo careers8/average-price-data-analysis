{
 "cells": [
  {
   "cell_type": "markdown",
   "id": "4ffd16b5",
   "metadata": {},
   "source": [
    "# Imports"
   ]
  },
  {
   "cell_type": "code",
   "execution_count": 1,
   "id": "1a1ee651",
   "metadata": {},
   "outputs": [
    {
     "data": {
      "text/html": [
       "        <script type=\"text/javascript\">\n",
       "        window.PlotlyConfig = {MathJaxConfig: 'local'};\n",
       "        if (window.MathJax) {MathJax.Hub.Config({SVG: {font: \"STIX-Web\"}});}\n",
       "        if (typeof require !== 'undefined') {\n",
       "        require.undef(\"plotly\");\n",
       "        requirejs.config({\n",
       "            paths: {\n",
       "                'plotly': ['https://cdn.plot.ly/plotly-2.9.0.min']\n",
       "            }\n",
       "        });\n",
       "        require(['plotly'], function(Plotly) {\n",
       "            window._Plotly = Plotly;\n",
       "        });\n",
       "        }\n",
       "        </script>\n",
       "        "
      ]
     },
     "metadata": {},
     "output_type": "display_data"
    },
    {
     "data": {
      "text/html": [
       "        <script type=\"text/javascript\">\n",
       "        window.PlotlyConfig = {MathJaxConfig: 'local'};\n",
       "        if (window.MathJax) {MathJax.Hub.Config({SVG: {font: \"STIX-Web\"}});}\n",
       "        if (typeof require !== 'undefined') {\n",
       "        require.undef(\"plotly\");\n",
       "        requirejs.config({\n",
       "            paths: {\n",
       "                'plotly': ['https://cdn.plot.ly/plotly-2.9.0.min']\n",
       "            }\n",
       "        });\n",
       "        require(['plotly'], function(Plotly) {\n",
       "            window._Plotly = Plotly;\n",
       "        });\n",
       "        }\n",
       "        </script>\n",
       "        "
      ]
     },
     "metadata": {},
     "output_type": "display_data"
    }
   ],
   "source": [
    "# Print every output from a cell.\n",
    "from IPython.core.interactiveshell import InteractiveShell\n",
    "InteractiveShell.ast_node_interactivity = \"all\"\n",
    "\n",
    "# EDA\n",
    "import numpy as np\n",
    "import pandas as pd\n",
    "\n",
    "# Visualizations\n",
    "import matplotlib.pyplot as plt\n",
    "%matplotlib inline\n",
    "\n",
    "import seaborn as sns\n",
    "\n",
    "from plotly.offline import download_plotlyjs,init_notebook_mode,plot,iplot\n",
    "\n",
    "# Plot pandas objects using plotly.\n",
    "pd.options.plotting.backend = \"plotly\"\n",
    "\n",
    "import cufflinks as cf\n",
    "init_notebook_mode(connected=True)\n",
    "cf.go_offline()"
   ]
  },
  {
   "cell_type": "markdown",
   "id": "521ac236",
   "metadata": {},
   "source": [
    "# Data Source"
   ]
  },
  {
   "cell_type": "markdown",
   "id": "c25fbb63",
   "metadata": {},
   "source": [
    "### Data sourced from The Bureau of Labor Statistics public database ( LABSTAT ): https://download.bls.gov\n",
    "<br> BLS Average Price Data 2022: https://download.bls.gov/pub/time.series/ap/"
   ]
  },
  {
   "cell_type": "markdown",
   "id": "7b3d6e53",
   "metadata": {},
   "source": [
    "# Metadata"
   ]
  },
  {
   "cell_type": "markdown",
   "id": "3cdffd05",
   "metadata": {},
   "source": [
    "### Average Price Description: \n",
    "\n",
    "Average consumer prices are calculated for household\n",
    "fuel, motor fuel, and food items from prices collected for the Consumer\n",
    "Price Index (CPI). Average prices are best used to measure the price level\n",
    "in a particular month, not to measure price change over time. It is more\n",
    "appropriate to use CPI index values for the particular item categories to measure\n",
    "price change."
   ]
  },
  {
   "cell_type": "markdown",
   "id": "0041131c",
   "metadata": {},
   "source": [
    "### Average Price Database Files: \n",
    "\n",
    "    ap.data.0.Current\t\t- All current year-to-date data\n",
    "\tap.data.1.HouseholdFuels\t- All household fuels data\n",
    "\tap.data.2.Gasoline\t\t- All gasoline data\n",
    "\tap.data.3.Food\t\t\t- All food data\n",
    "\tap.area\t\t\t\t- Area codes\t\tmapping file\n",
    "\tap.contacts\t\t\t- Contacts for ap survey  \n",
    "\tap.footnote\t\t\t- Footnote codes\tmapping file\n",
    "\tap.item\t\t\t\t- Item codes\t\tmapping file\n",
    "\tap.period\t\t\t- Period codes\t\tmapping file\n",
    "\tap.series\t\t\t- All series and their beginning and end Dates\n",
    "\tap.txt\t\t\t\t- General information"
   ]
  },
  {
   "cell_type": "markdown",
   "id": "7cf21a2e",
   "metadata": {},
   "source": [
    "### Average Price Database Elements:\n",
    "    \n",
    "    Data Element\tLength\t\tValue(Example)\t\t\tDescription\n",
    "    area_code\t4\t\tA100\t\t\tUnique code used to identify\n",
    "\t\t\t\t\t\t\ta specific geographic area.\n",
    "    area_name\t80\t\tText\t\t\tName of specific geographic\n",
    "\t\t\t\tEx: MIAMI, FLA\t\tarea.\n",
    "    begin_period\t3\t\tM02\t\t\tIdentifies first data observation\n",
    "\t\t\t\tEx: M02=Feb\t\twithin the first year for which\n",
    "\t\t\t\t(M=Monthly, M13= \tdata is available for a given time\n",
    "\t\t\t\tAnnual Avg)\t\tseries.\t\t\t\t\t\n",
    "\t\t\t\t\t\t\n",
    "    begin_year\t4\t\t1990\t\t\tIdentifies first year for which\n",
    " \t\t\t\t\t\t\tdata is available for a given time\n",
    "\t\t\t\t\t\t\tseries.\n",
    "\t\t\t\t\t\t\n",
    "    end_period\t3\t\tM06\t\t\tIdentifies last data observation \n",
    " \t\t\t\tEx: M06=June\t\twithin the last year for which\n",
    "\t\t\t\t(M=Monthly, M13=\tdata is available for a given time\n",
    "\t\t\t\tAnnual Avg)\t\tseries.\n",
    "\t\t\t\t\t\t\n",
    "    end_year\t4\t\t2000\t\t\tIdentifies last year for which data\n",
    " \t\t\t\t\t\t\tis available for a given time\n",
    "\t\t\t\t\t\t\tseries.\n",
    "\t\t\t\t\t\t\t\n",
    "    footnote_code\t1\t\tC\t\t\tIdentifies footnote for the data \n",
    "\t\t\t\t\t\t\tseries.\n",
    "\n",
    "    footnote_codes\t10\t\tIt varies\t\tIdentifies footnotes for the data \n",
    "\t\t\t\t\t\t\tseries.\t\n",
    "\t\t\t\t\t\t\t\n",
    "    footnote_text\t100\t\tText\t\t\tContains the text of the footnote.\n",
    "\n",
    "    item_code\t7\t\t712211\t\t\tIdentifies item for which\n",
    " \t\t\t\t\t\t\tdata observations pertain.\n",
    "\n",
    "    item_name\t100\t\tText\t\t\tFull names of items.\n",
    "\t\t\t\t\t\n",
    "    period_abbr\t5\t\tJAN\t\t\tAbbreviation of period name.\n",
    " \t\t\t\t\t\n",
    "    period\t\t3\t\tM01\t\t\tIdentifies period for which data \n",
    " \t\t\t\tEx: M01=Jan\t\tis observed.\n",
    "\t\t\t\t(M=Monthly, M13=\t\n",
    "\t\t\t\tAnnual Avg)\n",
    " \t\t\t\t\n",
    "    period_name\t20\t\tText\t\t\tFull name of period to which\n",
    " \t\t\t\tEx: January\t\tthe data observation refers.\n",
    "\t\t\t\t\n",
    "\n",
    "    series_id\t17\t\tAPU0000701111\t\tCode identifying the specific \n",
    " \t\t\t\t\t\t\tseries.\n",
    "\n",
    "    value\t\t12\t\t10.124\t\t\tAverage price of item.\n",
    "\t    \n",
    "    year\t\t4\t\t1990\t\t\tIdentifies year of observation."
   ]
  },
  {
   "cell_type": "markdown",
   "id": "4f528638",
   "metadata": {},
   "source": [
    "# Data Acquisition"
   ]
  },
  {
   "cell_type": "markdown",
   "id": "2a93e3c0",
   "metadata": {},
   "source": [
    "### For latest data, pull from the BLS website:"
   ]
  },
  {
   "cell_type": "code",
   "execution_count": 2,
   "id": "56338a35",
   "metadata": {},
   "outputs": [
    {
     "data": {
      "text/html": [
       "<div>\n",
       "<style scoped>\n",
       "    .dataframe tbody tr th:only-of-type {\n",
       "        vertical-align: middle;\n",
       "    }\n",
       "\n",
       "    .dataframe tbody tr th {\n",
       "        vertical-align: top;\n",
       "    }\n",
       "\n",
       "    .dataframe thead th {\n",
       "        text-align: right;\n",
       "    }\n",
       "</style>\n",
       "<table border=\"1\" class=\"dataframe\">\n",
       "  <thead>\n",
       "    <tr style=\"text-align: right;\">\n",
       "      <th></th>\n",
       "      <th>seasonal_code</th>\n",
       "      <th>seasonal_text</th>\n",
       "    </tr>\n",
       "  </thead>\n",
       "  <tbody>\n",
       "    <tr>\n",
       "      <th>0</th>\n",
       "      <td>S</td>\n",
       "      <td>Seasonally Adjusted</td>\n",
       "    </tr>\n",
       "    <tr>\n",
       "      <th>1</th>\n",
       "      <td>U</td>\n",
       "      <td>Not Seasonally Adjusted</td>\n",
       "    </tr>\n",
       "  </tbody>\n",
       "</table>\n",
       "</div>"
      ],
      "text/plain": [
       "  seasonal_code            seasonal_text\n",
       "0             S      Seasonally Adjusted\n",
       "1             U  Not Seasonally Adjusted"
      ]
     },
     "execution_count": 2,
     "metadata": {},
     "output_type": "execute_result"
    }
   ],
   "source": [
    "# Define URL strings.\n",
    "url = 'https://download.bls.gov/pub/time.series/'\n",
    "ap = 'ap/ap.'\n",
    "\n",
    "# Define BLS API function.\n",
    "def blsAPI(string):\n",
    "    return(pd.read_csv(url+ap+string,sep='\\t'))\n",
    "\n",
    "# Example dataframe for pulling ap.seasonal file from the BLS website:\n",
    "example_df = blsAPI('seasonal')\n",
    "example_df.head()"
   ]
  },
  {
   "cell_type": "markdown",
   "id": "350bc910",
   "metadata": {},
   "source": [
    "## Average Price Data"
   ]
  },
  {
   "cell_type": "markdown",
   "id": "32c21ab1",
   "metadata": {},
   "source": [
    "### For the latest data, pull from LABSTAT the data file ( data.0.Current ) and the significant mapping files ( area, item, period, series; footnote file is empty ):"
   ]
  },
  {
   "cell_type": "code",
   "execution_count": 3,
   "id": "32ad3088",
   "metadata": {},
   "outputs": [],
   "source": [
    "ap_df = blsAPI('data.0.Current')\n",
    "area_df = blsAPI('area')\n",
    "item_df = blsAPI('item')\n",
    "period_df = blsAPI('period')\n",
    "series_df = blsAPI('series')"
   ]
  },
  {
   "cell_type": "markdown",
   "id": "b8642b76",
   "metadata": {},
   "source": [
    "# EDA"
   ]
  },
  {
   "cell_type": "markdown",
   "id": "dfc098cb",
   "metadata": {},
   "source": [
    "## ap_df"
   ]
  },
  {
   "cell_type": "code",
   "execution_count": 4,
   "id": "439bda59",
   "metadata": {},
   "outputs": [
    {
     "data": {
      "text/html": [
       "<div>\n",
       "<style scoped>\n",
       "    .dataframe tbody tr th:only-of-type {\n",
       "        vertical-align: middle;\n",
       "    }\n",
       "\n",
       "    .dataframe tbody tr th {\n",
       "        vertical-align: top;\n",
       "    }\n",
       "\n",
       "    .dataframe thead th {\n",
       "        text-align: right;\n",
       "    }\n",
       "</style>\n",
       "<table border=\"1\" class=\"dataframe\">\n",
       "  <thead>\n",
       "    <tr style=\"text-align: right;\">\n",
       "      <th></th>\n",
       "      <th>series_id</th>\n",
       "      <th>year</th>\n",
       "      <th>period</th>\n",
       "      <th>value</th>\n",
       "      <th>footnote_codes</th>\n",
       "    </tr>\n",
       "  </thead>\n",
       "  <tbody>\n",
       "    <tr>\n",
       "      <th>0</th>\n",
       "      <td>APU0000701111</td>\n",
       "      <td>1995</td>\n",
       "      <td>M01</td>\n",
       "      <td>0.238</td>\n",
       "      <td>NaN</td>\n",
       "    </tr>\n",
       "    <tr>\n",
       "      <th>1</th>\n",
       "      <td>APU0000701111</td>\n",
       "      <td>1995</td>\n",
       "      <td>M02</td>\n",
       "      <td>0.242</td>\n",
       "      <td>NaN</td>\n",
       "    </tr>\n",
       "    <tr>\n",
       "      <th>2</th>\n",
       "      <td>APU0000701111</td>\n",
       "      <td>1995</td>\n",
       "      <td>M03</td>\n",
       "      <td>0.242</td>\n",
       "      <td>NaN</td>\n",
       "    </tr>\n",
       "    <tr>\n",
       "      <th>3</th>\n",
       "      <td>APU0000701111</td>\n",
       "      <td>1995</td>\n",
       "      <td>M04</td>\n",
       "      <td>0.236</td>\n",
       "      <td>NaN</td>\n",
       "    </tr>\n",
       "    <tr>\n",
       "      <th>4</th>\n",
       "      <td>APU0000701111</td>\n",
       "      <td>1995</td>\n",
       "      <td>M05</td>\n",
       "      <td>0.244</td>\n",
       "      <td>NaN</td>\n",
       "    </tr>\n",
       "  </tbody>\n",
       "</table>\n",
       "</div>"
      ],
      "text/plain": [
       "   series_id          year period         value  footnote_codes\n",
       "0  APU0000701111      1995    M01         0.238             NaN\n",
       "1  APU0000701111      1995    M02         0.242             NaN\n",
       "2  APU0000701111      1995    M03         0.242             NaN\n",
       "3  APU0000701111      1995    M04         0.236             NaN\n",
       "4  APU0000701111      1995    M05         0.244             NaN"
      ]
     },
     "execution_count": 4,
     "metadata": {},
     "output_type": "execute_result"
    },
    {
     "name": "stdout",
     "output_type": "stream",
     "text": [
      "<class 'pandas.core.frame.DataFrame'>\n",
      "RangeIndex: 189044 entries, 0 to 189043\n",
      "Data columns (total 5 columns):\n",
      " #   Column             Non-Null Count   Dtype  \n",
      "---  ------             --------------   -----  \n",
      " 0   series_id          189044 non-null  object \n",
      " 1   year               189044 non-null  int64  \n",
      " 2   period             189044 non-null  object \n",
      " 3          value       189044 non-null  object \n",
      " 4   footnote_codes     0 non-null       float64\n",
      "dtypes: float64(1), int64(1), object(3)\n",
      "memory usage: 7.2+ MB\n"
     ]
    }
   ],
   "source": [
    "ap_df.head()\n",
    "ap_df.info()"
   ]
  },
  {
   "cell_type": "markdown",
   "id": "fe20c6ca",
   "metadata": {},
   "source": [
    "### The series_id and value feature names contain tabs; let's remove them."
   ]
  },
  {
   "cell_type": "code",
   "execution_count": 5,
   "id": "3ba3aed8",
   "metadata": {},
   "outputs": [
    {
     "data": {
      "text/plain": [
       "Index(['series_id        ', 'year', 'period', '       value',\n",
       "       'footnote_codes'],\n",
       "      dtype='object')"
      ]
     },
     "execution_count": 5,
     "metadata": {},
     "output_type": "execute_result"
    },
    {
     "data": {
      "text/plain": [
       "Index(['series_id', 'year', 'period', 'value', 'footnote_codes'], dtype='object')"
      ]
     },
     "execution_count": 5,
     "metadata": {},
     "output_type": "execute_result"
    }
   ],
   "source": [
    "ap_df.columns\n",
    "ap_df = ap_df.rename(columns={'series_id        ':'series_id', '       value':'value'})\n",
    "ap_df.columns"
   ]
  },
  {
   "cell_type": "markdown",
   "id": "2e2072c8",
   "metadata": {},
   "source": [
    "### The footnote_codes values are all null; let's drop this feature."
   ]
  },
  {
   "cell_type": "code",
   "execution_count": 6,
   "id": "d743526e",
   "metadata": {},
   "outputs": [
    {
     "data": {
      "text/html": [
       "<div>\n",
       "<style scoped>\n",
       "    .dataframe tbody tr th:only-of-type {\n",
       "        vertical-align: middle;\n",
       "    }\n",
       "\n",
       "    .dataframe tbody tr th {\n",
       "        vertical-align: top;\n",
       "    }\n",
       "\n",
       "    .dataframe thead th {\n",
       "        text-align: right;\n",
       "    }\n",
       "</style>\n",
       "<table border=\"1\" class=\"dataframe\">\n",
       "  <thead>\n",
       "    <tr style=\"text-align: right;\">\n",
       "      <th></th>\n",
       "      <th>series_id</th>\n",
       "      <th>year</th>\n",
       "      <th>period</th>\n",
       "      <th>value</th>\n",
       "      <th>footnote_codes</th>\n",
       "    </tr>\n",
       "  </thead>\n",
       "  <tbody>\n",
       "    <tr>\n",
       "      <th>0</th>\n",
       "      <td>APU0000701111</td>\n",
       "      <td>1995</td>\n",
       "      <td>M01</td>\n",
       "      <td>0.238</td>\n",
       "      <td>NaN</td>\n",
       "    </tr>\n",
       "    <tr>\n",
       "      <th>1</th>\n",
       "      <td>APU0000701111</td>\n",
       "      <td>1995</td>\n",
       "      <td>M02</td>\n",
       "      <td>0.242</td>\n",
       "      <td>NaN</td>\n",
       "    </tr>\n",
       "    <tr>\n",
       "      <th>2</th>\n",
       "      <td>APU0000701111</td>\n",
       "      <td>1995</td>\n",
       "      <td>M03</td>\n",
       "      <td>0.242</td>\n",
       "      <td>NaN</td>\n",
       "    </tr>\n",
       "    <tr>\n",
       "      <th>3</th>\n",
       "      <td>APU0000701111</td>\n",
       "      <td>1995</td>\n",
       "      <td>M04</td>\n",
       "      <td>0.236</td>\n",
       "      <td>NaN</td>\n",
       "    </tr>\n",
       "    <tr>\n",
       "      <th>4</th>\n",
       "      <td>APU0000701111</td>\n",
       "      <td>1995</td>\n",
       "      <td>M05</td>\n",
       "      <td>0.244</td>\n",
       "      <td>NaN</td>\n",
       "    </tr>\n",
       "  </tbody>\n",
       "</table>\n",
       "</div>"
      ],
      "text/plain": [
       "           series_id  year period         value  footnote_codes\n",
       "0  APU0000701111      1995    M01         0.238             NaN\n",
       "1  APU0000701111      1995    M02         0.242             NaN\n",
       "2  APU0000701111      1995    M03         0.242             NaN\n",
       "3  APU0000701111      1995    M04         0.236             NaN\n",
       "4  APU0000701111      1995    M05         0.244             NaN"
      ]
     },
     "execution_count": 6,
     "metadata": {},
     "output_type": "execute_result"
    },
    {
     "data": {
      "text/html": [
       "<div>\n",
       "<style scoped>\n",
       "    .dataframe tbody tr th:only-of-type {\n",
       "        vertical-align: middle;\n",
       "    }\n",
       "\n",
       "    .dataframe tbody tr th {\n",
       "        vertical-align: top;\n",
       "    }\n",
       "\n",
       "    .dataframe thead th {\n",
       "        text-align: right;\n",
       "    }\n",
       "</style>\n",
       "<table border=\"1\" class=\"dataframe\">\n",
       "  <thead>\n",
       "    <tr style=\"text-align: right;\">\n",
       "      <th></th>\n",
       "      <th>series_id</th>\n",
       "      <th>year</th>\n",
       "      <th>period</th>\n",
       "      <th>value</th>\n",
       "    </tr>\n",
       "  </thead>\n",
       "  <tbody>\n",
       "    <tr>\n",
       "      <th>0</th>\n",
       "      <td>APU0000701111</td>\n",
       "      <td>1995</td>\n",
       "      <td>M01</td>\n",
       "      <td>0.238</td>\n",
       "    </tr>\n",
       "    <tr>\n",
       "      <th>1</th>\n",
       "      <td>APU0000701111</td>\n",
       "      <td>1995</td>\n",
       "      <td>M02</td>\n",
       "      <td>0.242</td>\n",
       "    </tr>\n",
       "    <tr>\n",
       "      <th>2</th>\n",
       "      <td>APU0000701111</td>\n",
       "      <td>1995</td>\n",
       "      <td>M03</td>\n",
       "      <td>0.242</td>\n",
       "    </tr>\n",
       "    <tr>\n",
       "      <th>3</th>\n",
       "      <td>APU0000701111</td>\n",
       "      <td>1995</td>\n",
       "      <td>M04</td>\n",
       "      <td>0.236</td>\n",
       "    </tr>\n",
       "    <tr>\n",
       "      <th>4</th>\n",
       "      <td>APU0000701111</td>\n",
       "      <td>1995</td>\n",
       "      <td>M05</td>\n",
       "      <td>0.244</td>\n",
       "    </tr>\n",
       "  </tbody>\n",
       "</table>\n",
       "</div>"
      ],
      "text/plain": [
       "           series_id  year period         value\n",
       "0  APU0000701111      1995    M01         0.238\n",
       "1  APU0000701111      1995    M02         0.242\n",
       "2  APU0000701111      1995    M03         0.242\n",
       "3  APU0000701111      1995    M04         0.236\n",
       "4  APU0000701111      1995    M05         0.244"
      ]
     },
     "execution_count": 6,
     "metadata": {},
     "output_type": "execute_result"
    }
   ],
   "source": [
    "ap_df.head()\n",
    "ap_df = ap_df.drop(['footnote_codes'],axis=1)\n",
    "ap_df.head()"
   ]
  },
  {
   "cell_type": "markdown",
   "id": "711065e4",
   "metadata": {},
   "source": [
    "### The value feature is cast as a string object for some reason; let's convert it to a float for visualization purposes later. These values also have a leading whitespace, which needs to be removed first."
   ]
  },
  {
   "cell_type": "code",
   "execution_count": 7,
   "id": "ee714ea2",
   "metadata": {},
   "outputs": [
    {
     "data": {
      "text/plain": [
       "'       0.238'"
      ]
     },
     "execution_count": 7,
     "metadata": {},
     "output_type": "execute_result"
    }
   ],
   "source": [
    "# Leading whitespace.\n",
    "ap_df['value'][0]"
   ]
  },
  {
   "cell_type": "code",
   "execution_count": 8,
   "id": "b7b5acc9",
   "metadata": {},
   "outputs": [
    {
     "data": {
      "text/plain": [
       "['0.238', '0.242', '0.242', '0.236', '0.244']"
      ]
     },
     "execution_count": 8,
     "metadata": {},
     "output_type": "execute_result"
    }
   ],
   "source": [
    "# Remove leading whitespace for all examples.\n",
    "ap_df['value'] = ap_df['value'].str.strip()\n",
    "ap_df['value'][:5].to_list()"
   ]
  },
  {
   "cell_type": "code",
   "execution_count": 9,
   "id": "dd5566b5",
   "metadata": {},
   "outputs": [
    {
     "data": {
      "text/html": [
       "<div>\n",
       "<style scoped>\n",
       "    .dataframe tbody tr th:only-of-type {\n",
       "        vertical-align: middle;\n",
       "    }\n",
       "\n",
       "    .dataframe tbody tr th {\n",
       "        vertical-align: top;\n",
       "    }\n",
       "\n",
       "    .dataframe thead th {\n",
       "        text-align: right;\n",
       "    }\n",
       "</style>\n",
       "<table border=\"1\" class=\"dataframe\">\n",
       "  <thead>\n",
       "    <tr style=\"text-align: right;\">\n",
       "      <th></th>\n",
       "      <th>series_id</th>\n",
       "      <th>year</th>\n",
       "      <th>period</th>\n",
       "      <th>value</th>\n",
       "    </tr>\n",
       "  </thead>\n",
       "  <tbody>\n",
       "    <tr>\n",
       "      <th>10623</th>\n",
       "      <td>APU0000710211</td>\n",
       "      <td>2018</td>\n",
       "      <td>M11</td>\n",
       "      <td>-</td>\n",
       "    </tr>\n",
       "    <tr>\n",
       "      <th>48494</th>\n",
       "      <td>APU0200710211</td>\n",
       "      <td>2018</td>\n",
       "      <td>M11</td>\n",
       "      <td>-</td>\n",
       "    </tr>\n",
       "    <tr>\n",
       "      <th>78341</th>\n",
       "      <td>APU030072511</td>\n",
       "      <td>2018</td>\n",
       "      <td>M11</td>\n",
       "      <td>-</td>\n",
       "    </tr>\n",
       "    <tr>\n",
       "      <th>78342</th>\n",
       "      <td>APU030072511</td>\n",
       "      <td>2018</td>\n",
       "      <td>M12</td>\n",
       "      <td>-</td>\n",
       "    </tr>\n",
       "    <tr>\n",
       "      <th>83882</th>\n",
       "      <td>APU035072511</td>\n",
       "      <td>2018</td>\n",
       "      <td>M11</td>\n",
       "      <td>-</td>\n",
       "    </tr>\n",
       "    <tr>\n",
       "      <th>83883</th>\n",
       "      <td>APU035072511</td>\n",
       "      <td>2018</td>\n",
       "      <td>M12</td>\n",
       "      <td>-</td>\n",
       "    </tr>\n",
       "    <tr>\n",
       "      <th>160766</th>\n",
       "      <td>APUS30072511</td>\n",
       "      <td>2018</td>\n",
       "      <td>M11</td>\n",
       "      <td>-</td>\n",
       "    </tr>\n",
       "    <tr>\n",
       "      <th>160767</th>\n",
       "      <td>APUS30072511</td>\n",
       "      <td>2018</td>\n",
       "      <td>M12</td>\n",
       "      <td>-</td>\n",
       "    </tr>\n",
       "  </tbody>\n",
       "</table>\n",
       "</div>"
      ],
      "text/plain": [
       "                series_id  year period value\n",
       "10623   APU0000710211      2018    M11     -\n",
       "48494   APU0200710211      2018    M11     -\n",
       "78341   APU030072511       2018    M11     -\n",
       "78342   APU030072511       2018    M12     -\n",
       "83882   APU035072511       2018    M11     -\n",
       "83883   APU035072511       2018    M12     -\n",
       "160766  APUS30072511       2018    M11     -\n",
       "160767  APUS30072511       2018    M12     -"
      ]
     },
     "execution_count": 9,
     "metadata": {},
     "output_type": "execute_result"
    },
    {
     "data": {
      "text/html": [
       "<div>\n",
       "<style scoped>\n",
       "    .dataframe tbody tr th:only-of-type {\n",
       "        vertical-align: middle;\n",
       "    }\n",
       "\n",
       "    .dataframe tbody tr th {\n",
       "        vertical-align: top;\n",
       "    }\n",
       "\n",
       "    .dataframe thead th {\n",
       "        text-align: right;\n",
       "    }\n",
       "</style>\n",
       "<table border=\"1\" class=\"dataframe\">\n",
       "  <thead>\n",
       "    <tr style=\"text-align: right;\">\n",
       "      <th></th>\n",
       "      <th>series_id</th>\n",
       "      <th>year</th>\n",
       "      <th>period</th>\n",
       "      <th>value</th>\n",
       "    </tr>\n",
       "  </thead>\n",
       "  <tbody>\n",
       "  </tbody>\n",
       "</table>\n",
       "</div>"
      ],
      "text/plain": [
       "Empty DataFrame\n",
       "Columns: [series_id, year, period, value]\n",
       "Index: []"
      ]
     },
     "execution_count": 9,
     "metadata": {},
     "output_type": "execute_result"
    }
   ],
   "source": [
    "# Float conversion wasn't working, so let's search for non-numerical characters.\n",
    "# Some values are listed as '-'; let's drop those first.\n",
    "ap_df[ap_df['value']=='-']\n",
    "ap_df = ap_df[ap_df['value']!='-']\n",
    "ap_df[ap_df['value']=='-']"
   ]
  },
  {
   "cell_type": "code",
   "execution_count": 10,
   "id": "586e7109",
   "metadata": {},
   "outputs": [
    {
     "name": "stdout",
     "output_type": "stream",
     "text": [
      "<class 'pandas.core.frame.DataFrame'>\n",
      "Int64Index: 189036 entries, 0 to 189043\n",
      "Data columns (total 4 columns):\n",
      " #   Column     Non-Null Count   Dtype \n",
      "---  ------     --------------   ----- \n",
      " 0   series_id  189036 non-null  object\n",
      " 1   year       189036 non-null  int64 \n",
      " 2   period     189036 non-null  object\n",
      " 3   value      189036 non-null  object\n",
      "dtypes: int64(1), object(3)\n",
      "memory usage: 7.2+ MB\n",
      "<class 'pandas.core.frame.DataFrame'>\n",
      "Int64Index: 189036 entries, 0 to 189043\n",
      "Data columns (total 4 columns):\n",
      " #   Column     Non-Null Count   Dtype  \n",
      "---  ------     --------------   -----  \n",
      " 0   series_id  189036 non-null  object \n",
      " 1   year       189036 non-null  int64  \n",
      " 2   period     189036 non-null  object \n",
      " 3   value      189036 non-null  float64\n",
      "dtypes: float64(1), int64(1), object(2)\n",
      "memory usage: 7.2+ MB\n"
     ]
    }
   ],
   "source": [
    "# Now we can convert the values to type float.\n",
    "ap_df.info()\n",
    "ap_df['value'] = ap_df['value'].apply(float)\n",
    "ap_df.info()"
   ]
  },
  {
   "cell_type": "markdown",
   "id": "dea8be49",
   "metadata": {},
   "source": [
    "### There are 1048 unique series_id values."
   ]
  },
  {
   "cell_type": "code",
   "execution_count": 11,
   "id": "a90e1911",
   "metadata": {},
   "outputs": [
    {
     "data": {
      "text/plain": [
       "series_id     1048\n",
       "year            28\n",
       "period          12\n",
       "value        26191\n",
       "dtype: int64"
      ]
     },
     "execution_count": 11,
     "metadata": {},
     "output_type": "execute_result"
    }
   ],
   "source": [
    "ap_df.nunique()"
   ]
  },
  {
   "cell_type": "markdown",
   "id": "90997740",
   "metadata": {},
   "source": [
    "## area_df"
   ]
  },
  {
   "cell_type": "code",
   "execution_count": 12,
   "id": "6d707062",
   "metadata": {},
   "outputs": [
    {
     "data": {
      "text/html": [
       "<div>\n",
       "<style scoped>\n",
       "    .dataframe tbody tr th:only-of-type {\n",
       "        vertical-align: middle;\n",
       "    }\n",
       "\n",
       "    .dataframe tbody tr th {\n",
       "        vertical-align: top;\n",
       "    }\n",
       "\n",
       "    .dataframe thead th {\n",
       "        text-align: right;\n",
       "    }\n",
       "</style>\n",
       "<table border=\"1\" class=\"dataframe\">\n",
       "  <thead>\n",
       "    <tr style=\"text-align: right;\">\n",
       "      <th></th>\n",
       "      <th>area_code</th>\n",
       "      <th>area_name</th>\n",
       "    </tr>\n",
       "  </thead>\n",
       "  <tbody>\n",
       "    <tr>\n",
       "      <th>0</th>\n",
       "      <td>0000</td>\n",
       "      <td>U.S. city average</td>\n",
       "    </tr>\n",
       "    <tr>\n",
       "      <th>1</th>\n",
       "      <td>0100</td>\n",
       "      <td>Northeast</td>\n",
       "    </tr>\n",
       "    <tr>\n",
       "      <th>2</th>\n",
       "      <td>0110</td>\n",
       "      <td>New England</td>\n",
       "    </tr>\n",
       "    <tr>\n",
       "      <th>3</th>\n",
       "      <td>0120</td>\n",
       "      <td>Middle Atlantic</td>\n",
       "    </tr>\n",
       "    <tr>\n",
       "      <th>4</th>\n",
       "      <td>0200</td>\n",
       "      <td>Midwest</td>\n",
       "    </tr>\n",
       "  </tbody>\n",
       "</table>\n",
       "</div>"
      ],
      "text/plain": [
       "  area_code          area_name\n",
       "0      0000  U.S. city average\n",
       "1      0100          Northeast\n",
       "2      0110        New England\n",
       "3      0120    Middle Atlantic\n",
       "4      0200            Midwest"
      ]
     },
     "execution_count": 12,
     "metadata": {},
     "output_type": "execute_result"
    },
    {
     "name": "stdout",
     "output_type": "stream",
     "text": [
      "<class 'pandas.core.frame.DataFrame'>\n",
      "RangeIndex: 74 entries, 0 to 73\n",
      "Data columns (total 2 columns):\n",
      " #   Column     Non-Null Count  Dtype \n",
      "---  ------     --------------  ----- \n",
      " 0   area_code  74 non-null     object\n",
      " 1   area_name  74 non-null     object\n",
      "dtypes: object(2)\n",
      "memory usage: 1.3+ KB\n"
     ]
    }
   ],
   "source": [
    "area_df.head()\n",
    "area_df.info()"
   ]
  },
  {
   "cell_type": "markdown",
   "id": "f8c35070",
   "metadata": {},
   "source": [
    "### All of the area codes are 4 digits long."
   ]
  },
  {
   "cell_type": "code",
   "execution_count": 13,
   "id": "1dc2fc63",
   "metadata": {},
   "outputs": [
    {
     "data": {
      "text/plain": [
       "4    74\n",
       "Name: area_code, dtype: int64"
      ]
     },
     "execution_count": 13,
     "metadata": {},
     "output_type": "execute_result"
    }
   ],
   "source": [
    "area_df['area_code'].apply(len).value_counts()"
   ]
  },
  {
   "cell_type": "markdown",
   "id": "653aa23d",
   "metadata": {},
   "source": [
    "### There are 74 unique area codes, each corresponding to some region ( the meaning of some, like 'West - Size Class A', are not readily apparent; size class may have to do with population )."
   ]
  },
  {
   "cell_type": "code",
   "execution_count": 14,
   "id": "e4586647",
   "metadata": {},
   "outputs": [
    {
     "data": {
      "text/plain": [
       "area_code    74\n",
       "area_name    74\n",
       "dtype: int64"
      ]
     },
     "execution_count": 14,
     "metadata": {},
     "output_type": "execute_result"
    }
   ],
   "source": [
    "area_df.nunique()"
   ]
  },
  {
   "cell_type": "code",
   "execution_count": 15,
   "id": "0f2da79c",
   "metadata": {},
   "outputs": [
    {
     "data": {
      "text/plain": [
       "array(['U.S. city average', 'Northeast', 'New England', 'Middle Atlantic',\n",
       "       'Midwest', 'East North Central', 'West North Central', 'South',\n",
       "       'South Atlantic', 'East South Central', 'West South Central',\n",
       "       'West', 'Mountain', 'Pacific', 'Pittsburgh, PA',\n",
       "       'Buffalo-Niagara Falls, NY', 'Scranton, PA', 'Cleveland-Akron, OH',\n",
       "       'Milwaukee-Racine, WI', 'Cincinnati-Hamilton, OH-KY-IN',\n",
       "       'Kansas City, MO-KS', 'Washington-Baltimore, DC-MD-VA-WV',\n",
       "       'Washington, DC-MD-VA', 'Baltimore, MD',\n",
       "       'Los Angeles-Riverside-Orange County, CA', 'Portland-Salem, OR-WA',\n",
       "       'City size B', 'Northeast size B', 'North Central size B',\n",
       "       'South size B', 'West size B', 'City size C', 'Northeast size C',\n",
       "       'North Central size C', 'South size C', 'West size C',\n",
       "       'Size Class D', 'Northeast - Size Class D',\n",
       "       'Midwest - Size Class D', 'South - Size Class D',\n",
       "       'West - Size Class D', 'Size Class B/C',\n",
       "       'Northeast - Size Class B/C', 'Midwest - Size Class B/C',\n",
       "       'South - Size Class B/C', 'West - Size Class B/C', 'Size Class A',\n",
       "       'Northeast - Size Class A', 'Boston-Cambridge-Newton, MA-NH',\n",
       "       'New York-Newark-Jersey City, NY-NJ-PA',\n",
       "       'Philadelphia-Camden-Wilmington, PA-NJ-DE-MD',\n",
       "       'Midwest - Size Class A', 'Chicago-Naperville-Elgin, IL-IN-WI',\n",
       "       'Detroit-Warren-Dearborn, MI',\n",
       "       'Minneapolis-St.Paul-Bloomington, MN-WI', 'St. Louis, MO-IL',\n",
       "       'South - Size Class A',\n",
       "       'Washington-Arlington-Alexandria, DC-VA-MD-WV',\n",
       "       'Miami-Fort Lauderdale-West Palm Beach, FL',\n",
       "       'Atlanta-Sandy Springs-Roswell, GA',\n",
       "       'Tampa-St. Petersburg-Clearwater, FL',\n",
       "       'Baltimore-Columbia-Towson, MD', 'Dallas-Fort Worth-Arlington, TX',\n",
       "       'Houston-The Woodlands-Sugar Land, TX', 'West - Size Class A',\n",
       "       'Phoenix-Mesa-Scottsdale, AZ', 'Denver-Aurora-Lakewood, CO',\n",
       "       'Los Angeles-Long Beach-Anaheim, CA',\n",
       "       'San Francisco-Oakland-Hayward, CA',\n",
       "       'Riverside-San Bernardino-Ontario, CA',\n",
       "       'Seattle-Tacoma-Bellevue WA', 'San Diego-Carlsbad, CA',\n",
       "       'Urban Hawaii', 'Urban Alaska'], dtype=object)"
      ]
     },
     "execution_count": 15,
     "metadata": {},
     "output_type": "execute_result"
    }
   ],
   "source": [
    "area_df['area_name'].unique()"
   ]
  },
  {
   "cell_type": "markdown",
   "id": "23ae65a0",
   "metadata": {},
   "source": [
    "## item_df"
   ]
  },
  {
   "cell_type": "code",
   "execution_count": 16,
   "id": "005d766e",
   "metadata": {},
   "outputs": [
    {
     "data": {
      "text/html": [
       "<div>\n",
       "<style scoped>\n",
       "    .dataframe tbody tr th:only-of-type {\n",
       "        vertical-align: middle;\n",
       "    }\n",
       "\n",
       "    .dataframe tbody tr th {\n",
       "        vertical-align: top;\n",
       "    }\n",
       "\n",
       "    .dataframe thead th {\n",
       "        text-align: right;\n",
       "    }\n",
       "</style>\n",
       "<table border=\"1\" class=\"dataframe\">\n",
       "  <thead>\n",
       "    <tr style=\"text-align: right;\">\n",
       "      <th></th>\n",
       "      <th>item_code</th>\n",
       "      <th>item_name</th>\n",
       "    </tr>\n",
       "  </thead>\n",
       "  <tbody>\n",
       "    <tr>\n",
       "      <th>0</th>\n",
       "      <td>701111</td>\n",
       "      <td>Flour, white, all purpose, per lb. (453.6 gm)</td>\n",
       "    </tr>\n",
       "    <tr>\n",
       "      <th>1</th>\n",
       "      <td>701311</td>\n",
       "      <td>Rice, white, long grain, precooked (cost per p...</td>\n",
       "    </tr>\n",
       "    <tr>\n",
       "      <th>2</th>\n",
       "      <td>701312</td>\n",
       "      <td>Rice, white, long grain, uncooked, per lb. (45...</td>\n",
       "    </tr>\n",
       "    <tr>\n",
       "      <th>3</th>\n",
       "      <td>701321</td>\n",
       "      <td>Spaghetti (cost per pound/453.6 grams)</td>\n",
       "    </tr>\n",
       "    <tr>\n",
       "      <th>4</th>\n",
       "      <td>701322</td>\n",
       "      <td>Spaghetti and macaroni, per lb. (453.6 gm)</td>\n",
       "    </tr>\n",
       "  </tbody>\n",
       "</table>\n",
       "</div>"
      ],
      "text/plain": [
       "  item_code                                          item_name\n",
       "0    701111      Flour, white, all purpose, per lb. (453.6 gm)\n",
       "1    701311  Rice, white, long grain, precooked (cost per p...\n",
       "2    701312  Rice, white, long grain, uncooked, per lb. (45...\n",
       "3    701321             Spaghetti (cost per pound/453.6 grams)\n",
       "4    701322         Spaghetti and macaroni, per lb. (453.6 gm)"
      ]
     },
     "execution_count": 16,
     "metadata": {},
     "output_type": "execute_result"
    },
    {
     "name": "stdout",
     "output_type": "stream",
     "text": [
      "<class 'pandas.core.frame.DataFrame'>\n",
      "RangeIndex: 160 entries, 0 to 159\n",
      "Data columns (total 2 columns):\n",
      " #   Column     Non-Null Count  Dtype \n",
      "---  ------     --------------  ----- \n",
      " 0   item_code  160 non-null    object\n",
      " 1   item_name  160 non-null    object\n",
      "dtypes: object(2)\n",
      "memory usage: 2.6+ KB\n"
     ]
    }
   ],
   "source": [
    "item_df.head()\n",
    "item_df.info()"
   ]
  },
  {
   "cell_type": "markdown",
   "id": "08b676c0",
   "metadata": {},
   "source": [
    "### There are 160 unique item codes, each corresponding to some product."
   ]
  },
  {
   "cell_type": "code",
   "execution_count": 17,
   "id": "d8c0683e",
   "metadata": {},
   "outputs": [
    {
     "data": {
      "text/plain": [
       "item_code    160\n",
       "item_name    160\n",
       "dtype: int64"
      ]
     },
     "execution_count": 17,
     "metadata": {},
     "output_type": "execute_result"
    },
    {
     "data": {
      "text/plain": [
       "array(['Flour, white, all purpose, per lb. (453.6 gm)',\n",
       "       'Rice, white, long grain, precooked (cost per pound/453.6 grams)',\n",
       "       'Rice, white, long grain, uncooked, per lb. (453.6 gm)',\n",
       "       'Spaghetti (cost per pound/453.6 grams)',\n",
       "       'Spaghetti and macaroni, per lb. (453.6 gm)',\n",
       "       'Bread, white, pan, per lb. (453.6 gm)',\n",
       "       'Bread, French, per lb. (453.6 gm)',\n",
       "       'Bread, rye, pan (cost per pound/453.6 grams)',\n",
       "       'Bread, whole wheat, pan, per lb. (453.6 gm)',\n",
       "       'Bread, wheat blend, pan (cost per pound/453.6 grams)',\n",
       "       'Rolls, hamburger (cost per pound/453.6 grams)',\n",
       "       'Cupcakes, chocolate (cost per pound/453.6 grams)',\n",
       "       'Cookies, chocolate chip, per lb. (453.6 gm)',\n",
       "       'Crackers, soda, salted, per lb. (453.6 gm)',\n",
       "       'Ground chuck, 100% beef, per lb. (453.6 gm)',\n",
       "       'Ground beef, 100% beef, per lb. (453.6 gm)',\n",
       "       'Ground beef, lean and extra lean, per lb. (453.6 gm)',\n",
       "       'Chuck roast, USDA Choice, bone-in, per lb. (453.6 gm)',\n",
       "       'Chuck roast, graded and ungraded, excluding USDA Prime and Choice, per lb. (453.6 gm)',\n",
       "       'Chuck roast, USDA Choice, boneless, per lb. (453.6 gm)',\n",
       "       'Round roast, USDA Choice, boneless, per lb. (453.6 gm)',\n",
       "       'Round roast, graded and ungraded, excluding USDA Prime and Choice, per lb. (453.6 gm)',\n",
       "       'Rib roast, USDA Choice, bone-in, per lb. (453.6 gm)',\n",
       "       'Steak, chuck, U.S. choice, bone-in (cost per pound/453.6 grams)',\n",
       "       'Steak, T-Bone, USDA Choice, bone-in, per lb. (453.6 gm)',\n",
       "       'Steak, porterhouse, U.S. choice, bone-in (cost per pound/453.6 grams)',\n",
       "       'Steak, rib eye, USDA Choice, boneless, per lb. (453.6 gm)',\n",
       "       'Short ribs, any primal source, bone-in, per lb. (453.6 gm)',\n",
       "       'Beef for stew, boneless, per lb. (453.6 gm)',\n",
       "       'Steak, round, USDA Choice, boneless, per lb. (453.6 gm)',\n",
       "       'Steak, round, graded and ungraded, excluding USDA Prime and Choice, per lb. (453.6 gm)',\n",
       "       'Steak, sirloin, USDA Choice, bone-in, per lb. (453.6 gm)',\n",
       "       'Steak, sirloin, graded and ungraded, excluding USDA Prime and Choice, per lb. (453.6 gm)',\n",
       "       'Steak, sirloin, USDA Choice, boneless, per lb. (453.6 gm)',\n",
       "       'Bacon, sliced, per lb. (453.6 gm)',\n",
       "       'Chops, center cut, bone-in, per lb. (453.6 gm)',\n",
       "       'Chops, boneless, per lb. (453.6 gm)',\n",
       "       'Ham, rump or shank half, bone-in, smoked,per lb. (453.6 gm)',\n",
       "       'Ham, boneless, excluding canned, per lb. (453.6 gm)',\n",
       "       'Ham, rump portion, bone-in, smoked (cost per pound/453.6 grams)',\n",
       "       'Ham, shank portion, bone-in, smoked (cost per pound/453.6 grams)',\n",
       "       'Ham, canned, 3 or 5 lbs, per lb. (453.6 gm)',\n",
       "       'Pork shoulder roast, blade boston, bone-in (cost per pound/453.6 grams)',\n",
       "       'Pork sirloin roast, bone-in (cost per pound/453.6 grams)',\n",
       "       'Shoulder picnic, bone-in, smoked, per lb. (453.6 gm)',\n",
       "       'Sausage, fresh, loose, per lb. (453.6 gm)',\n",
       "       'Frankfurters, all meat or all beef, per lb. (453.6 gm)',\n",
       "       'Bologna, all beef or mixed, per lb. (453.6 gm)',\n",
       "       'Beef liver (cost per pound/453.6 grams)',\n",
       "       'Lamb and mutton, bone-in, per lb. (453.6 gm)',\n",
       "       'Chicken, fresh, whole, per lb. (453.6 gm)',\n",
       "       'Chicken breast, bone-in, per lb. (453.6 gm)',\n",
       "       'Chicken legs, bone-in, per lb. (453.6 gm)',\n",
       "       'Turkey, frozen, whole, per lb. (453.6 gm)',\n",
       "       'Tuna, light, chunk, per lb. (453.6 gm)',\n",
       "       'Eggs, grade A, large, per doz.',\n",
       "       'Eggs, grade AA, large, per doz.',\n",
       "       'Milk, fresh, whole, fortified, per 1/2 gal. (1.9 lit)',\n",
       "       'Milk, fresh, whole, fortified, per gal. (3.8 lit)',\n",
       "       'Milk, fresh, skim (cost per one-half gallon/1.9 liters)',\n",
       "       'Milk, fresh, low fat, per 1/2 gal. (1.9 lit)',\n",
       "       'Milk, fresh, low fat, per gal. (3.8 lit)',\n",
       "       'Butter, salted, grade AA, stick, per lb. (453.6 gm)',\n",
       "       'Yogurt, natural, fruit flavored, per 8 oz. (226.8 gm)',\n",
       "       'American processed cheese, per lb. (453.6 gm)',\n",
       "       'Cheddar cheese, natural, per lb. (453.6 gm)',\n",
       "       'Ice cream, prepackaged, bulk, regular, per 1/2 gal. (1.9 lit)',\n",
       "       'Apples, Red Delicious, per lb. (453.6 gm)',\n",
       "       'Bananas, per lb. (453.6 gm)',\n",
       "       'Oranges, Navel, per lb. (453.6 gm)',\n",
       "       'Oranges, Valencia, per lb. (453.6 gm)',\n",
       "       'Grapefruit, per lb. (453.6 gm)', 'Lemons, per lb. (453.6 gm)',\n",
       "       'Pears, Anjou, per lb. (453.6 gm)', 'Peaches, per lb. (453.6 gm)',\n",
       "       'Strawberries, dry pint, per 12 oz. (340.2 gm)',\n",
       "       'Grapes, Emperor or Tokay (cost per pound/453.6 grams)',\n",
       "       'Grapes, Thompson Seedless, per lb. (453.6 gm)',\n",
       "       'Cherries, per lb. (453.6 gm)',\n",
       "       'Potatoes, white (cost per pound/453.6 grams)',\n",
       "       'Potatoes, white, per lb. (453.6 gm)',\n",
       "       'Lettuce, iceberg, per lb. (453.6 gm)',\n",
       "       'Tomatoes, field grown, per lb. (453.6 gm)',\n",
       "       'Cabbage, per lb. (453.6 gm)', 'Celery, per lb. (453.6 gm)',\n",
       "       'Carrots, short trimmed and topped, per lb. (453.6 gm)',\n",
       "       'Onions, dry yellow, per lb. (453.6 gm)',\n",
       "       'Onions, green scallions (cost per pound/453.6 grams)',\n",
       "       'Peppers, sweet, per lb. (453.6 gm)',\n",
       "       'Corn on the cob, per lb. (453.6 gm)',\n",
       "       'Radishes (cost per pound/453.6 grams)',\n",
       "       'Cucumbers, per lb. (453.6 gm)',\n",
       "       'Beans, green, snap (cost per pound/453.6 grams)',\n",
       "       'Mushrooms (cost per pound/453.6 grams)',\n",
       "       'Broccoli, per lb. (453.6 gm)',\n",
       "       'Orange juice, frozen concentrate, 12 oz. can, per 16 oz. (473.2 ml)',\n",
       "       'Apple Sauce, any variety, all sizes, per lb. (453.6 gm)',\n",
       "       'Peaches, any variety, all sizes, per lb. (453.6 gm)',\n",
       "       'Potatoes, frozen, French fried, per lb. (453.6 gm)',\n",
       "       'Corn, canned, any style, all sizes, per lb. (453.6 gm)',\n",
       "       'Tomatoes, canned, whole, per lb. (453.6 gm)',\n",
       "       'Tomatoes, canned, any type, all sizes,  per lb. (453.6 gm)',\n",
       "       'Beans, dried, any type, all sizes, per lb. (453.6 gm)',\n",
       "       'Hard candy, solid (cost per pound/453.6 grams)',\n",
       "       'Sugar, white, all sizes, per lb. (453.6 gm)',\n",
       "       'Sugar, white, 33-80 oz. pkg, per lb. (453.6 gm)',\n",
       "       'Jelly (cost per pound/453.6 grams)',\n",
       "       'Margarine, vegetable oil blends, stick (cost per pound/453.6 grams)',\n",
       "       'Margarine, vegetable oil blends, soft, tubs (cost per pound/453.6 grams)',\n",
       "       'Margarine, stick, per lb. (453.6 gm)',\n",
       "       'Margarine, soft, tubs, per lb. (453.6 gm)',\n",
       "       'Shortening, vegetable oil blends, per lb. (453.6 gm)',\n",
       "       'Peanut butter, creamy, all sizes, per lb. (453.6 gm)',\n",
       "       'Cola, non-diet, return bottles, 6 or 8 pack (cost per 16 ounces/473.2 ml)',\n",
       "       'Cola, non diet, return bottles, 24-40 ounce (cost per 16 ounces/473.2 ml)',\n",
       "       'Cola, nondiet, cans, 72 oz. 6 pk., per 16 oz. (473.2 ml)',\n",
       "       'Cola, nondiet, per 2 liters (67.6 oz)',\n",
       "       'Coffee, 100%, ground roast, all sizes, per lb. (453.6 gm)',\n",
       "       'Coffee, 100%, ground roast, 13.1-20 oz. can, per lb. (453.6 gm)',\n",
       "       'Coffee, instant, plain, regular, 6.1-14 ounce (cost per 16 ounces/453.6 grams)',\n",
       "       'Coffee, freeze dried, regular, all sizes (cost per 16 ounces/453.6 grams)',\n",
       "       'Coffee, freeze dried, decaf., all sizes (cost per 16 ounces/453.6 grams)',\n",
       "       'Coffee, instant, plain, regular, all sizes, per lb. (453.6 gm)',\n",
       "       'Coffee, instant, plain, 9.1-14 ounce (cost per 16 ounces/453.6 grams)',\n",
       "       'Coffee, instant, plain, 3.1-6 ounce (cost per 16 ounces/453.6 grams)',\n",
       "       'Coffee, freeze dried, plain, 3.1-9 ounce (cost per 16 ounces/453.6 grams)',\n",
       "       'Potato chips, per 16 oz.',\n",
       "       'Pork and beans, canned (cost per 16 ounces/453.6 grams)',\n",
       "       'Malt beverages, all types, all sizes, any origin, per 16 oz. (473.2 ml)',\n",
       "       'Bourbon whiskey, 375 ml-1.75 liter (cost per 25.4 ounces/750 ml)',\n",
       "       'Vodka, domestic, 375 ml-1.75 liter (cost per 25.4 ounces/750 ml)',\n",
       "       'Vodka, all types, all sizes, any origin, per 1 liter (33.8 oz)',\n",
       "       'Wine, red and white table, all sizes, any origin, per 1 liter (33.8 oz)',\n",
       "       'Fuel oil #2 per gallon (3.785 liters)',\n",
       "       'Utility (piped) gas - 40 therms', 'Electricity per KWH',\n",
       "       'Utility (piped) gas - 100 therms',\n",
       "       'Utility (piped) gas per therm', 'Electricity per 500 KWH',\n",
       "       'Gasoline, leaded regular (cost per gallon/3.8 liters)',\n",
       "       'Gasoline, leaded premium (cost per gallon/3.8 liters)',\n",
       "       'Gasoline, unleaded regular, per gallon/3.785 liters',\n",
       "       'Gasoline, unleaded midgrade, per gallon/3.785 liters',\n",
       "       'Gasoline, unleaded premium, per gallon/3.785 liters',\n",
       "       'Automotive diesel fuel, per gallon/3.785 liters',\n",
       "       'Gasoline, all types, per gallon/3.785 liters',\n",
       "       'All uncooked ground beef, per lb. (453.6 gm)',\n",
       "       'All Uncooked Beef Roasts, per lb. (453.6 gm)',\n",
       "       'All Uncooked Beef Steaks, per lb. (453.6 gm)',\n",
       "       'All Uncooked Other Beef (Excluding Veal), per lb. (453.6 gm)',\n",
       "       'All Ham (Excluding Canned Ham and Luncheon Slices), per lb. (453.6 gm)',\n",
       "       'All Pork Chops, per lb. (453.6 gm)',\n",
       "       'All Other Pork (Excluding Canned Ham and Luncheon Slices), per lb. (453.6 gm)',\n",
       "       'Chicken breast, boneless, per lb. (453.6 gm)',\n",
       "       'Milk, fresh, low-fat, reduced fat, skim, per gal. (3.8 lit)',\n",
       "       'Yogurt, per 8 oz. (226.8 gm)',\n",
       "       'Lettuce, romaine, per lb. (453.6 gm)',\n",
       "       'All soft drinks, per 2 liters (67.6 oz)',\n",
       "       'All soft drinks, 12 pk, 12 oz., cans, per 12 oz. (354.9 ml)',\n",
       "       'Butter, stick, per lb. (453.6 gm)'], dtype=object)"
      ]
     },
     "execution_count": 17,
     "metadata": {},
     "output_type": "execute_result"
    }
   ],
   "source": [
    "item_df.nunique()\n",
    "item_df['item_name'].unique()"
   ]
  },
  {
   "cell_type": "markdown",
   "id": "d581b575",
   "metadata": {},
   "source": [
    "## period_df"
   ]
  },
  {
   "cell_type": "markdown",
   "id": "acdcf3f4",
   "metadata": {},
   "source": [
    "### There are 13 unique periods, 12 corresponding to the months of the year, and 1 corresponding to an annual average."
   ]
  },
  {
   "cell_type": "code",
   "execution_count": 18,
   "id": "38af031f",
   "metadata": {},
   "outputs": [
    {
     "data": {
      "text/html": [
       "<div>\n",
       "<style scoped>\n",
       "    .dataframe tbody tr th:only-of-type {\n",
       "        vertical-align: middle;\n",
       "    }\n",
       "\n",
       "    .dataframe tbody tr th {\n",
       "        vertical-align: top;\n",
       "    }\n",
       "\n",
       "    .dataframe thead th {\n",
       "        text-align: right;\n",
       "    }\n",
       "</style>\n",
       "<table border=\"1\" class=\"dataframe\">\n",
       "  <thead>\n",
       "    <tr style=\"text-align: right;\">\n",
       "      <th></th>\n",
       "      <th>period</th>\n",
       "      <th>period_abbr</th>\n",
       "      <th>period_name</th>\n",
       "    </tr>\n",
       "  </thead>\n",
       "  <tbody>\n",
       "    <tr>\n",
       "      <th>0</th>\n",
       "      <td>M01</td>\n",
       "      <td>JAN</td>\n",
       "      <td>January</td>\n",
       "    </tr>\n",
       "    <tr>\n",
       "      <th>1</th>\n",
       "      <td>M02</td>\n",
       "      <td>FEB</td>\n",
       "      <td>February</td>\n",
       "    </tr>\n",
       "    <tr>\n",
       "      <th>2</th>\n",
       "      <td>M03</td>\n",
       "      <td>MAR</td>\n",
       "      <td>March</td>\n",
       "    </tr>\n",
       "    <tr>\n",
       "      <th>3</th>\n",
       "      <td>M04</td>\n",
       "      <td>APR</td>\n",
       "      <td>April</td>\n",
       "    </tr>\n",
       "    <tr>\n",
       "      <th>4</th>\n",
       "      <td>M05</td>\n",
       "      <td>MAY</td>\n",
       "      <td>May</td>\n",
       "    </tr>\n",
       "    <tr>\n",
       "      <th>5</th>\n",
       "      <td>M06</td>\n",
       "      <td>JUN</td>\n",
       "      <td>June</td>\n",
       "    </tr>\n",
       "    <tr>\n",
       "      <th>6</th>\n",
       "      <td>M07</td>\n",
       "      <td>JUL</td>\n",
       "      <td>July</td>\n",
       "    </tr>\n",
       "    <tr>\n",
       "      <th>7</th>\n",
       "      <td>M08</td>\n",
       "      <td>AUG</td>\n",
       "      <td>August</td>\n",
       "    </tr>\n",
       "    <tr>\n",
       "      <th>8</th>\n",
       "      <td>M09</td>\n",
       "      <td>SEP</td>\n",
       "      <td>September</td>\n",
       "    </tr>\n",
       "    <tr>\n",
       "      <th>9</th>\n",
       "      <td>M10</td>\n",
       "      <td>OCT</td>\n",
       "      <td>October</td>\n",
       "    </tr>\n",
       "    <tr>\n",
       "      <th>10</th>\n",
       "      <td>M11</td>\n",
       "      <td>NOV</td>\n",
       "      <td>November</td>\n",
       "    </tr>\n",
       "    <tr>\n",
       "      <th>11</th>\n",
       "      <td>M12</td>\n",
       "      <td>DEC</td>\n",
       "      <td>December</td>\n",
       "    </tr>\n",
       "    <tr>\n",
       "      <th>12</th>\n",
       "      <td>M13</td>\n",
       "      <td>AN AV</td>\n",
       "      <td>Annual Average</td>\n",
       "    </tr>\n",
       "  </tbody>\n",
       "</table>\n",
       "</div>"
      ],
      "text/plain": [
       "   period period_abbr     period_name\n",
       "0     M01         JAN         January\n",
       "1     M02         FEB        February\n",
       "2     M03         MAR           March\n",
       "3     M04         APR           April\n",
       "4     M05         MAY             May\n",
       "5     M06         JUN            June\n",
       "6     M07         JUL            July\n",
       "7     M08         AUG          August\n",
       "8     M09         SEP       September\n",
       "9     M10         OCT         October\n",
       "10    M11         NOV        November\n",
       "11    M12         DEC        December\n",
       "12    M13       AN AV  Annual Average"
      ]
     },
     "execution_count": 18,
     "metadata": {},
     "output_type": "execute_result"
    }
   ],
   "source": [
    "period_df"
   ]
  },
  {
   "cell_type": "markdown",
   "id": "bb9b4329",
   "metadata": {},
   "source": [
    "## series_df"
   ]
  },
  {
   "cell_type": "code",
   "execution_count": 19,
   "id": "de645460",
   "metadata": {},
   "outputs": [
    {
     "data": {
      "text/html": [
       "<div>\n",
       "<style scoped>\n",
       "    .dataframe tbody tr th:only-of-type {\n",
       "        vertical-align: middle;\n",
       "    }\n",
       "\n",
       "    .dataframe tbody tr th {\n",
       "        vertical-align: top;\n",
       "    }\n",
       "\n",
       "    .dataframe thead th {\n",
       "        text-align: right;\n",
       "    }\n",
       "</style>\n",
       "<table border=\"1\" class=\"dataframe\">\n",
       "  <thead>\n",
       "    <tr style=\"text-align: right;\">\n",
       "      <th></th>\n",
       "      <th>series_id</th>\n",
       "      <th>area_code</th>\n",
       "      <th>item_code</th>\n",
       "      <th>series_title</th>\n",
       "      <th>footnote_codes</th>\n",
       "      <th>begin_year</th>\n",
       "      <th>begin_period</th>\n",
       "      <th>end_year</th>\n",
       "      <th>end_period</th>\n",
       "    </tr>\n",
       "  </thead>\n",
       "  <tbody>\n",
       "    <tr>\n",
       "      <th>0</th>\n",
       "      <td>APU0000701111</td>\n",
       "      <td>0000</td>\n",
       "      <td>701111</td>\n",
       "      <td>Flour, white, all purpose, per lb. (453.6 gm) ...</td>\n",
       "      <td>NaN</td>\n",
       "      <td>1980</td>\n",
       "      <td>M01</td>\n",
       "      <td>2022</td>\n",
       "      <td>M06</td>\n",
       "    </tr>\n",
       "    <tr>\n",
       "      <th>1</th>\n",
       "      <td>APU0000701311</td>\n",
       "      <td>0000</td>\n",
       "      <td>701311</td>\n",
       "      <td>Rice, white, long grain, precooked (cost per p...</td>\n",
       "      <td>NaN</td>\n",
       "      <td>1980</td>\n",
       "      <td>M01</td>\n",
       "      <td>1981</td>\n",
       "      <td>M12</td>\n",
       "    </tr>\n",
       "    <tr>\n",
       "      <th>2</th>\n",
       "      <td>APU0000701312</td>\n",
       "      <td>0000</td>\n",
       "      <td>701312</td>\n",
       "      <td>Rice, white, long grain, uncooked, per lb. (45...</td>\n",
       "      <td>NaN</td>\n",
       "      <td>1980</td>\n",
       "      <td>M01</td>\n",
       "      <td>2022</td>\n",
       "      <td>M06</td>\n",
       "    </tr>\n",
       "    <tr>\n",
       "      <th>3</th>\n",
       "      <td>APU0000701321</td>\n",
       "      <td>0000</td>\n",
       "      <td>701321</td>\n",
       "      <td>Spaghetti (cost per pound/453.6 grams) in U.S....</td>\n",
       "      <td>NaN</td>\n",
       "      <td>1980</td>\n",
       "      <td>M01</td>\n",
       "      <td>1981</td>\n",
       "      <td>M03</td>\n",
       "    </tr>\n",
       "    <tr>\n",
       "      <th>4</th>\n",
       "      <td>APU0000701322</td>\n",
       "      <td>0000</td>\n",
       "      <td>701322</td>\n",
       "      <td>Spaghetti and macaroni, per lb. (453.6 gm) in ...</td>\n",
       "      <td>NaN</td>\n",
       "      <td>1984</td>\n",
       "      <td>M01</td>\n",
       "      <td>2022</td>\n",
       "      <td>M06</td>\n",
       "    </tr>\n",
       "  </tbody>\n",
       "</table>\n",
       "</div>"
      ],
      "text/plain": [
       "   series_id         area_code item_code  \\\n",
       "0  APU0000701111          0000    701111   \n",
       "1  APU0000701311          0000    701311   \n",
       "2  APU0000701312          0000    701312   \n",
       "3  APU0000701321          0000    701321   \n",
       "4  APU0000701322          0000    701322   \n",
       "\n",
       "                                        series_title  footnote_codes  \\\n",
       "0  Flour, white, all purpose, per lb. (453.6 gm) ...             NaN   \n",
       "1  Rice, white, long grain, precooked (cost per p...             NaN   \n",
       "2  Rice, white, long grain, uncooked, per lb. (45...             NaN   \n",
       "3  Spaghetti (cost per pound/453.6 grams) in U.S....             NaN   \n",
       "4  Spaghetti and macaroni, per lb. (453.6 gm) in ...             NaN   \n",
       "\n",
       "   begin_year begin_period  end_year end_period  \n",
       "0        1980          M01      2022        M06  \n",
       "1        1980          M01      1981        M12  \n",
       "2        1980          M01      2022        M06  \n",
       "3        1980          M01      1981        M03  \n",
       "4        1984          M01      2022        M06  "
      ]
     },
     "execution_count": 19,
     "metadata": {},
     "output_type": "execute_result"
    },
    {
     "name": "stdout",
     "output_type": "stream",
     "text": [
      "<class 'pandas.core.frame.DataFrame'>\n",
      "RangeIndex: 1482 entries, 0 to 1481\n",
      "Data columns (total 9 columns):\n",
      " #   Column             Non-Null Count  Dtype  \n",
      "---  ------             --------------  -----  \n",
      " 0   series_id          1482 non-null   object \n",
      " 1   area_code          1482 non-null   object \n",
      " 2   item_code          1482 non-null   object \n",
      " 3   series_title       1482 non-null   object \n",
      " 4   footnote_codes     0 non-null      float64\n",
      " 5   begin_year         1482 non-null   int64  \n",
      " 6   begin_period       1482 non-null   object \n",
      " 7   end_year           1482 non-null   int64  \n",
      " 8   end_period         1482 non-null   object \n",
      "dtypes: float64(1), int64(2), object(6)\n",
      "memory usage: 104.3+ KB\n"
     ]
    }
   ],
   "source": [
    "series_df.head()\n",
    "series_df.info()"
   ]
  },
  {
   "cell_type": "markdown",
   "id": "9575fd1c",
   "metadata": {},
   "source": [
    "### The series_id feature name contains a tab whitespace; let's remove it."
   ]
  },
  {
   "cell_type": "code",
   "execution_count": 20,
   "id": "5689e249",
   "metadata": {},
   "outputs": [
    {
     "data": {
      "text/plain": [
       "Index(['series_id        ', 'area_code', 'item_code', 'series_title',\n",
       "       'footnote_codes', 'begin_year', 'begin_period', 'end_year',\n",
       "       'end_period'],\n",
       "      dtype='object')"
      ]
     },
     "execution_count": 20,
     "metadata": {},
     "output_type": "execute_result"
    },
    {
     "data": {
      "text/plain": [
       "Index(['series_id', 'area_code', 'item_code', 'series_title', 'footnote_codes',\n",
       "       'begin_year', 'begin_period', 'end_year', 'end_period'],\n",
       "      dtype='object')"
      ]
     },
     "execution_count": 20,
     "metadata": {},
     "output_type": "execute_result"
    }
   ],
   "source": [
    "series_df.columns\n",
    "series_df = series_df.rename(columns={'series_id        ':'series_id'})\n",
    "series_df.columns"
   ]
  },
  {
   "cell_type": "markdown",
   "id": "f06de3c7",
   "metadata": {},
   "source": [
    "### There are 1482 unique series_id values, which appear to correspond to a unique series_title value, which lists the item name, the area, and an additional statistical description."
   ]
  },
  {
   "cell_type": "code",
   "execution_count": 21,
   "id": "1b457f10",
   "metadata": {},
   "outputs": [
    {
     "data": {
      "text/plain": [
       "series_id         1482\n",
       "area_code           74\n",
       "item_code          160\n",
       "series_title      1482\n",
       "footnote_codes       0\n",
       "begin_year          30\n",
       "begin_period        12\n",
       "end_year            43\n",
       "end_period          12\n",
       "dtype: int64"
      ]
     },
     "execution_count": 21,
     "metadata": {},
     "output_type": "execute_result"
    },
    {
     "data": {
      "text/plain": [
       "array(['Flour, white, all purpose, per lb. (453.6 gm) in U.S. city average, average price, not seasonally adjusted',\n",
       "       'Rice, white, long grain, precooked (cost per pound/453.6 grams) in U.S. city average, average price, not seasonally adjusted',\n",
       "       'Rice, white, long grain, uncooked, per lb. (453.6 gm) in U.S. city average, average price, not seasonally adjusted',\n",
       "       ...,\n",
       "       'Gasoline, unleaded midgrade, per gallon/3.785 liters in Urban Alaska, average price, not seasonally adjusted',\n",
       "       'Gasoline, unleaded premium, per gallon/3.785 liters in Urban Alaska, average price, not seasonally adjusted',\n",
       "       'Gasoline, all types, per gallon/3.785 liters in Urban Alaska, average price, not seasonally adjusted'],\n",
       "      dtype=object)"
      ]
     },
     "execution_count": 21,
     "metadata": {},
     "output_type": "execute_result"
    }
   ],
   "source": [
    "series_df.nunique()\n",
    "series_df['series_title'].unique()"
   ]
  },
  {
   "cell_type": "markdown",
   "id": "65130576",
   "metadata": {},
   "source": [
    "### All of the series_df data is not seasonally adjusted."
   ]
  },
  {
   "cell_type": "code",
   "execution_count": 22,
   "id": "272b848a",
   "metadata": {},
   "outputs": [
    {
     "data": {
      "text/plain": [
       "0"
      ]
     },
     "execution_count": 22,
     "metadata": {},
     "output_type": "execute_result"
    },
    {
     "data": {
      "text/plain": [
       "1482"
      ]
     },
     "execution_count": 22,
     "metadata": {},
     "output_type": "execute_result"
    }
   ],
   "source": [
    "# series_id 'APS' prefix designates seasonally adjusted average price value.\n",
    "len(series_df[series_df['series_id'].str.startswith('APS')])\n",
    "\n",
    "# series_id 'APU' prefix designates not seasonally adjusted average price value.\n",
    "len(series_df[series_df['series_id'].str.startswith('APU')])"
   ]
  },
  {
   "cell_type": "markdown",
   "id": "c7f64e9b",
   "metadata": {},
   "source": [
    "### The series_title values are of the form: '{item_name} in {area_name}, average price, not seasonally adjusted'. "
   ]
  },
  {
   "cell_type": "code",
   "execution_count": 23,
   "id": "843c6a02",
   "metadata": {},
   "outputs": [
    {
     "data": {
      "text/plain": [
       "'Flour, white, all purpose, per lb. (453.6 gm) in U.S. city average, average price, not seasonally adjusted'"
      ]
     },
     "execution_count": 23,
     "metadata": {},
     "output_type": "execute_result"
    }
   ],
   "source": [
    "series_df['series_title'][0]"
   ]
  },
  {
   "cell_type": "code",
   "execution_count": 24,
   "id": "72c66577",
   "metadata": {},
   "outputs": [
    {
     "data": {
      "text/html": [
       "<div>\n",
       "<style scoped>\n",
       "    .dataframe tbody tr th:only-of-type {\n",
       "        vertical-align: middle;\n",
       "    }\n",
       "\n",
       "    .dataframe tbody tr th {\n",
       "        vertical-align: top;\n",
       "    }\n",
       "\n",
       "    .dataframe thead th {\n",
       "        text-align: right;\n",
       "    }\n",
       "</style>\n",
       "<table border=\"1\" class=\"dataframe\">\n",
       "  <thead>\n",
       "    <tr style=\"text-align: right;\">\n",
       "      <th></th>\n",
       "      <th>series_id</th>\n",
       "      <th>area_code</th>\n",
       "      <th>item_code</th>\n",
       "      <th>series_title</th>\n",
       "      <th>footnote_codes</th>\n",
       "      <th>begin_year</th>\n",
       "      <th>begin_period</th>\n",
       "      <th>end_year</th>\n",
       "      <th>end_period</th>\n",
       "    </tr>\n",
       "  </thead>\n",
       "  <tbody>\n",
       "    <tr>\n",
       "      <th>0</th>\n",
       "      <td>APU0000701111</td>\n",
       "      <td>0000</td>\n",
       "      <td>701111</td>\n",
       "      <td>Flour, white, all purpose, per lb. (453.6 gm) ...</td>\n",
       "      <td>NaN</td>\n",
       "      <td>1980</td>\n",
       "      <td>M01</td>\n",
       "      <td>2022</td>\n",
       "      <td>M06</td>\n",
       "    </tr>\n",
       "    <tr>\n",
       "      <th>160</th>\n",
       "      <td>APU0100701111</td>\n",
       "      <td>0100</td>\n",
       "      <td>701111</td>\n",
       "      <td>Flour, white, all purpose, per lb. (453.6 gm) ...</td>\n",
       "      <td>NaN</td>\n",
       "      <td>1980</td>\n",
       "      <td>M01</td>\n",
       "      <td>2016</td>\n",
       "      <td>M10</td>\n",
       "    </tr>\n",
       "    <tr>\n",
       "      <th>311</th>\n",
       "      <td>APU0200701111</td>\n",
       "      <td>0200</td>\n",
       "      <td>701111</td>\n",
       "      <td>Flour, white, all purpose, per lb. (453.6 gm) ...</td>\n",
       "      <td>NaN</td>\n",
       "      <td>1980</td>\n",
       "      <td>M01</td>\n",
       "      <td>2019</td>\n",
       "      <td>M10</td>\n",
       "    </tr>\n",
       "    <tr>\n",
       "      <th>475</th>\n",
       "      <td>APU0300701111</td>\n",
       "      <td>0300</td>\n",
       "      <td>701111</td>\n",
       "      <td>Flour, white, all purpose, per lb. (453.6 gm) ...</td>\n",
       "      <td>NaN</td>\n",
       "      <td>1980</td>\n",
       "      <td>M01</td>\n",
       "      <td>2022</td>\n",
       "      <td>M06</td>\n",
       "    </tr>\n",
       "    <tr>\n",
       "      <th>647</th>\n",
       "      <td>APU0400701111</td>\n",
       "      <td>0400</td>\n",
       "      <td>701111</td>\n",
       "      <td>Flour, white, all purpose, per lb. (453.6 gm) ...</td>\n",
       "      <td>NaN</td>\n",
       "      <td>1980</td>\n",
       "      <td>M01</td>\n",
       "      <td>2022</td>\n",
       "      <td>M05</td>\n",
       "    </tr>\n",
       "  </tbody>\n",
       "</table>\n",
       "</div>"
      ],
      "text/plain": [
       "             series_id area_code item_code  \\\n",
       "0    APU0000701111          0000    701111   \n",
       "160  APU0100701111          0100    701111   \n",
       "311  APU0200701111          0200    701111   \n",
       "475  APU0300701111          0300    701111   \n",
       "647  APU0400701111          0400    701111   \n",
       "\n",
       "                                          series_title  footnote_codes  \\\n",
       "0    Flour, white, all purpose, per lb. (453.6 gm) ...             NaN   \n",
       "160  Flour, white, all purpose, per lb. (453.6 gm) ...             NaN   \n",
       "311  Flour, white, all purpose, per lb. (453.6 gm) ...             NaN   \n",
       "475  Flour, white, all purpose, per lb. (453.6 gm) ...             NaN   \n",
       "647  Flour, white, all purpose, per lb. (453.6 gm) ...             NaN   \n",
       "\n",
       "     begin_year begin_period  end_year end_period  \n",
       "0          1980          M01      2022        M06  \n",
       "160        1980          M01      2016        M10  \n",
       "311        1980          M01      2019        M10  \n",
       "475        1980          M01      2022        M06  \n",
       "647        1980          M01      2022        M05  "
      ]
     },
     "execution_count": 24,
     "metadata": {},
     "output_type": "execute_result"
    }
   ],
   "source": [
    "series_df[series_df['series_title'].str.contains('flour',case=False,na=False)]"
   ]
  },
  {
   "cell_type": "code",
   "execution_count": 25,
   "id": "fa466700",
   "metadata": {},
   "outputs": [
    {
     "data": {
      "text/plain": [
       "{'All Ham (Excluding Canned Ham and Luncheon Slices)',\n",
       " 'All Other Pork (Excluding Canned Ham and Luncheon Slices)',\n",
       " 'All Pork Chops',\n",
       " 'All Uncooked Beef Roasts',\n",
       " 'All Uncooked Beef Steaks',\n",
       " 'All Uncooked Other Beef (Excluding Veal)',\n",
       " 'All soft drinks',\n",
       " 'All uncooked ground beef',\n",
       " 'American processed cheese',\n",
       " 'Apple Sauce',\n",
       " 'Apples',\n",
       " 'Automotive diesel fuel',\n",
       " 'Bacon',\n",
       " 'Bananas',\n",
       " 'Beans',\n",
       " 'Beef for stew',\n",
       " 'Beef liver (cost per pound/453.6 grams)',\n",
       " 'Bologna',\n",
       " 'Bourbon whiskey',\n",
       " 'Bread',\n",
       " 'Broccoli',\n",
       " 'Butter',\n",
       " 'Cabbage',\n",
       " 'Carrots',\n",
       " 'Celery',\n",
       " 'Cheddar cheese',\n",
       " 'Cherries',\n",
       " 'Chicken',\n",
       " 'Chicken breast',\n",
       " 'Chicken legs',\n",
       " 'Chops',\n",
       " 'Chuck roast',\n",
       " 'Coffee',\n",
       " 'Cola',\n",
       " 'Cookies',\n",
       " 'Corn',\n",
       " 'Corn on the cob',\n",
       " 'Crackers',\n",
       " 'Cucumbers',\n",
       " 'Cupcakes',\n",
       " 'Eggs',\n",
       " 'Electricity per 500 KWH',\n",
       " 'Electricity per KWH',\n",
       " 'Flour',\n",
       " 'Frankfurters',\n",
       " 'Fuel oil #2 per gallon (3.785 liters)',\n",
       " 'Gasoline',\n",
       " 'Grapefruit',\n",
       " 'Grapes',\n",
       " 'Ground beef',\n",
       " 'Ground chuck',\n",
       " 'Ham',\n",
       " 'Hard candy',\n",
       " 'Ice cream',\n",
       " 'Jelly (cost per pound/453.6 grams)',\n",
       " 'Lamb and mutton',\n",
       " 'Lemons',\n",
       " 'Lettuce',\n",
       " 'Malt beverages',\n",
       " 'Margarine',\n",
       " 'Milk',\n",
       " 'Mushrooms (cost per pound/453.6 grams)',\n",
       " 'Onions',\n",
       " 'Orange juice',\n",
       " 'Oranges',\n",
       " 'Peaches',\n",
       " 'Peanut butter',\n",
       " 'Pears',\n",
       " 'Peppers',\n",
       " 'Pork and beans',\n",
       " 'Pork shoulder roast',\n",
       " 'Pork sirloin roast',\n",
       " 'Potato chips',\n",
       " 'Potatoes',\n",
       " 'Radishes (cost per pound/453.6 grams)',\n",
       " 'Rib roast',\n",
       " 'Rice',\n",
       " 'Rolls',\n",
       " 'Round roast',\n",
       " 'Sausage',\n",
       " 'Short ribs',\n",
       " 'Shortening',\n",
       " 'Shoulder picnic',\n",
       " 'Spaghetti (cost per pound/453.6 grams)',\n",
       " 'Spaghetti and macaroni',\n",
       " 'Steak',\n",
       " 'Strawberries',\n",
       " 'Sugar',\n",
       " 'Tomatoes',\n",
       " 'Tuna',\n",
       " 'Turkey',\n",
       " 'Utility (piped) gas - 100 therms',\n",
       " 'Utility (piped) gas - 40 therms',\n",
       " 'Utility (piped) gas per therm',\n",
       " 'Vodka',\n",
       " 'Wine',\n",
       " 'Yogurt'}"
      ]
     },
     "execution_count": 25,
     "metadata": {},
     "output_type": "execute_result"
    }
   ],
   "source": [
    "items = []\n",
    "for string in item_df['item_name'].unique():\n",
    "    items.append(string.split(',')[0])\n",
    "set(items)"
   ]
  },
  {
   "cell_type": "markdown",
   "id": "14c3c0f2",
   "metadata": {},
   "source": [
    "### Let's check the first and last records in the series_df, and see if they exist in the item_df and area_df ( i.e. the series_title contains the item_name from item_df and area_name from area_df )."
   ]
  },
  {
   "cell_type": "code",
   "execution_count": 26,
   "id": "58a20162",
   "metadata": {},
   "outputs": [
    {
     "data": {
      "text/html": [
       "<div>\n",
       "<style scoped>\n",
       "    .dataframe tbody tr th:only-of-type {\n",
       "        vertical-align: middle;\n",
       "    }\n",
       "\n",
       "    .dataframe tbody tr th {\n",
       "        vertical-align: top;\n",
       "    }\n",
       "\n",
       "    .dataframe thead th {\n",
       "        text-align: right;\n",
       "    }\n",
       "</style>\n",
       "<table border=\"1\" class=\"dataframe\">\n",
       "  <thead>\n",
       "    <tr style=\"text-align: right;\">\n",
       "      <th></th>\n",
       "      <th>series_id</th>\n",
       "      <th>series_title</th>\n",
       "      <th>item_code</th>\n",
       "      <th>area_code</th>\n",
       "    </tr>\n",
       "  </thead>\n",
       "  <tbody>\n",
       "    <tr>\n",
       "      <th>0</th>\n",
       "      <td>APU0000701111</td>\n",
       "      <td>Flour, white, all purpose, per lb. (453.6 gm) ...</td>\n",
       "      <td>701111</td>\n",
       "      <td>0000</td>\n",
       "    </tr>\n",
       "  </tbody>\n",
       "</table>\n",
       "</div>"
      ],
      "text/plain": [
       "           series_id                                       series_title  \\\n",
       "0  APU0000701111      Flour, white, all purpose, per lb. (453.6 gm) ...   \n",
       "\n",
       "  item_code area_code  \n",
       "0    701111      0000  "
      ]
     },
     "execution_count": 26,
     "metadata": {},
     "output_type": "execute_result"
    },
    {
     "data": {
      "text/html": [
       "<div>\n",
       "<style scoped>\n",
       "    .dataframe tbody tr th:only-of-type {\n",
       "        vertical-align: middle;\n",
       "    }\n",
       "\n",
       "    .dataframe tbody tr th {\n",
       "        vertical-align: top;\n",
       "    }\n",
       "\n",
       "    .dataframe thead th {\n",
       "        text-align: right;\n",
       "    }\n",
       "</style>\n",
       "<table border=\"1\" class=\"dataframe\">\n",
       "  <thead>\n",
       "    <tr style=\"text-align: right;\">\n",
       "      <th></th>\n",
       "      <th>item_code</th>\n",
       "      <th>item_name</th>\n",
       "    </tr>\n",
       "  </thead>\n",
       "  <tbody>\n",
       "    <tr>\n",
       "      <th>0</th>\n",
       "      <td>701111</td>\n",
       "      <td>Flour, white, all purpose, per lb. (453.6 gm)</td>\n",
       "    </tr>\n",
       "  </tbody>\n",
       "</table>\n",
       "</div>"
      ],
      "text/plain": [
       "  item_code                                      item_name\n",
       "0    701111  Flour, white, all purpose, per lb. (453.6 gm)"
      ]
     },
     "execution_count": 26,
     "metadata": {},
     "output_type": "execute_result"
    },
    {
     "data": {
      "text/html": [
       "<div>\n",
       "<style scoped>\n",
       "    .dataframe tbody tr th:only-of-type {\n",
       "        vertical-align: middle;\n",
       "    }\n",
       "\n",
       "    .dataframe tbody tr th {\n",
       "        vertical-align: top;\n",
       "    }\n",
       "\n",
       "    .dataframe thead th {\n",
       "        text-align: right;\n",
       "    }\n",
       "</style>\n",
       "<table border=\"1\" class=\"dataframe\">\n",
       "  <thead>\n",
       "    <tr style=\"text-align: right;\">\n",
       "      <th></th>\n",
       "      <th>area_code</th>\n",
       "      <th>area_name</th>\n",
       "    </tr>\n",
       "  </thead>\n",
       "  <tbody>\n",
       "    <tr>\n",
       "      <th>0</th>\n",
       "      <td>0000</td>\n",
       "      <td>U.S. city average</td>\n",
       "    </tr>\n",
       "  </tbody>\n",
       "</table>\n",
       "</div>"
      ],
      "text/plain": [
       "  area_code          area_name\n",
       "0      0000  U.S. city average"
      ]
     },
     "execution_count": 26,
     "metadata": {},
     "output_type": "execute_result"
    }
   ],
   "source": [
    "series_df[['series_id','series_title','item_code','area_code']].head(1)\n",
    "item_df[item_df['item_code']==series_df['item_code'][0]]\n",
    "area_df[area_df['area_code']==series_df['area_code'][0]]"
   ]
  },
  {
   "cell_type": "code",
   "execution_count": 27,
   "id": "f6c2cec1",
   "metadata": {},
   "outputs": [
    {
     "data": {
      "text/html": [
       "<div>\n",
       "<style scoped>\n",
       "    .dataframe tbody tr th:only-of-type {\n",
       "        vertical-align: middle;\n",
       "    }\n",
       "\n",
       "    .dataframe tbody tr th {\n",
       "        vertical-align: top;\n",
       "    }\n",
       "\n",
       "    .dataframe thead th {\n",
       "        text-align: right;\n",
       "    }\n",
       "</style>\n",
       "<table border=\"1\" class=\"dataframe\">\n",
       "  <thead>\n",
       "    <tr style=\"text-align: right;\">\n",
       "      <th></th>\n",
       "      <th>series_id</th>\n",
       "      <th>series_title</th>\n",
       "      <th>item_code</th>\n",
       "      <th>area_code</th>\n",
       "    </tr>\n",
       "  </thead>\n",
       "  <tbody>\n",
       "    <tr>\n",
       "      <th>1481</th>\n",
       "      <td>APUS49G7471A</td>\n",
       "      <td>Gasoline, all types, per gallon/3.785 liters i...</td>\n",
       "      <td>7471A</td>\n",
       "      <td>S49G</td>\n",
       "    </tr>\n",
       "  </tbody>\n",
       "</table>\n",
       "</div>"
      ],
      "text/plain": [
       "              series_id                                       series_title  \\\n",
       "1481  APUS49G7471A       Gasoline, all types, per gallon/3.785 liters i...   \n",
       "\n",
       "     item_code area_code  \n",
       "1481     7471A      S49G  "
      ]
     },
     "execution_count": 27,
     "metadata": {},
     "output_type": "execute_result"
    },
    {
     "data": {
      "text/html": [
       "<div>\n",
       "<style scoped>\n",
       "    .dataframe tbody tr th:only-of-type {\n",
       "        vertical-align: middle;\n",
       "    }\n",
       "\n",
       "    .dataframe tbody tr th {\n",
       "        vertical-align: top;\n",
       "    }\n",
       "\n",
       "    .dataframe thead th {\n",
       "        text-align: right;\n",
       "    }\n",
       "</style>\n",
       "<table border=\"1\" class=\"dataframe\">\n",
       "  <thead>\n",
       "    <tr style=\"text-align: right;\">\n",
       "      <th></th>\n",
       "      <th>item_code</th>\n",
       "      <th>item_name</th>\n",
       "    </tr>\n",
       "  </thead>\n",
       "  <tbody>\n",
       "    <tr>\n",
       "      <th>145</th>\n",
       "      <td>7471A</td>\n",
       "      <td>Gasoline, all types, per gallon/3.785 liters</td>\n",
       "    </tr>\n",
       "  </tbody>\n",
       "</table>\n",
       "</div>"
      ],
      "text/plain": [
       "    item_code                                     item_name\n",
       "145     7471A  Gasoline, all types, per gallon/3.785 liters"
      ]
     },
     "execution_count": 27,
     "metadata": {},
     "output_type": "execute_result"
    },
    {
     "data": {
      "text/html": [
       "<div>\n",
       "<style scoped>\n",
       "    .dataframe tbody tr th:only-of-type {\n",
       "        vertical-align: middle;\n",
       "    }\n",
       "\n",
       "    .dataframe tbody tr th {\n",
       "        vertical-align: top;\n",
       "    }\n",
       "\n",
       "    .dataframe thead th {\n",
       "        text-align: right;\n",
       "    }\n",
       "</style>\n",
       "<table border=\"1\" class=\"dataframe\">\n",
       "  <thead>\n",
       "    <tr style=\"text-align: right;\">\n",
       "      <th></th>\n",
       "      <th>area_code</th>\n",
       "      <th>area_name</th>\n",
       "    </tr>\n",
       "  </thead>\n",
       "  <tbody>\n",
       "    <tr>\n",
       "      <th>73</th>\n",
       "      <td>S49G</td>\n",
       "      <td>Urban Alaska</td>\n",
       "    </tr>\n",
       "  </tbody>\n",
       "</table>\n",
       "</div>"
      ],
      "text/plain": [
       "   area_code     area_name\n",
       "73      S49G  Urban Alaska"
      ]
     },
     "execution_count": 27,
     "metadata": {},
     "output_type": "execute_result"
    }
   ],
   "source": [
    "series_df[['series_id','series_title','item_code','area_code']].tail(1)\n",
    "item_df[item_df['item_code']==series_df['item_code'][1481]]\n",
    "area_df[area_df['area_code']==series_df['area_code'][1481]]"
   ]
  },
  {
   "cell_type": "markdown",
   "id": "dbeff9fb",
   "metadata": {},
   "source": [
    "### Because the number of uniques in the area_df and item_df is the same as the number of uniques in the area_code and item_code columns, we will assume that there is a one-to-one correspondence of these values ( not necessarily true; e.g. the lists [1,2] and [1,3] both contain 2 unique values, but they do not share all unique values ). Are all the codes in area_df and item_df in series_df? We can verify this by the Boolean operations below:"
   ]
  },
  {
   "cell_type": "code",
   "execution_count": 28,
   "id": "d7cf6b2b",
   "metadata": {},
   "outputs": [
    {
     "data": {
      "text/plain": [
       "True"
      ]
     },
     "execution_count": 28,
     "metadata": {},
     "output_type": "execute_result"
    },
    {
     "data": {
      "text/plain": [
       "True"
      ]
     },
     "execution_count": 28,
     "metadata": {},
     "output_type": "execute_result"
    }
   ],
   "source": [
    "# Are the area code values one-to-one?\n",
    "set(series_df['area_code'].unique()) == set(area_df['area_code'])\n",
    "\n",
    "# Are the item code values one-to-one?\n",
    "set(series_df['item_code'].unique()) == set(item_df['item_code'])"
   ]
  },
  {
   "cell_type": "markdown",
   "id": "bf545c1e",
   "metadata": {},
   "source": [
    "### There are 434 series_id values in the series_df that are not in the ap_df data. Let's drop these values before further analyses."
   ]
  },
  {
   "cell_type": "code",
   "execution_count": 29,
   "id": "3bbf251b",
   "metadata": {},
   "outputs": [
    {
     "data": {
      "text/plain": [
       "1048"
      ]
     },
     "execution_count": 29,
     "metadata": {},
     "output_type": "execute_result"
    },
    {
     "data": {
      "text/plain": [
       "1482"
      ]
     },
     "execution_count": 29,
     "metadata": {},
     "output_type": "execute_result"
    },
    {
     "data": {
      "text/plain": [
       "True"
      ]
     },
     "execution_count": 29,
     "metadata": {},
     "output_type": "execute_result"
    }
   ],
   "source": [
    "# Identify unique series_id values in each DataFrame.\n",
    "apUniqueIDs = ap_df['series_id'].unique()\n",
    "seriesUniqueIDs = series_df['series_id'].unique()\n",
    "len(apUniqueIDs)\n",
    "len(seriesUniqueIDs)\n",
    "\n",
    "# Create list of shared series_ids, and drop those not shared from series_df.\n",
    "sharedIDs = list(set(apUniqueIDs).intersection(seriesUniqueIDs))\n",
    "series_df = series_df[series_df['series_id'].isin(sharedIDs)]\n",
    "\n",
    "# Verify that sets of series_id values match.\n",
    "set(ap_df['series_id'].unique()) == set(series_df['series_id'].unique())"
   ]
  },
  {
   "cell_type": "markdown",
   "id": "154da0e1",
   "metadata": {},
   "source": [
    "### Let's verify the begin_year, begin_period, end_year, and end_period are already contained in the ap_df data."
   ]
  },
  {
   "cell_type": "code",
   "execution_count": 30,
   "id": "6f4b3442",
   "metadata": {},
   "outputs": [
    {
     "data": {
      "text/plain": [
       "1976"
      ]
     },
     "execution_count": 30,
     "metadata": {},
     "output_type": "execute_result"
    },
    {
     "data": {
      "text/plain": [
       "1995"
      ]
     },
     "execution_count": 30,
     "metadata": {},
     "output_type": "execute_result"
    },
    {
     "data": {
      "text/plain": [
       "2022"
      ]
     },
     "execution_count": 30,
     "metadata": {},
     "output_type": "execute_result"
    },
    {
     "data": {
      "text/plain": [
       "2022"
      ]
     },
     "execution_count": 30,
     "metadata": {},
     "output_type": "execute_result"
    }
   ],
   "source": [
    "series_df['begin_year'].min()\n",
    "ap_df['year'].min()\n",
    "\n",
    "series_df['end_year'].max()\n",
    "ap_df['year'].max()"
   ]
  },
  {
   "cell_type": "markdown",
   "id": "1b2ee05c",
   "metadata": {},
   "source": [
    "### Unfortunately, it looks like not even the begin_year values match up, so let's just drop these columns from series_df, since there relevance to the actual data is questionable."
   ]
  },
  {
   "cell_type": "markdown",
   "id": "49994e75",
   "metadata": {},
   "source": [
    "### Let's drop all columns besides series_id, area_code, and item_code."
   ]
  },
  {
   "cell_type": "code",
   "execution_count": 31,
   "id": "30ee2530",
   "metadata": {},
   "outputs": [
    {
     "data": {
      "text/plain": [
       "['series_id',\n",
       " 'area_code',\n",
       " 'item_code',\n",
       " 'series_title',\n",
       " 'footnote_codes',\n",
       " 'begin_year',\n",
       " 'begin_period',\n",
       " 'end_year',\n",
       " 'end_period']"
      ]
     },
     "execution_count": 31,
     "metadata": {},
     "output_type": "execute_result"
    }
   ],
   "source": [
    "series_df.columns.tolist()"
   ]
  },
  {
   "cell_type": "code",
   "execution_count": 32,
   "id": "44d0eb32",
   "metadata": {},
   "outputs": [
    {
     "data": {
      "text/html": [
       "<div>\n",
       "<style scoped>\n",
       "    .dataframe tbody tr th:only-of-type {\n",
       "        vertical-align: middle;\n",
       "    }\n",
       "\n",
       "    .dataframe tbody tr th {\n",
       "        vertical-align: top;\n",
       "    }\n",
       "\n",
       "    .dataframe thead th {\n",
       "        text-align: right;\n",
       "    }\n",
       "</style>\n",
       "<table border=\"1\" class=\"dataframe\">\n",
       "  <thead>\n",
       "    <tr style=\"text-align: right;\">\n",
       "      <th></th>\n",
       "      <th>series_id</th>\n",
       "      <th>area_code</th>\n",
       "      <th>item_code</th>\n",
       "    </tr>\n",
       "  </thead>\n",
       "  <tbody>\n",
       "    <tr>\n",
       "      <th>0</th>\n",
       "      <td>APU0000701111</td>\n",
       "      <td>0000</td>\n",
       "      <td>701111</td>\n",
       "    </tr>\n",
       "    <tr>\n",
       "      <th>2</th>\n",
       "      <td>APU0000701312</td>\n",
       "      <td>0000</td>\n",
       "      <td>701312</td>\n",
       "    </tr>\n",
       "    <tr>\n",
       "      <th>4</th>\n",
       "      <td>APU0000701322</td>\n",
       "      <td>0000</td>\n",
       "      <td>701322</td>\n",
       "    </tr>\n",
       "    <tr>\n",
       "      <th>5</th>\n",
       "      <td>APU0000702111</td>\n",
       "      <td>0000</td>\n",
       "      <td>702111</td>\n",
       "    </tr>\n",
       "    <tr>\n",
       "      <th>6</th>\n",
       "      <td>APU0000702112</td>\n",
       "      <td>0000</td>\n",
       "      <td>702112</td>\n",
       "    </tr>\n",
       "  </tbody>\n",
       "</table>\n",
       "</div>"
      ],
      "text/plain": [
       "           series_id area_code item_code\n",
       "0  APU0000701111          0000    701111\n",
       "2  APU0000701312          0000    701312\n",
       "4  APU0000701322          0000    701322\n",
       "5  APU0000702111          0000    702111\n",
       "6  APU0000702112          0000    702112"
      ]
     },
     "execution_count": 32,
     "metadata": {},
     "output_type": "execute_result"
    }
   ],
   "source": [
    "series_df = series_df.drop(labels=['series_title',\n",
    "                                   'footnote_codes',\n",
    "                                   'begin_year',\n",
    "                                   'begin_period',\n",
    "                                   'end_year',\n",
    "                                   'end_period'],axis=1)\n",
    "series_df.head()"
   ]
  },
  {
   "cell_type": "markdown",
   "id": "ea26fe38",
   "metadata": {},
   "source": [
    "## df"
   ]
  },
  {
   "cell_type": "markdown",
   "id": "22ae37b9",
   "metadata": {},
   "source": [
    "### Let's create a new DataFrame df that merges the series_df, ap_df, area_df, and item_df features."
   ]
  },
  {
   "cell_type": "markdown",
   "id": "c2ab5618",
   "metadata": {},
   "source": [
    "### First, let's merge the series_df with the area_code and item_code values from their respective DataFrames."
   ]
  },
  {
   "cell_type": "code",
   "execution_count": 33,
   "id": "855ee09d",
   "metadata": {},
   "outputs": [
    {
     "data": {
      "text/html": [
       "<div>\n",
       "<style scoped>\n",
       "    .dataframe tbody tr th:only-of-type {\n",
       "        vertical-align: middle;\n",
       "    }\n",
       "\n",
       "    .dataframe tbody tr th {\n",
       "        vertical-align: top;\n",
       "    }\n",
       "\n",
       "    .dataframe thead th {\n",
       "        text-align: right;\n",
       "    }\n",
       "</style>\n",
       "<table border=\"1\" class=\"dataframe\">\n",
       "  <thead>\n",
       "    <tr style=\"text-align: right;\">\n",
       "      <th></th>\n",
       "      <th>series_id</th>\n",
       "      <th>area_code</th>\n",
       "      <th>item_code</th>\n",
       "      <th>area_name</th>\n",
       "      <th>item_name</th>\n",
       "    </tr>\n",
       "  </thead>\n",
       "  <tbody>\n",
       "    <tr>\n",
       "      <th>0</th>\n",
       "      <td>APU0000701111</td>\n",
       "      <td>0000</td>\n",
       "      <td>701111</td>\n",
       "      <td>U.S. city average</td>\n",
       "      <td>Flour, white, all purpose, per lb. (453.6 gm)</td>\n",
       "    </tr>\n",
       "    <tr>\n",
       "      <th>1</th>\n",
       "      <td>APU0100701111</td>\n",
       "      <td>0100</td>\n",
       "      <td>701111</td>\n",
       "      <td>Northeast</td>\n",
       "      <td>Flour, white, all purpose, per lb. (453.6 gm)</td>\n",
       "    </tr>\n",
       "    <tr>\n",
       "      <th>2</th>\n",
       "      <td>APU0200701111</td>\n",
       "      <td>0200</td>\n",
       "      <td>701111</td>\n",
       "      <td>Midwest</td>\n",
       "      <td>Flour, white, all purpose, per lb. (453.6 gm)</td>\n",
       "    </tr>\n",
       "    <tr>\n",
       "      <th>3</th>\n",
       "      <td>APU0300701111</td>\n",
       "      <td>0300</td>\n",
       "      <td>701111</td>\n",
       "      <td>South</td>\n",
       "      <td>Flour, white, all purpose, per lb. (453.6 gm)</td>\n",
       "    </tr>\n",
       "    <tr>\n",
       "      <th>4</th>\n",
       "      <td>APU0400701111</td>\n",
       "      <td>0400</td>\n",
       "      <td>701111</td>\n",
       "      <td>West</td>\n",
       "      <td>Flour, white, all purpose, per lb. (453.6 gm)</td>\n",
       "    </tr>\n",
       "  </tbody>\n",
       "</table>\n",
       "</div>"
      ],
      "text/plain": [
       "           series_id area_code item_code          area_name  \\\n",
       "0  APU0000701111          0000    701111  U.S. city average   \n",
       "1  APU0100701111          0100    701111          Northeast   \n",
       "2  APU0200701111          0200    701111            Midwest   \n",
       "3  APU0300701111          0300    701111              South   \n",
       "4  APU0400701111          0400    701111               West   \n",
       "\n",
       "                                       item_name  \n",
       "0  Flour, white, all purpose, per lb. (453.6 gm)  \n",
       "1  Flour, white, all purpose, per lb. (453.6 gm)  \n",
       "2  Flour, white, all purpose, per lb. (453.6 gm)  \n",
       "3  Flour, white, all purpose, per lb. (453.6 gm)  \n",
       "4  Flour, white, all purpose, per lb. (453.6 gm)  "
      ]
     },
     "execution_count": 33,
     "metadata": {},
     "output_type": "execute_result"
    }
   ],
   "source": [
    "series_df = pd.merge(series_df,area_df.set_index('area_code')['area_name'],on='area_code')\n",
    "series_df = pd.merge(series_df,item_df.set_index('item_code')['item_name'],on='item_code')\n",
    "series_df.head()"
   ]
  },
  {
   "cell_type": "markdown",
   "id": "f8569744",
   "metadata": {},
   "source": [
    "### Now we can drop the area_code and item_code features."
   ]
  },
  {
   "cell_type": "code",
   "execution_count": 34,
   "id": "ba7796c4",
   "metadata": {},
   "outputs": [
    {
     "data": {
      "text/html": [
       "<div>\n",
       "<style scoped>\n",
       "    .dataframe tbody tr th:only-of-type {\n",
       "        vertical-align: middle;\n",
       "    }\n",
       "\n",
       "    .dataframe tbody tr th {\n",
       "        vertical-align: top;\n",
       "    }\n",
       "\n",
       "    .dataframe thead th {\n",
       "        text-align: right;\n",
       "    }\n",
       "</style>\n",
       "<table border=\"1\" class=\"dataframe\">\n",
       "  <thead>\n",
       "    <tr style=\"text-align: right;\">\n",
       "      <th></th>\n",
       "      <th>series_id</th>\n",
       "      <th>area_code</th>\n",
       "      <th>item_code</th>\n",
       "      <th>area_name</th>\n",
       "      <th>item_name</th>\n",
       "    </tr>\n",
       "  </thead>\n",
       "  <tbody>\n",
       "    <tr>\n",
       "      <th>0</th>\n",
       "      <td>APU0000701111</td>\n",
       "      <td>0000</td>\n",
       "      <td>701111</td>\n",
       "      <td>U.S. city average</td>\n",
       "      <td>Flour, white, all purpose, per lb. (453.6 gm)</td>\n",
       "    </tr>\n",
       "    <tr>\n",
       "      <th>1</th>\n",
       "      <td>APU0100701111</td>\n",
       "      <td>0100</td>\n",
       "      <td>701111</td>\n",
       "      <td>Northeast</td>\n",
       "      <td>Flour, white, all purpose, per lb. (453.6 gm)</td>\n",
       "    </tr>\n",
       "    <tr>\n",
       "      <th>2</th>\n",
       "      <td>APU0200701111</td>\n",
       "      <td>0200</td>\n",
       "      <td>701111</td>\n",
       "      <td>Midwest</td>\n",
       "      <td>Flour, white, all purpose, per lb. (453.6 gm)</td>\n",
       "    </tr>\n",
       "    <tr>\n",
       "      <th>3</th>\n",
       "      <td>APU0300701111</td>\n",
       "      <td>0300</td>\n",
       "      <td>701111</td>\n",
       "      <td>South</td>\n",
       "      <td>Flour, white, all purpose, per lb. (453.6 gm)</td>\n",
       "    </tr>\n",
       "    <tr>\n",
       "      <th>4</th>\n",
       "      <td>APU0400701111</td>\n",
       "      <td>0400</td>\n",
       "      <td>701111</td>\n",
       "      <td>West</td>\n",
       "      <td>Flour, white, all purpose, per lb. (453.6 gm)</td>\n",
       "    </tr>\n",
       "  </tbody>\n",
       "</table>\n",
       "</div>"
      ],
      "text/plain": [
       "           series_id area_code item_code          area_name  \\\n",
       "0  APU0000701111          0000    701111  U.S. city average   \n",
       "1  APU0100701111          0100    701111          Northeast   \n",
       "2  APU0200701111          0200    701111            Midwest   \n",
       "3  APU0300701111          0300    701111              South   \n",
       "4  APU0400701111          0400    701111               West   \n",
       "\n",
       "                                       item_name  \n",
       "0  Flour, white, all purpose, per lb. (453.6 gm)  \n",
       "1  Flour, white, all purpose, per lb. (453.6 gm)  \n",
       "2  Flour, white, all purpose, per lb. (453.6 gm)  \n",
       "3  Flour, white, all purpose, per lb. (453.6 gm)  \n",
       "4  Flour, white, all purpose, per lb. (453.6 gm)  "
      ]
     },
     "execution_count": 34,
     "metadata": {},
     "output_type": "execute_result"
    },
    {
     "data": {
      "text/html": [
       "<div>\n",
       "<style scoped>\n",
       "    .dataframe tbody tr th:only-of-type {\n",
       "        vertical-align: middle;\n",
       "    }\n",
       "\n",
       "    .dataframe tbody tr th {\n",
       "        vertical-align: top;\n",
       "    }\n",
       "\n",
       "    .dataframe thead th {\n",
       "        text-align: right;\n",
       "    }\n",
       "</style>\n",
       "<table border=\"1\" class=\"dataframe\">\n",
       "  <thead>\n",
       "    <tr style=\"text-align: right;\">\n",
       "      <th></th>\n",
       "      <th>series_id</th>\n",
       "      <th>area_name</th>\n",
       "      <th>item_name</th>\n",
       "    </tr>\n",
       "  </thead>\n",
       "  <tbody>\n",
       "    <tr>\n",
       "      <th>0</th>\n",
       "      <td>APU0000701111</td>\n",
       "      <td>U.S. city average</td>\n",
       "      <td>Flour, white, all purpose, per lb. (453.6 gm)</td>\n",
       "    </tr>\n",
       "    <tr>\n",
       "      <th>1</th>\n",
       "      <td>APU0100701111</td>\n",
       "      <td>Northeast</td>\n",
       "      <td>Flour, white, all purpose, per lb. (453.6 gm)</td>\n",
       "    </tr>\n",
       "    <tr>\n",
       "      <th>2</th>\n",
       "      <td>APU0200701111</td>\n",
       "      <td>Midwest</td>\n",
       "      <td>Flour, white, all purpose, per lb. (453.6 gm)</td>\n",
       "    </tr>\n",
       "    <tr>\n",
       "      <th>3</th>\n",
       "      <td>APU0300701111</td>\n",
       "      <td>South</td>\n",
       "      <td>Flour, white, all purpose, per lb. (453.6 gm)</td>\n",
       "    </tr>\n",
       "    <tr>\n",
       "      <th>4</th>\n",
       "      <td>APU0400701111</td>\n",
       "      <td>West</td>\n",
       "      <td>Flour, white, all purpose, per lb. (453.6 gm)</td>\n",
       "    </tr>\n",
       "  </tbody>\n",
       "</table>\n",
       "</div>"
      ],
      "text/plain": [
       "           series_id          area_name  \\\n",
       "0  APU0000701111      U.S. city average   \n",
       "1  APU0100701111              Northeast   \n",
       "2  APU0200701111                Midwest   \n",
       "3  APU0300701111                  South   \n",
       "4  APU0400701111                   West   \n",
       "\n",
       "                                       item_name  \n",
       "0  Flour, white, all purpose, per lb. (453.6 gm)  \n",
       "1  Flour, white, all purpose, per lb. (453.6 gm)  \n",
       "2  Flour, white, all purpose, per lb. (453.6 gm)  \n",
       "3  Flour, white, all purpose, per lb. (453.6 gm)  \n",
       "4  Flour, white, all purpose, per lb. (453.6 gm)  "
      ]
     },
     "execution_count": 34,
     "metadata": {},
     "output_type": "execute_result"
    }
   ],
   "source": [
    "series_df.head()\n",
    "series_df = series_df.drop(labels=['area_code','item_code'],axis=1)\n",
    "series_df.head()"
   ]
  },
  {
   "cell_type": "markdown",
   "id": "94062434",
   "metadata": {},
   "source": [
    "### Next, let's merge the average price values into df."
   ]
  },
  {
   "cell_type": "markdown",
   "id": "4da396fa",
   "metadata": {},
   "source": [
    "### Let's merge some features into the cpi_df."
   ]
  },
  {
   "cell_type": "markdown",
   "id": "61219aa1",
   "metadata": {},
   "source": [
    "### Let's check if there are any average period values."
   ]
  },
  {
   "cell_type": "code",
   "execution_count": 35,
   "id": "93ee6980",
   "metadata": {},
   "outputs": [
    {
     "data": {
      "text/plain": [
       "array(['M01', 'M02', 'M03', 'M04', 'M05', 'M06', 'M07', 'M08', 'M09',\n",
       "       'M10', 'M11', 'M12'], dtype=object)"
      ]
     },
     "execution_count": 35,
     "metadata": {},
     "output_type": "execute_result"
    }
   ],
   "source": [
    "ap_df['period'].unique()"
   ]
  },
  {
   "cell_type": "markdown",
   "id": "33bd60f9",
   "metadata": {},
   "source": [
    "### No average period values, so we don't need to drop them."
   ]
  },
  {
   "cell_type": "markdown",
   "id": "e6dba566",
   "metadata": {},
   "source": [
    "### Next, let's merge in the period_name feature from the period_df."
   ]
  },
  {
   "cell_type": "code",
   "execution_count": 36,
   "id": "950dd6cf",
   "metadata": {},
   "outputs": [
    {
     "data": {
      "text/html": [
       "<div>\n",
       "<style scoped>\n",
       "    .dataframe tbody tr th:only-of-type {\n",
       "        vertical-align: middle;\n",
       "    }\n",
       "\n",
       "    .dataframe tbody tr th {\n",
       "        vertical-align: top;\n",
       "    }\n",
       "\n",
       "    .dataframe thead th {\n",
       "        text-align: right;\n",
       "    }\n",
       "</style>\n",
       "<table border=\"1\" class=\"dataframe\">\n",
       "  <thead>\n",
       "    <tr style=\"text-align: right;\">\n",
       "      <th></th>\n",
       "      <th>series_id</th>\n",
       "      <th>year</th>\n",
       "      <th>period</th>\n",
       "      <th>value</th>\n",
       "    </tr>\n",
       "  </thead>\n",
       "  <tbody>\n",
       "    <tr>\n",
       "      <th>0</th>\n",
       "      <td>APU0000701111</td>\n",
       "      <td>1995</td>\n",
       "      <td>M01</td>\n",
       "      <td>0.238</td>\n",
       "    </tr>\n",
       "    <tr>\n",
       "      <th>1</th>\n",
       "      <td>APU0000701111</td>\n",
       "      <td>1995</td>\n",
       "      <td>M02</td>\n",
       "      <td>0.242</td>\n",
       "    </tr>\n",
       "    <tr>\n",
       "      <th>2</th>\n",
       "      <td>APU0000701111</td>\n",
       "      <td>1995</td>\n",
       "      <td>M03</td>\n",
       "      <td>0.242</td>\n",
       "    </tr>\n",
       "    <tr>\n",
       "      <th>3</th>\n",
       "      <td>APU0000701111</td>\n",
       "      <td>1995</td>\n",
       "      <td>M04</td>\n",
       "      <td>0.236</td>\n",
       "    </tr>\n",
       "    <tr>\n",
       "      <th>4</th>\n",
       "      <td>APU0000701111</td>\n",
       "      <td>1995</td>\n",
       "      <td>M05</td>\n",
       "      <td>0.244</td>\n",
       "    </tr>\n",
       "  </tbody>\n",
       "</table>\n",
       "</div>"
      ],
      "text/plain": [
       "           series_id  year period  value\n",
       "0  APU0000701111      1995    M01  0.238\n",
       "1  APU0000701111      1995    M02  0.242\n",
       "2  APU0000701111      1995    M03  0.242\n",
       "3  APU0000701111      1995    M04  0.236\n",
       "4  APU0000701111      1995    M05  0.244"
      ]
     },
     "execution_count": 36,
     "metadata": {},
     "output_type": "execute_result"
    },
    {
     "data": {
      "text/html": [
       "<div>\n",
       "<style scoped>\n",
       "    .dataframe tbody tr th:only-of-type {\n",
       "        vertical-align: middle;\n",
       "    }\n",
       "\n",
       "    .dataframe tbody tr th {\n",
       "        vertical-align: top;\n",
       "    }\n",
       "\n",
       "    .dataframe thead th {\n",
       "        text-align: right;\n",
       "    }\n",
       "</style>\n",
       "<table border=\"1\" class=\"dataframe\">\n",
       "  <thead>\n",
       "    <tr style=\"text-align: right;\">\n",
       "      <th></th>\n",
       "      <th>series_id</th>\n",
       "      <th>year</th>\n",
       "      <th>period</th>\n",
       "      <th>value</th>\n",
       "      <th>period_name</th>\n",
       "    </tr>\n",
       "  </thead>\n",
       "  <tbody>\n",
       "    <tr>\n",
       "      <th>0</th>\n",
       "      <td>APU0000701111</td>\n",
       "      <td>1995</td>\n",
       "      <td>M01</td>\n",
       "      <td>0.238</td>\n",
       "      <td>January</td>\n",
       "    </tr>\n",
       "    <tr>\n",
       "      <th>1</th>\n",
       "      <td>APU0000701111</td>\n",
       "      <td>1996</td>\n",
       "      <td>M01</td>\n",
       "      <td>0.262</td>\n",
       "      <td>January</td>\n",
       "    </tr>\n",
       "    <tr>\n",
       "      <th>2</th>\n",
       "      <td>APU0000701111</td>\n",
       "      <td>1997</td>\n",
       "      <td>M01</td>\n",
       "      <td>0.309</td>\n",
       "      <td>January</td>\n",
       "    </tr>\n",
       "    <tr>\n",
       "      <th>3</th>\n",
       "      <td>APU0000701111</td>\n",
       "      <td>1998</td>\n",
       "      <td>M01</td>\n",
       "      <td>0.299</td>\n",
       "      <td>January</td>\n",
       "    </tr>\n",
       "    <tr>\n",
       "      <th>4</th>\n",
       "      <td>APU0000701111</td>\n",
       "      <td>1999</td>\n",
       "      <td>M01</td>\n",
       "      <td>0.297</td>\n",
       "      <td>January</td>\n",
       "    </tr>\n",
       "  </tbody>\n",
       "</table>\n",
       "</div>"
      ],
      "text/plain": [
       "           series_id  year period  value period_name\n",
       "0  APU0000701111      1995    M01  0.238     January\n",
       "1  APU0000701111      1996    M01  0.262     January\n",
       "2  APU0000701111      1997    M01  0.309     January\n",
       "3  APU0000701111      1998    M01  0.299     January\n",
       "4  APU0000701111      1999    M01  0.297     January"
      ]
     },
     "execution_count": 36,
     "metadata": {},
     "output_type": "execute_result"
    }
   ],
   "source": [
    "ap_df.head()\n",
    "ap_df = pd.merge(ap_df,period_df.set_index('period')['period_name'],on='period')\n",
    "ap_df.head()"
   ]
  },
  {
   "cell_type": "markdown",
   "id": "b2ae27d3",
   "metadata": {},
   "source": [
    "### Next, let's convert the year and period_name into a datetime object feature."
   ]
  },
  {
   "cell_type": "code",
   "execution_count": 37,
   "id": "68054525",
   "metadata": {},
   "outputs": [
    {
     "data": {
      "text/html": [
       "<div>\n",
       "<style scoped>\n",
       "    .dataframe tbody tr th:only-of-type {\n",
       "        vertical-align: middle;\n",
       "    }\n",
       "\n",
       "    .dataframe tbody tr th {\n",
       "        vertical-align: top;\n",
       "    }\n",
       "\n",
       "    .dataframe thead th {\n",
       "        text-align: right;\n",
       "    }\n",
       "</style>\n",
       "<table border=\"1\" class=\"dataframe\">\n",
       "  <thead>\n",
       "    <tr style=\"text-align: right;\">\n",
       "      <th></th>\n",
       "      <th>series_id</th>\n",
       "      <th>year</th>\n",
       "      <th>period</th>\n",
       "      <th>value</th>\n",
       "      <th>period_name</th>\n",
       "    </tr>\n",
       "  </thead>\n",
       "  <tbody>\n",
       "    <tr>\n",
       "      <th>0</th>\n",
       "      <td>APU0000701111</td>\n",
       "      <td>1995</td>\n",
       "      <td>M01</td>\n",
       "      <td>0.238</td>\n",
       "      <td>January</td>\n",
       "    </tr>\n",
       "    <tr>\n",
       "      <th>1</th>\n",
       "      <td>APU0000701111</td>\n",
       "      <td>1996</td>\n",
       "      <td>M01</td>\n",
       "      <td>0.262</td>\n",
       "      <td>January</td>\n",
       "    </tr>\n",
       "    <tr>\n",
       "      <th>2</th>\n",
       "      <td>APU0000701111</td>\n",
       "      <td>1997</td>\n",
       "      <td>M01</td>\n",
       "      <td>0.309</td>\n",
       "      <td>January</td>\n",
       "    </tr>\n",
       "    <tr>\n",
       "      <th>3</th>\n",
       "      <td>APU0000701111</td>\n",
       "      <td>1998</td>\n",
       "      <td>M01</td>\n",
       "      <td>0.299</td>\n",
       "      <td>January</td>\n",
       "    </tr>\n",
       "    <tr>\n",
       "      <th>4</th>\n",
       "      <td>APU0000701111</td>\n",
       "      <td>1999</td>\n",
       "      <td>M01</td>\n",
       "      <td>0.297</td>\n",
       "      <td>January</td>\n",
       "    </tr>\n",
       "  </tbody>\n",
       "</table>\n",
       "</div>"
      ],
      "text/plain": [
       "           series_id  year period  value period_name\n",
       "0  APU0000701111      1995    M01  0.238     January\n",
       "1  APU0000701111      1996    M01  0.262     January\n",
       "2  APU0000701111      1997    M01  0.309     January\n",
       "3  APU0000701111      1998    M01  0.299     January\n",
       "4  APU0000701111      1999    M01  0.297     January"
      ]
     },
     "execution_count": 37,
     "metadata": {},
     "output_type": "execute_result"
    },
    {
     "data": {
      "text/html": [
       "<div>\n",
       "<style scoped>\n",
       "    .dataframe tbody tr th:only-of-type {\n",
       "        vertical-align: middle;\n",
       "    }\n",
       "\n",
       "    .dataframe tbody tr th {\n",
       "        vertical-align: top;\n",
       "    }\n",
       "\n",
       "    .dataframe thead th {\n",
       "        text-align: right;\n",
       "    }\n",
       "</style>\n",
       "<table border=\"1\" class=\"dataframe\">\n",
       "  <thead>\n",
       "    <tr style=\"text-align: right;\">\n",
       "      <th></th>\n",
       "      <th>series_id</th>\n",
       "      <th>year</th>\n",
       "      <th>period</th>\n",
       "      <th>value</th>\n",
       "      <th>period_name</th>\n",
       "      <th>date</th>\n",
       "    </tr>\n",
       "  </thead>\n",
       "  <tbody>\n",
       "    <tr>\n",
       "      <th>0</th>\n",
       "      <td>APU0000701111</td>\n",
       "      <td>1995</td>\n",
       "      <td>M01</td>\n",
       "      <td>0.238</td>\n",
       "      <td>January</td>\n",
       "      <td>1995-01-01</td>\n",
       "    </tr>\n",
       "    <tr>\n",
       "      <th>1</th>\n",
       "      <td>APU0000701111</td>\n",
       "      <td>1996</td>\n",
       "      <td>M01</td>\n",
       "      <td>0.262</td>\n",
       "      <td>January</td>\n",
       "      <td>1996-01-01</td>\n",
       "    </tr>\n",
       "    <tr>\n",
       "      <th>2</th>\n",
       "      <td>APU0000701111</td>\n",
       "      <td>1997</td>\n",
       "      <td>M01</td>\n",
       "      <td>0.309</td>\n",
       "      <td>January</td>\n",
       "      <td>1997-01-01</td>\n",
       "    </tr>\n",
       "    <tr>\n",
       "      <th>3</th>\n",
       "      <td>APU0000701111</td>\n",
       "      <td>1998</td>\n",
       "      <td>M01</td>\n",
       "      <td>0.299</td>\n",
       "      <td>January</td>\n",
       "      <td>1998-01-01</td>\n",
       "    </tr>\n",
       "    <tr>\n",
       "      <th>4</th>\n",
       "      <td>APU0000701111</td>\n",
       "      <td>1999</td>\n",
       "      <td>M01</td>\n",
       "      <td>0.297</td>\n",
       "      <td>January</td>\n",
       "      <td>1999-01-01</td>\n",
       "    </tr>\n",
       "  </tbody>\n",
       "</table>\n",
       "</div>"
      ],
      "text/plain": [
       "           series_id  year period  value period_name       date\n",
       "0  APU0000701111      1995    M01  0.238     January 1995-01-01\n",
       "1  APU0000701111      1996    M01  0.262     January 1996-01-01\n",
       "2  APU0000701111      1997    M01  0.309     January 1997-01-01\n",
       "3  APU0000701111      1998    M01  0.299     January 1998-01-01\n",
       "4  APU0000701111      1999    M01  0.297     January 1999-01-01"
      ]
     },
     "execution_count": 37,
     "metadata": {},
     "output_type": "execute_result"
    }
   ],
   "source": [
    "ap_df.head()\n",
    "ap_df['date'] = pd.to_datetime(ap_df['year'].apply(str) + ap_df['period_name'],format='%Y%B')\n",
    "ap_df.head()"
   ]
  },
  {
   "cell_type": "markdown",
   "id": "38a0b770",
   "metadata": {},
   "source": [
    "### We can drop the year, period, period_abbr, and period_name features now."
   ]
  },
  {
   "cell_type": "code",
   "execution_count": 38,
   "id": "c5e71d35",
   "metadata": {},
   "outputs": [
    {
     "data": {
      "text/html": [
       "<div>\n",
       "<style scoped>\n",
       "    .dataframe tbody tr th:only-of-type {\n",
       "        vertical-align: middle;\n",
       "    }\n",
       "\n",
       "    .dataframe tbody tr th {\n",
       "        vertical-align: top;\n",
       "    }\n",
       "\n",
       "    .dataframe thead th {\n",
       "        text-align: right;\n",
       "    }\n",
       "</style>\n",
       "<table border=\"1\" class=\"dataframe\">\n",
       "  <thead>\n",
       "    <tr style=\"text-align: right;\">\n",
       "      <th></th>\n",
       "      <th>series_id</th>\n",
       "      <th>year</th>\n",
       "      <th>period</th>\n",
       "      <th>value</th>\n",
       "      <th>period_name</th>\n",
       "      <th>date</th>\n",
       "    </tr>\n",
       "  </thead>\n",
       "  <tbody>\n",
       "    <tr>\n",
       "      <th>0</th>\n",
       "      <td>APU0000701111</td>\n",
       "      <td>1995</td>\n",
       "      <td>M01</td>\n",
       "      <td>0.238</td>\n",
       "      <td>January</td>\n",
       "      <td>1995-01-01</td>\n",
       "    </tr>\n",
       "    <tr>\n",
       "      <th>1</th>\n",
       "      <td>APU0000701111</td>\n",
       "      <td>1996</td>\n",
       "      <td>M01</td>\n",
       "      <td>0.262</td>\n",
       "      <td>January</td>\n",
       "      <td>1996-01-01</td>\n",
       "    </tr>\n",
       "    <tr>\n",
       "      <th>2</th>\n",
       "      <td>APU0000701111</td>\n",
       "      <td>1997</td>\n",
       "      <td>M01</td>\n",
       "      <td>0.309</td>\n",
       "      <td>January</td>\n",
       "      <td>1997-01-01</td>\n",
       "    </tr>\n",
       "    <tr>\n",
       "      <th>3</th>\n",
       "      <td>APU0000701111</td>\n",
       "      <td>1998</td>\n",
       "      <td>M01</td>\n",
       "      <td>0.299</td>\n",
       "      <td>January</td>\n",
       "      <td>1998-01-01</td>\n",
       "    </tr>\n",
       "    <tr>\n",
       "      <th>4</th>\n",
       "      <td>APU0000701111</td>\n",
       "      <td>1999</td>\n",
       "      <td>M01</td>\n",
       "      <td>0.297</td>\n",
       "      <td>January</td>\n",
       "      <td>1999-01-01</td>\n",
       "    </tr>\n",
       "  </tbody>\n",
       "</table>\n",
       "</div>"
      ],
      "text/plain": [
       "           series_id  year period  value period_name       date\n",
       "0  APU0000701111      1995    M01  0.238     January 1995-01-01\n",
       "1  APU0000701111      1996    M01  0.262     January 1996-01-01\n",
       "2  APU0000701111      1997    M01  0.309     January 1997-01-01\n",
       "3  APU0000701111      1998    M01  0.299     January 1998-01-01\n",
       "4  APU0000701111      1999    M01  0.297     January 1999-01-01"
      ]
     },
     "execution_count": 38,
     "metadata": {},
     "output_type": "execute_result"
    },
    {
     "data": {
      "text/html": [
       "<div>\n",
       "<style scoped>\n",
       "    .dataframe tbody tr th:only-of-type {\n",
       "        vertical-align: middle;\n",
       "    }\n",
       "\n",
       "    .dataframe tbody tr th {\n",
       "        vertical-align: top;\n",
       "    }\n",
       "\n",
       "    .dataframe thead th {\n",
       "        text-align: right;\n",
       "    }\n",
       "</style>\n",
       "<table border=\"1\" class=\"dataframe\">\n",
       "  <thead>\n",
       "    <tr style=\"text-align: right;\">\n",
       "      <th></th>\n",
       "      <th>series_id</th>\n",
       "      <th>value</th>\n",
       "      <th>date</th>\n",
       "    </tr>\n",
       "  </thead>\n",
       "  <tbody>\n",
       "    <tr>\n",
       "      <th>0</th>\n",
       "      <td>APU0000701111</td>\n",
       "      <td>0.238</td>\n",
       "      <td>1995-01-01</td>\n",
       "    </tr>\n",
       "    <tr>\n",
       "      <th>1</th>\n",
       "      <td>APU0000701111</td>\n",
       "      <td>0.262</td>\n",
       "      <td>1996-01-01</td>\n",
       "    </tr>\n",
       "    <tr>\n",
       "      <th>2</th>\n",
       "      <td>APU0000701111</td>\n",
       "      <td>0.309</td>\n",
       "      <td>1997-01-01</td>\n",
       "    </tr>\n",
       "    <tr>\n",
       "      <th>3</th>\n",
       "      <td>APU0000701111</td>\n",
       "      <td>0.299</td>\n",
       "      <td>1998-01-01</td>\n",
       "    </tr>\n",
       "    <tr>\n",
       "      <th>4</th>\n",
       "      <td>APU0000701111</td>\n",
       "      <td>0.297</td>\n",
       "      <td>1999-01-01</td>\n",
       "    </tr>\n",
       "  </tbody>\n",
       "</table>\n",
       "</div>"
      ],
      "text/plain": [
       "           series_id  value       date\n",
       "0  APU0000701111      0.238 1995-01-01\n",
       "1  APU0000701111      0.262 1996-01-01\n",
       "2  APU0000701111      0.309 1997-01-01\n",
       "3  APU0000701111      0.299 1998-01-01\n",
       "4  APU0000701111      0.297 1999-01-01"
      ]
     },
     "execution_count": 38,
     "metadata": {},
     "output_type": "execute_result"
    }
   ],
   "source": [
    "ap_df.head()\n",
    "ap_df = ap_df.drop(['year','period','period_name'],axis=1)\n",
    "ap_df.head()"
   ]
  },
  {
   "cell_type": "markdown",
   "id": "949ad88b",
   "metadata": {},
   "source": [
    "### Now, let's merge the cpi_df and series_df into one DataFrame df."
   ]
  },
  {
   "cell_type": "code",
   "execution_count": 39,
   "id": "7cf71ad7",
   "metadata": {},
   "outputs": [
    {
     "data": {
      "text/html": [
       "<div>\n",
       "<style scoped>\n",
       "    .dataframe tbody tr th:only-of-type {\n",
       "        vertical-align: middle;\n",
       "    }\n",
       "\n",
       "    .dataframe tbody tr th {\n",
       "        vertical-align: top;\n",
       "    }\n",
       "\n",
       "    .dataframe thead th {\n",
       "        text-align: right;\n",
       "    }\n",
       "</style>\n",
       "<table border=\"1\" class=\"dataframe\">\n",
       "  <thead>\n",
       "    <tr style=\"text-align: right;\">\n",
       "      <th></th>\n",
       "      <th>series_id</th>\n",
       "      <th>value</th>\n",
       "      <th>date</th>\n",
       "      <th>area_name</th>\n",
       "      <th>item_name</th>\n",
       "    </tr>\n",
       "  </thead>\n",
       "  <tbody>\n",
       "    <tr>\n",
       "      <th>0</th>\n",
       "      <td>APU0000701111</td>\n",
       "      <td>0.238</td>\n",
       "      <td>1995-01-01</td>\n",
       "      <td>U.S. city average</td>\n",
       "      <td>Flour, white, all purpose, per lb. (453.6 gm)</td>\n",
       "    </tr>\n",
       "    <tr>\n",
       "      <th>1</th>\n",
       "      <td>APU0000701111</td>\n",
       "      <td>0.262</td>\n",
       "      <td>1996-01-01</td>\n",
       "      <td>U.S. city average</td>\n",
       "      <td>Flour, white, all purpose, per lb. (453.6 gm)</td>\n",
       "    </tr>\n",
       "    <tr>\n",
       "      <th>2</th>\n",
       "      <td>APU0000701111</td>\n",
       "      <td>0.309</td>\n",
       "      <td>1997-01-01</td>\n",
       "      <td>U.S. city average</td>\n",
       "      <td>Flour, white, all purpose, per lb. (453.6 gm)</td>\n",
       "    </tr>\n",
       "    <tr>\n",
       "      <th>3</th>\n",
       "      <td>APU0000701111</td>\n",
       "      <td>0.299</td>\n",
       "      <td>1998-01-01</td>\n",
       "      <td>U.S. city average</td>\n",
       "      <td>Flour, white, all purpose, per lb. (453.6 gm)</td>\n",
       "    </tr>\n",
       "    <tr>\n",
       "      <th>4</th>\n",
       "      <td>APU0000701111</td>\n",
       "      <td>0.297</td>\n",
       "      <td>1999-01-01</td>\n",
       "      <td>U.S. city average</td>\n",
       "      <td>Flour, white, all purpose, per lb. (453.6 gm)</td>\n",
       "    </tr>\n",
       "  </tbody>\n",
       "</table>\n",
       "</div>"
      ],
      "text/plain": [
       "           series_id  value       date          area_name  \\\n",
       "0  APU0000701111      0.238 1995-01-01  U.S. city average   \n",
       "1  APU0000701111      0.262 1996-01-01  U.S. city average   \n",
       "2  APU0000701111      0.309 1997-01-01  U.S. city average   \n",
       "3  APU0000701111      0.299 1998-01-01  U.S. city average   \n",
       "4  APU0000701111      0.297 1999-01-01  U.S. city average   \n",
       "\n",
       "                                       item_name  \n",
       "0  Flour, white, all purpose, per lb. (453.6 gm)  \n",
       "1  Flour, white, all purpose, per lb. (453.6 gm)  \n",
       "2  Flour, white, all purpose, per lb. (453.6 gm)  \n",
       "3  Flour, white, all purpose, per lb. (453.6 gm)  \n",
       "4  Flour, white, all purpose, per lb. (453.6 gm)  "
      ]
     },
     "execution_count": 39,
     "metadata": {},
     "output_type": "execute_result"
    }
   ],
   "source": [
    "df = pd.merge(ap_df,series_df,on='series_id')\n",
    "df.head()"
   ]
  },
  {
   "cell_type": "markdown",
   "id": "6414ef47",
   "metadata": {},
   "source": [
    "### We can now drop the series_id feature, and, for visual convenience, we can rename and reorder the columns ( columns ordered from left to right in increasing specificity )."
   ]
  },
  {
   "cell_type": "code",
   "execution_count": 40,
   "id": "763a985f",
   "metadata": {},
   "outputs": [
    {
     "data": {
      "text/html": [
       "<div>\n",
       "<style scoped>\n",
       "    .dataframe tbody tr th:only-of-type {\n",
       "        vertical-align: middle;\n",
       "    }\n",
       "\n",
       "    .dataframe tbody tr th {\n",
       "        vertical-align: top;\n",
       "    }\n",
       "\n",
       "    .dataframe thead th {\n",
       "        text-align: right;\n",
       "    }\n",
       "</style>\n",
       "<table border=\"1\" class=\"dataframe\">\n",
       "  <thead>\n",
       "    <tr style=\"text-align: right;\">\n",
       "      <th></th>\n",
       "      <th>series_id</th>\n",
       "      <th>value</th>\n",
       "      <th>date</th>\n",
       "      <th>area_name</th>\n",
       "      <th>item_name</th>\n",
       "    </tr>\n",
       "  </thead>\n",
       "  <tbody>\n",
       "    <tr>\n",
       "      <th>0</th>\n",
       "      <td>APU0000701111</td>\n",
       "      <td>0.238</td>\n",
       "      <td>1995-01-01</td>\n",
       "      <td>U.S. city average</td>\n",
       "      <td>Flour, white, all purpose, per lb. (453.6 gm)</td>\n",
       "    </tr>\n",
       "    <tr>\n",
       "      <th>1</th>\n",
       "      <td>APU0000701111</td>\n",
       "      <td>0.262</td>\n",
       "      <td>1996-01-01</td>\n",
       "      <td>U.S. city average</td>\n",
       "      <td>Flour, white, all purpose, per lb. (453.6 gm)</td>\n",
       "    </tr>\n",
       "    <tr>\n",
       "      <th>2</th>\n",
       "      <td>APU0000701111</td>\n",
       "      <td>0.309</td>\n",
       "      <td>1997-01-01</td>\n",
       "      <td>U.S. city average</td>\n",
       "      <td>Flour, white, all purpose, per lb. (453.6 gm)</td>\n",
       "    </tr>\n",
       "    <tr>\n",
       "      <th>3</th>\n",
       "      <td>APU0000701111</td>\n",
       "      <td>0.299</td>\n",
       "      <td>1998-01-01</td>\n",
       "      <td>U.S. city average</td>\n",
       "      <td>Flour, white, all purpose, per lb. (453.6 gm)</td>\n",
       "    </tr>\n",
       "    <tr>\n",
       "      <th>4</th>\n",
       "      <td>APU0000701111</td>\n",
       "      <td>0.297</td>\n",
       "      <td>1999-01-01</td>\n",
       "      <td>U.S. city average</td>\n",
       "      <td>Flour, white, all purpose, per lb. (453.6 gm)</td>\n",
       "    </tr>\n",
       "  </tbody>\n",
       "</table>\n",
       "</div>"
      ],
      "text/plain": [
       "           series_id  value       date          area_name  \\\n",
       "0  APU0000701111      0.238 1995-01-01  U.S. city average   \n",
       "1  APU0000701111      0.262 1996-01-01  U.S. city average   \n",
       "2  APU0000701111      0.309 1997-01-01  U.S. city average   \n",
       "3  APU0000701111      0.299 1998-01-01  U.S. city average   \n",
       "4  APU0000701111      0.297 1999-01-01  U.S. city average   \n",
       "\n",
       "                                       item_name  \n",
       "0  Flour, white, all purpose, per lb. (453.6 gm)  \n",
       "1  Flour, white, all purpose, per lb. (453.6 gm)  \n",
       "2  Flour, white, all purpose, per lb. (453.6 gm)  \n",
       "3  Flour, white, all purpose, per lb. (453.6 gm)  \n",
       "4  Flour, white, all purpose, per lb. (453.6 gm)  "
      ]
     },
     "execution_count": 40,
     "metadata": {},
     "output_type": "execute_result"
    },
    {
     "data": {
      "text/html": [
       "<div>\n",
       "<style scoped>\n",
       "    .dataframe tbody tr th:only-of-type {\n",
       "        vertical-align: middle;\n",
       "    }\n",
       "\n",
       "    .dataframe tbody tr th {\n",
       "        vertical-align: top;\n",
       "    }\n",
       "\n",
       "    .dataframe thead th {\n",
       "        text-align: right;\n",
       "    }\n",
       "</style>\n",
       "<table border=\"1\" class=\"dataframe\">\n",
       "  <thead>\n",
       "    <tr style=\"text-align: right;\">\n",
       "      <th></th>\n",
       "      <th>area</th>\n",
       "      <th>date</th>\n",
       "      <th>item</th>\n",
       "      <th>value</th>\n",
       "    </tr>\n",
       "  </thead>\n",
       "  <tbody>\n",
       "    <tr>\n",
       "      <th>0</th>\n",
       "      <td>U.S. city average</td>\n",
       "      <td>1995-01-01</td>\n",
       "      <td>Flour, white, all purpose, per lb. (453.6 gm)</td>\n",
       "      <td>0.238</td>\n",
       "    </tr>\n",
       "    <tr>\n",
       "      <th>1</th>\n",
       "      <td>U.S. city average</td>\n",
       "      <td>1996-01-01</td>\n",
       "      <td>Flour, white, all purpose, per lb. (453.6 gm)</td>\n",
       "      <td>0.262</td>\n",
       "    </tr>\n",
       "    <tr>\n",
       "      <th>2</th>\n",
       "      <td>U.S. city average</td>\n",
       "      <td>1997-01-01</td>\n",
       "      <td>Flour, white, all purpose, per lb. (453.6 gm)</td>\n",
       "      <td>0.309</td>\n",
       "    </tr>\n",
       "    <tr>\n",
       "      <th>3</th>\n",
       "      <td>U.S. city average</td>\n",
       "      <td>1998-01-01</td>\n",
       "      <td>Flour, white, all purpose, per lb. (453.6 gm)</td>\n",
       "      <td>0.299</td>\n",
       "    </tr>\n",
       "    <tr>\n",
       "      <th>4</th>\n",
       "      <td>U.S. city average</td>\n",
       "      <td>1999-01-01</td>\n",
       "      <td>Flour, white, all purpose, per lb. (453.6 gm)</td>\n",
       "      <td>0.297</td>\n",
       "    </tr>\n",
       "  </tbody>\n",
       "</table>\n",
       "</div>"
      ],
      "text/plain": [
       "                area       date  \\\n",
       "0  U.S. city average 1995-01-01   \n",
       "1  U.S. city average 1996-01-01   \n",
       "2  U.S. city average 1997-01-01   \n",
       "3  U.S. city average 1998-01-01   \n",
       "4  U.S. city average 1999-01-01   \n",
       "\n",
       "                                            item  value  \n",
       "0  Flour, white, all purpose, per lb. (453.6 gm)  0.238  \n",
       "1  Flour, white, all purpose, per lb. (453.6 gm)  0.262  \n",
       "2  Flour, white, all purpose, per lb. (453.6 gm)  0.309  \n",
       "3  Flour, white, all purpose, per lb. (453.6 gm)  0.299  \n",
       "4  Flour, white, all purpose, per lb. (453.6 gm)  0.297  "
      ]
     },
     "execution_count": 40,
     "metadata": {},
     "output_type": "execute_result"
    }
   ],
   "source": [
    "df.head()\n",
    "df = df.drop(['series_id'],axis=1)\n",
    "df = df.rename(columns={'area_name':'area','item_name':'item'})\n",
    "df = df[['area','date','item','value']]\n",
    "df.head()"
   ]
  },
  {
   "cell_type": "markdown",
   "id": "c94f9dae",
   "metadata": {},
   "source": [
    "# Visualizations"
   ]
  },
  {
   "cell_type": "markdown",
   "id": "c52ab379",
   "metadata": {},
   "source": [
    "### Let's get an idea of the various items and areas we are working with."
   ]
  },
  {
   "cell_type": "code",
   "execution_count": 41,
   "id": "ad0e28e6",
   "metadata": {},
   "outputs": [
    {
     "name": "stdout",
     "output_type": "stream",
     "text": [
      "<class 'pandas.core.frame.DataFrame'>\n",
      "Int64Index: 189036 entries, 0 to 189035\n",
      "Data columns (total 4 columns):\n",
      " #   Column  Non-Null Count   Dtype         \n",
      "---  ------  --------------   -----         \n",
      " 0   area    189036 non-null  object        \n",
      " 1   date    189036 non-null  datetime64[ns]\n",
      " 2   item    189036 non-null  object        \n",
      " 3   value   189036 non-null  float64       \n",
      "dtypes: datetime64[ns](1), float64(1), object(2)\n",
      "memory usage: 7.2+ MB\n"
     ]
    },
    {
     "data": {
      "text/html": [
       "<div>\n",
       "<style scoped>\n",
       "    .dataframe tbody tr th:only-of-type {\n",
       "        vertical-align: middle;\n",
       "    }\n",
       "\n",
       "    .dataframe tbody tr th {\n",
       "        vertical-align: top;\n",
       "    }\n",
       "\n",
       "    .dataframe thead th {\n",
       "        text-align: right;\n",
       "    }\n",
       "</style>\n",
       "<table border=\"1\" class=\"dataframe\">\n",
       "  <thead>\n",
       "    <tr style=\"text-align: right;\">\n",
       "      <th></th>\n",
       "      <th>count</th>\n",
       "      <th>mean</th>\n",
       "      <th>std</th>\n",
       "      <th>min</th>\n",
       "      <th>25%</th>\n",
       "      <th>50%</th>\n",
       "      <th>75%</th>\n",
       "      <th>max</th>\n",
       "    </tr>\n",
       "  </thead>\n",
       "  <tbody>\n",
       "    <tr>\n",
       "      <th>value</th>\n",
       "      <td>189036.0</td>\n",
       "      <td>10.024339</td>\n",
       "      <td>23.491854</td>\n",
       "      <td>0.0</td>\n",
       "      <td>1.213</td>\n",
       "      <td>2.422</td>\n",
       "      <td>3.829</td>\n",
       "      <td>224.187</td>\n",
       "    </tr>\n",
       "  </tbody>\n",
       "</table>\n",
       "</div>"
      ],
      "text/plain": [
       "          count       mean        std  min    25%    50%    75%      max\n",
       "value  189036.0  10.024339  23.491854  0.0  1.213  2.422  3.829  224.187"
      ]
     },
     "execution_count": 41,
     "metadata": {},
     "output_type": "execute_result"
    }
   ],
   "source": [
    "df.info()\n",
    "df.describe().transpose()"
   ]
  },
  {
   "cell_type": "code",
   "execution_count": 42,
   "id": "d2807346",
   "metadata": {},
   "outputs": [
    {
     "data": {
      "text/plain": [
       "Index(['area', 'date', 'item', 'value'], dtype='object')"
      ]
     },
     "execution_count": 42,
     "metadata": {},
     "output_type": "execute_result"
    }
   ],
   "source": [
    "df.columns"
   ]
  },
  {
   "cell_type": "code",
   "execution_count": 43,
   "id": "4d7d4df9",
   "metadata": {},
   "outputs": [
    {
     "data": {
      "text/plain": [
       "65"
      ]
     },
     "execution_count": 43,
     "metadata": {},
     "output_type": "execute_result"
    },
    {
     "data": {
      "text/plain": [
       "['U.S. city average',\n",
       " 'Northeast',\n",
       " 'New England',\n",
       " 'Middle Atlantic',\n",
       " 'Midwest',\n",
       " 'East North Central',\n",
       " 'West North Central',\n",
       " 'South',\n",
       " 'South Atlantic',\n",
       " 'East South Central',\n",
       " 'West South Central',\n",
       " 'West',\n",
       " 'Mountain',\n",
       " 'Pacific',\n",
       " 'Pittsburgh, PA',\n",
       " 'Cleveland-Akron, OH',\n",
       " 'Washington-Baltimore, DC-MD-VA-WV',\n",
       " 'Washington, DC-MD-VA',\n",
       " 'Baltimore, MD',\n",
       " 'Los Angeles-Riverside-Orange County, CA',\n",
       " 'City size B',\n",
       " 'Northeast size B',\n",
       " 'North Central size B',\n",
       " 'South size B',\n",
       " 'City size C',\n",
       " 'Northeast size C',\n",
       " 'North Central size C',\n",
       " 'South size C',\n",
       " 'West size C',\n",
       " 'Size Class D',\n",
       " 'Midwest - Size Class D',\n",
       " 'South - Size Class D',\n",
       " 'Size Class B/C',\n",
       " 'Northeast - Size Class B/C',\n",
       " 'Midwest - Size Class B/C',\n",
       " 'South - Size Class B/C',\n",
       " 'West - Size Class B/C',\n",
       " 'Size Class A',\n",
       " 'Northeast - Size Class A',\n",
       " 'Boston-Cambridge-Newton, MA-NH',\n",
       " 'New York-Newark-Jersey City, NY-NJ-PA',\n",
       " 'Philadelphia-Camden-Wilmington, PA-NJ-DE-MD',\n",
       " 'Midwest - Size Class A',\n",
       " 'Chicago-Naperville-Elgin, IL-IN-WI',\n",
       " 'Detroit-Warren-Dearborn, MI',\n",
       " 'Minneapolis-St.Paul-Bloomington, MN-WI',\n",
       " 'St. Louis, MO-IL',\n",
       " 'South - Size Class A',\n",
       " 'Washington-Arlington-Alexandria, DC-VA-MD-WV',\n",
       " 'Miami-Fort Lauderdale-West Palm Beach, FL',\n",
       " 'Atlanta-Sandy Springs-Roswell, GA',\n",
       " 'Tampa-St. Petersburg-Clearwater, FL',\n",
       " 'Baltimore-Columbia-Towson, MD',\n",
       " 'Dallas-Fort Worth-Arlington, TX',\n",
       " 'Houston-The Woodlands-Sugar Land, TX',\n",
       " 'West - Size Class A',\n",
       " 'Phoenix-Mesa-Scottsdale, AZ',\n",
       " 'Denver-Aurora-Lakewood, CO',\n",
       " 'Los Angeles-Long Beach-Anaheim, CA',\n",
       " 'San Francisco-Oakland-Hayward, CA',\n",
       " 'Riverside-San Bernardino-Ontario, CA',\n",
       " 'Seattle-Tacoma-Bellevue WA',\n",
       " 'San Diego-Carlsbad, CA',\n",
       " 'Urban Hawaii',\n",
       " 'Urban Alaska']"
      ]
     },
     "execution_count": 43,
     "metadata": {},
     "output_type": "execute_result"
    }
   ],
   "source": [
    "df['area'].nunique()\n",
    "df['area'].unique().tolist()"
   ]
  },
  {
   "cell_type": "code",
   "execution_count": 44,
   "id": "ef394df2",
   "metadata": {},
   "outputs": [
    {
     "data": {
      "text/plain": [
       "116"
      ]
     },
     "execution_count": 44,
     "metadata": {},
     "output_type": "execute_result"
    },
    {
     "data": {
      "text/plain": [
       "['Flour, white, all purpose, per lb. (453.6 gm)',\n",
       " 'Rice, white, long grain, uncooked, per lb. (453.6 gm)',\n",
       " 'Spaghetti and macaroni, per lb. (453.6 gm)',\n",
       " 'Bread, white, pan, per lb. (453.6 gm)',\n",
       " 'Bread, French, per lb. (453.6 gm)',\n",
       " 'Bread, whole wheat, pan, per lb. (453.6 gm)',\n",
       " 'Cookies, chocolate chip, per lb. (453.6 gm)',\n",
       " 'Crackers, soda, salted, per lb. (453.6 gm)',\n",
       " 'Ground chuck, 100% beef, per lb. (453.6 gm)',\n",
       " 'Ground beef, 100% beef, per lb. (453.6 gm)',\n",
       " 'Ground beef, lean and extra lean, per lb. (453.6 gm)',\n",
       " 'Chuck roast, USDA Choice, bone-in, per lb. (453.6 gm)',\n",
       " 'Chuck roast, graded and ungraded, excluding USDA Prime and Choice, per lb. (453.6 gm)',\n",
       " 'Chuck roast, USDA Choice, boneless, per lb. (453.6 gm)',\n",
       " 'Round roast, USDA Choice, boneless, per lb. (453.6 gm)',\n",
       " 'Round roast, graded and ungraded, excluding USDA Prime and Choice, per lb. (453.6 gm)',\n",
       " 'Rib roast, USDA Choice, bone-in, per lb. (453.6 gm)',\n",
       " 'Steak, T-Bone, USDA Choice, bone-in, per lb. (453.6 gm)',\n",
       " 'Steak, rib eye, USDA Choice, boneless, per lb. (453.6 gm)',\n",
       " 'Short ribs, any primal source, bone-in, per lb. (453.6 gm)',\n",
       " 'Beef for stew, boneless, per lb. (453.6 gm)',\n",
       " 'Steak, round, USDA Choice, boneless, per lb. (453.6 gm)',\n",
       " 'Steak, round, graded and ungraded, excluding USDA Prime and Choice, per lb. (453.6 gm)',\n",
       " 'Steak, sirloin, graded and ungraded, excluding USDA Prime and Choice, per lb. (453.6 gm)',\n",
       " 'Steak, sirloin, USDA Choice, boneless, per lb. (453.6 gm)',\n",
       " 'Bacon, sliced, per lb. (453.6 gm)',\n",
       " 'Chops, center cut, bone-in, per lb. (453.6 gm)',\n",
       " 'Chops, boneless, per lb. (453.6 gm)',\n",
       " 'Ham, rump or shank half, bone-in, smoked,per lb. (453.6 gm)',\n",
       " 'Ham, boneless, excluding canned, per lb. (453.6 gm)',\n",
       " 'Shoulder picnic, bone-in, smoked, per lb. (453.6 gm)',\n",
       " 'Sausage, fresh, loose, per lb. (453.6 gm)',\n",
       " 'Frankfurters, all meat or all beef, per lb. (453.6 gm)',\n",
       " 'Bologna, all beef or mixed, per lb. (453.6 gm)',\n",
       " 'Chicken, fresh, whole, per lb. (453.6 gm)',\n",
       " 'Chicken breast, bone-in, per lb. (453.6 gm)',\n",
       " 'Chicken legs, bone-in, per lb. (453.6 gm)',\n",
       " 'Turkey, frozen, whole, per lb. (453.6 gm)',\n",
       " 'Tuna, light, chunk, per lb. (453.6 gm)',\n",
       " 'Eggs, grade A, large, per doz.',\n",
       " 'Eggs, grade AA, large, per doz.',\n",
       " 'Milk, fresh, whole, fortified, per 1/2 gal. (1.9 lit)',\n",
       " 'Milk, fresh, whole, fortified, per gal. (3.8 lit)',\n",
       " 'Milk, fresh, low fat, per gal. (3.8 lit)',\n",
       " 'Butter, salted, grade AA, stick, per lb. (453.6 gm)',\n",
       " 'Yogurt, natural, fruit flavored, per 8 oz. (226.8 gm)',\n",
       " 'American processed cheese, per lb. (453.6 gm)',\n",
       " 'Cheddar cheese, natural, per lb. (453.6 gm)',\n",
       " 'Ice cream, prepackaged, bulk, regular, per 1/2 gal. (1.9 lit)',\n",
       " 'Apples, Red Delicious, per lb. (453.6 gm)',\n",
       " 'Bananas, per lb. (453.6 gm)',\n",
       " 'Oranges, Navel, per lb. (453.6 gm)',\n",
       " 'Grapefruit, per lb. (453.6 gm)',\n",
       " 'Lemons, per lb. (453.6 gm)',\n",
       " 'Pears, Anjou, per lb. (453.6 gm)',\n",
       " 'Strawberries, dry pint, per 12 oz. (340.2 gm)',\n",
       " 'Grapes, Thompson Seedless, per lb. (453.6 gm)',\n",
       " 'Cherries, per lb. (453.6 gm)',\n",
       " 'Potatoes, white, per lb. (453.6 gm)',\n",
       " 'Lettuce, iceberg, per lb. (453.6 gm)',\n",
       " 'Tomatoes, field grown, per lb. (453.6 gm)',\n",
       " 'Cabbage, per lb. (453.6 gm)',\n",
       " 'Celery, per lb. (453.6 gm)',\n",
       " 'Carrots, short trimmed and topped, per lb. (453.6 gm)',\n",
       " 'Onions, dry yellow, per lb. (453.6 gm)',\n",
       " 'Peppers, sweet, per lb. (453.6 gm)',\n",
       " 'Cucumbers, per lb. (453.6 gm)',\n",
       " 'Broccoli, per lb. (453.6 gm)',\n",
       " 'Orange juice, frozen concentrate, 12 oz. can, per 16 oz. (473.2 ml)',\n",
       " 'Apple Sauce, any variety, all sizes, per lb. (453.6 gm)',\n",
       " 'Peaches, any variety, all sizes, per lb. (453.6 gm)',\n",
       " 'Potatoes, frozen, French fried, per lb. (453.6 gm)',\n",
       " 'Corn, canned, any style, all sizes, per lb. (453.6 gm)',\n",
       " 'Tomatoes, canned, any type, all sizes,  per lb. (453.6 gm)',\n",
       " 'Beans, dried, any type, all sizes, per lb. (453.6 gm)',\n",
       " 'Sugar, white, all sizes, per lb. (453.6 gm)',\n",
       " 'Sugar, white, 33-80 oz. pkg, per lb. (453.6 gm)',\n",
       " 'Margarine, stick, per lb. (453.6 gm)',\n",
       " 'Margarine, soft, tubs, per lb. (453.6 gm)',\n",
       " 'Shortening, vegetable oil blends, per lb. (453.6 gm)',\n",
       " 'Peanut butter, creamy, all sizes, per lb. (453.6 gm)',\n",
       " 'Cola, nondiet, per 2 liters (67.6 oz)',\n",
       " 'Coffee, 100%, ground roast, all sizes, per lb. (453.6 gm)',\n",
       " 'Coffee, instant, plain, regular, all sizes, per lb. (453.6 gm)',\n",
       " 'Potato chips, per 16 oz.',\n",
       " 'Malt beverages, all types, all sizes, any origin, per 16 oz. (473.2 ml)',\n",
       " 'Vodka, all types, all sizes, any origin, per 1 liter (33.8 oz)',\n",
       " 'Wine, red and white table, all sizes, any origin, per 1 liter (33.8 oz)',\n",
       " 'Fuel oil #2 per gallon (3.785 liters)',\n",
       " 'Utility (piped) gas - 40 therms',\n",
       " 'Electricity per KWH',\n",
       " 'Utility (piped) gas - 100 therms',\n",
       " 'Utility (piped) gas per therm',\n",
       " 'Electricity per 500 KWH',\n",
       " 'Gasoline, unleaded regular, per gallon/3.785 liters',\n",
       " 'Gasoline, unleaded midgrade, per gallon/3.785 liters',\n",
       " 'Gasoline, unleaded premium, per gallon/3.785 liters',\n",
       " 'Automotive diesel fuel, per gallon/3.785 liters',\n",
       " 'Gasoline, all types, per gallon/3.785 liters',\n",
       " 'All uncooked ground beef, per lb. (453.6 gm)',\n",
       " 'All Uncooked Beef Roasts, per lb. (453.6 gm)',\n",
       " 'All Uncooked Beef Steaks, per lb. (453.6 gm)',\n",
       " 'All Uncooked Other Beef (Excluding Veal), per lb. (453.6 gm)',\n",
       " 'All Ham (Excluding Canned Ham and Luncheon Slices), per lb. (453.6 gm)',\n",
       " 'All Pork Chops, per lb. (453.6 gm)',\n",
       " 'All Other Pork (Excluding Canned Ham and Luncheon Slices), per lb. (453.6 gm)',\n",
       " 'Chicken breast, boneless, per lb. (453.6 gm)',\n",
       " 'Milk, fresh, low-fat, reduced fat, skim, per gal. (3.8 lit)',\n",
       " 'Yogurt, per 8 oz. (226.8 gm)',\n",
       " 'Lettuce, romaine, per lb. (453.6 gm)',\n",
       " 'All soft drinks, per 2 liters (67.6 oz)',\n",
       " 'All soft drinks, 12 pk, 12 oz., cans, per 12 oz. (354.9 ml)',\n",
       " 'Butter, stick, per lb. (453.6 gm)',\n",
       " 'Steak, sirloin, USDA Choice, bone-in, per lb. (453.6 gm)',\n",
       " 'Peaches, per lb. (453.6 gm)',\n",
       " 'Oranges, Valencia, per lb. (453.6 gm)']"
      ]
     },
     "execution_count": 44,
     "metadata": {},
     "output_type": "execute_result"
    }
   ],
   "source": [
    "df['item'].nunique()\n",
    "df['item'].unique().tolist()"
   ]
  },
  {
   "cell_type": "markdown",
   "id": "3cffe5dd",
   "metadata": {},
   "source": [
    "### Let's create lists for the various types of locations."
   ]
  },
  {
   "cell_type": "code",
   "execution_count": 45,
   "id": "5461ffe8",
   "metadata": {},
   "outputs": [],
   "source": [
    "cities = ['U.S. city average',\n",
    "          'Cleveland-Akron, OH',\n",
    "          'Washington-Baltimore, DC-MD-VA-WV',\n",
    "          'Washington, DC-MD-VA',\n",
    "          'Baltimore, MD',\n",
    "          'Los Angeles-Riverside-Orange County, CA',\n",
    "          'Boston-Cambridge-Newton, MA-NH',\n",
    "          'New York-Newark-Jersey City, NY-NJ-PA',\n",
    "          'Philadelphia-Camden-Wilmington, PA-NJ-DE-MD',\n",
    "          'Chicago-Naperville-Elgin, IL-IN-WI',\n",
    "          'Detroit-Warren-Dearborn, MI',\n",
    "          'Minneapolis-St.Paul-Bloomington, MN-WI',\n",
    "          'St. Louis, MO-IL',\n",
    "          'Washington-Arlington-Alexandria, DC-VA-MD-WV',\n",
    "          'Miami-Fort Lauderdale-West Palm Beach, FL',\n",
    "          'Atlanta-Sandy Springs-Roswell, GA',\n",
    "          'Tampa-St. Petersburg-Clearwater, FL',\n",
    "          'Baltimore-Columbia-Towson, MD',\n",
    "          'Dallas-Fort Worth-Arlington, TX',\n",
    "          'Houston-The Woodlands-Sugar Land, TX',\n",
    "          'Phoenix-Mesa-Scottsdale, AZ',\n",
    "          'Denver-Aurora-Lakewood, CO',\n",
    "          'Los Angeles-Long Beach-Anaheim, CA',\n",
    "          'San Francisco-Oakland-Hayward, CA',\n",
    "          'Riverside-San Bernardino-Ontario, CA',\n",
    "          'Seattle-Tacoma-Bellevue WA',\n",
    "          'San Diego-Carlsbad, CA',\n",
    "          'Urban Hawaii',\n",
    "          'Urban Alaska']\n",
    "\n",
    "regions = ['Northeast',\n",
    "           'New England',\n",
    "           'Middle Atlantic',\n",
    "           'Midwest',\n",
    "           'East North Central',\n",
    "           'West North Central',\n",
    "           'South',\n",
    "           'South Atlantic',\n",
    "           'East South Central',\n",
    "           'West South Central',\n",
    "           'West',\n",
    "           'Mountain',\n",
    "           'Pacific']\n",
    "\n",
    "classes = ['City size B',\n",
    "           'Northeast size B',\n",
    "           'North Central size B',\n",
    "           'South size B',\n",
    "           'City size C',\n",
    "           'Northeast size C',\n",
    "           'North Central size C',\n",
    "           'South size C',\n",
    "           'West size C',\n",
    "           'Size Class D',\n",
    "           'Midwest - Size Class D',\n",
    "           'South - Size Class D',\n",
    "           'Size Class B/C',\n",
    "           'Northeast - Size Class B/C',\n",
    "           'Midwest - Size Class B/C',\n",
    "           'South - Size Class B/C',\n",
    "           'West - Size Class B/C',\n",
    "           'Size Class A',\n",
    "           'Northeast - Size Class A',\n",
    "           'Midwest - Size Class A',\n",
    "           'South - Size Class A',\n",
    "           'West - Size Class A']"
   ]
  },
  {
   "cell_type": "markdown",
   "id": "24069008",
   "metadata": {},
   "source": [
    "### Let's generate a DataFrame containing data for the U.S. city average price value of Gasoline, all types."
   ]
  },
  {
   "cell_type": "code",
   "execution_count": 46,
   "id": "bad9a2bf",
   "metadata": {},
   "outputs": [
    {
     "data": {
      "text/html": [
       "<div>\n",
       "<style scoped>\n",
       "    .dataframe tbody tr th:only-of-type {\n",
       "        vertical-align: middle;\n",
       "    }\n",
       "\n",
       "    .dataframe tbody tr th {\n",
       "        vertical-align: top;\n",
       "    }\n",
       "\n",
       "    .dataframe thead th {\n",
       "        text-align: right;\n",
       "    }\n",
       "</style>\n",
       "<table border=\"1\" class=\"dataframe\">\n",
       "  <thead>\n",
       "    <tr style=\"text-align: right;\">\n",
       "      <th></th>\n",
       "      <th>date</th>\n",
       "      <th>value</th>\n",
       "      <th>monthly</th>\n",
       "      <th>yearly</th>\n",
       "    </tr>\n",
       "  </thead>\n",
       "  <tbody>\n",
       "    <tr>\n",
       "      <th>22391</th>\n",
       "      <td>1995-01-01</td>\n",
       "      <td>1.190</td>\n",
       "      <td>NaN</td>\n",
       "      <td>NaN</td>\n",
       "    </tr>\n",
       "    <tr>\n",
       "      <th>22419</th>\n",
       "      <td>1995-02-01</td>\n",
       "      <td>1.181</td>\n",
       "      <td>-0.756303</td>\n",
       "      <td>NaN</td>\n",
       "    </tr>\n",
       "    <tr>\n",
       "      <th>22447</th>\n",
       "      <td>1995-03-01</td>\n",
       "      <td>1.173</td>\n",
       "      <td>-0.677392</td>\n",
       "      <td>NaN</td>\n",
       "    </tr>\n",
       "    <tr>\n",
       "      <th>22475</th>\n",
       "      <td>1995-04-01</td>\n",
       "      <td>1.197</td>\n",
       "      <td>2.046036</td>\n",
       "      <td>NaN</td>\n",
       "    </tr>\n",
       "    <tr>\n",
       "      <th>22503</th>\n",
       "      <td>1995-05-01</td>\n",
       "      <td>1.256</td>\n",
       "      <td>4.928989</td>\n",
       "      <td>NaN</td>\n",
       "    </tr>\n",
       "  </tbody>\n",
       "</table>\n",
       "</div>"
      ],
      "text/plain": [
       "            date  value   monthly  yearly\n",
       "22391 1995-01-01  1.190       NaN     NaN\n",
       "22419 1995-02-01  1.181 -0.756303     NaN\n",
       "22447 1995-03-01  1.173 -0.677392     NaN\n",
       "22475 1995-04-01  1.197  2.046036     NaN\n",
       "22503 1995-05-01  1.256  4.928989     NaN"
      ]
     },
     "execution_count": 46,
     "metadata": {},
     "output_type": "execute_result"
    }
   ],
   "source": [
    "gas_all_df = df[(df['item'] == 'Gasoline, all types, per gallon/3.785 liters') \n",
    "           & (df['area'] == 'U.S. city average')].sort_values(by='date')\n",
    "\n",
    "# Add monthly and yearly changes in value.\n",
    "gas_all_df['monthly'] = 100*gas_all_df['value'].pct_change()\n",
    "gas_all_df['yearly'] = 100*gas_all_df['value'].pct_change(periods=12)\n",
    "\n",
    "# Drop irrelevant columns.\n",
    "gas_all_df = gas_all_df.drop(['area','item'],axis=1)\n",
    "gas_all_df.head()"
   ]
  },
  {
   "cell_type": "code",
   "execution_count": 47,
   "id": "4b07d2c0",
   "metadata": {},
   "outputs": [
    {
     "data": {
      "application/vnd.plotly.v1+json": {
       "config": {
        "linkText": "Export to plot.ly",
        "plotlyServerURL": "https://plot.ly",
        "showLink": true
       },
       "data": [
        {
         "line": {
          "color": "rgba(0, 0, 0, 1.0)",
          "dash": "solid",
          "shape": "linear",
          "width": 1.3
         },
         "mode": "lines",
         "name": "value",
         "text": "",
         "type": "scatter",
         "x": [
          "1995-01-01",
          "1995-02-01",
          "1995-03-01",
          "1995-04-01",
          "1995-05-01",
          "1995-06-01",
          "1995-07-01",
          "1995-08-01",
          "1995-09-01",
          "1995-10-01",
          "1995-11-01",
          "1995-12-01",
          "1996-01-01",
          "1996-02-01",
          "1996-03-01",
          "1996-04-01",
          "1996-05-01",
          "1996-06-01",
          "1996-07-01",
          "1996-08-01",
          "1996-09-01",
          "1996-10-01",
          "1996-11-01",
          "1996-12-01",
          "1997-01-01",
          "1997-02-01",
          "1997-03-01",
          "1997-04-01",
          "1997-05-01",
          "1997-06-01",
          "1997-07-01",
          "1997-08-01",
          "1997-09-01",
          "1997-10-01",
          "1997-11-01",
          "1997-12-01",
          "1998-01-01",
          "1998-02-01",
          "1998-03-01",
          "1998-04-01",
          "1998-05-01",
          "1998-06-01",
          "1998-07-01",
          "1998-08-01",
          "1998-09-01",
          "1998-10-01",
          "1998-11-01",
          "1998-12-01",
          "1999-01-01",
          "1999-02-01",
          "1999-03-01",
          "1999-04-01",
          "1999-05-01",
          "1999-06-01",
          "1999-07-01",
          "1999-08-01",
          "1999-09-01",
          "1999-10-01",
          "1999-11-01",
          "1999-12-01",
          "2000-01-01",
          "2000-02-01",
          "2000-03-01",
          "2000-04-01",
          "2000-05-01",
          "2000-06-01",
          "2000-07-01",
          "2000-08-01",
          "2000-09-01",
          "2000-10-01",
          "2000-11-01",
          "2000-12-01",
          "2001-01-01",
          "2001-02-01",
          "2001-03-01",
          "2001-04-01",
          "2001-05-01",
          "2001-06-01",
          "2001-07-01",
          "2001-08-01",
          "2001-09-01",
          "2001-10-01",
          "2001-11-01",
          "2001-12-01",
          "2002-01-01",
          "2002-02-01",
          "2002-03-01",
          "2002-04-01",
          "2002-05-01",
          "2002-06-01",
          "2002-07-01",
          "2002-08-01",
          "2002-09-01",
          "2002-10-01",
          "2002-11-01",
          "2002-12-01",
          "2003-01-01",
          "2003-02-01",
          "2003-03-01",
          "2003-04-01",
          "2003-05-01",
          "2003-06-01",
          "2003-07-01",
          "2003-08-01",
          "2003-09-01",
          "2003-10-01",
          "2003-11-01",
          "2003-12-01",
          "2004-01-01",
          "2004-02-01",
          "2004-03-01",
          "2004-04-01",
          "2004-05-01",
          "2004-06-01",
          "2004-07-01",
          "2004-08-01",
          "2004-09-01",
          "2004-10-01",
          "2004-11-01",
          "2004-12-01",
          "2005-01-01",
          "2005-02-01",
          "2005-03-01",
          "2005-04-01",
          "2005-05-01",
          "2005-06-01",
          "2005-07-01",
          "2005-08-01",
          "2005-09-01",
          "2005-10-01",
          "2005-11-01",
          "2005-12-01",
          "2006-01-01",
          "2006-02-01",
          "2006-03-01",
          "2006-04-01",
          "2006-05-01",
          "2006-06-01",
          "2006-07-01",
          "2006-08-01",
          "2006-09-01",
          "2006-10-01",
          "2006-11-01",
          "2006-12-01",
          "2007-01-01",
          "2007-02-01",
          "2007-03-01",
          "2007-04-01",
          "2007-05-01",
          "2007-06-01",
          "2007-07-01",
          "2007-08-01",
          "2007-09-01",
          "2007-10-01",
          "2007-11-01",
          "2007-12-01",
          "2008-01-01",
          "2008-02-01",
          "2008-03-01",
          "2008-04-01",
          "2008-05-01",
          "2008-06-01",
          "2008-07-01",
          "2008-08-01",
          "2008-09-01",
          "2008-10-01",
          "2008-11-01",
          "2008-12-01",
          "2009-01-01",
          "2009-02-01",
          "2009-03-01",
          "2009-04-01",
          "2009-05-01",
          "2009-06-01",
          "2009-07-01",
          "2009-08-01",
          "2009-09-01",
          "2009-10-01",
          "2009-11-01",
          "2009-12-01",
          "2010-01-01",
          "2010-02-01",
          "2010-03-01",
          "2010-04-01",
          "2010-05-01",
          "2010-06-01",
          "2010-07-01",
          "2010-08-01",
          "2010-09-01",
          "2010-10-01",
          "2010-11-01",
          "2010-12-01",
          "2011-01-01",
          "2011-02-01",
          "2011-03-01",
          "2011-04-01",
          "2011-05-01",
          "2011-06-01",
          "2011-07-01",
          "2011-08-01",
          "2011-09-01",
          "2011-10-01",
          "2011-11-01",
          "2011-12-01",
          "2012-01-01",
          "2012-02-01",
          "2012-03-01",
          "2012-04-01",
          "2012-05-01",
          "2012-06-01",
          "2012-07-01",
          "2012-08-01",
          "2012-09-01",
          "2012-10-01",
          "2012-11-01",
          "2012-12-01",
          "2013-01-01",
          "2013-02-01",
          "2013-03-01",
          "2013-04-01",
          "2013-05-01",
          "2013-06-01",
          "2013-07-01",
          "2013-08-01",
          "2013-09-01",
          "2013-10-01",
          "2013-11-01",
          "2013-12-01",
          "2014-01-01",
          "2014-02-01",
          "2014-03-01",
          "2014-04-01",
          "2014-05-01",
          "2014-06-01",
          "2014-07-01",
          "2014-08-01",
          "2014-09-01",
          "2014-10-01",
          "2014-11-01",
          "2014-12-01",
          "2015-01-01",
          "2015-02-01",
          "2015-03-01",
          "2015-04-01",
          "2015-05-01",
          "2015-06-01",
          "2015-07-01",
          "2015-08-01",
          "2015-09-01",
          "2015-10-01",
          "2015-11-01",
          "2015-12-01",
          "2016-01-01",
          "2016-02-01",
          "2016-03-01",
          "2016-04-01",
          "2016-05-01",
          "2016-06-01",
          "2016-07-01",
          "2016-08-01",
          "2016-09-01",
          "2016-10-01",
          "2016-11-01",
          "2016-12-01",
          "2017-01-01",
          "2017-02-01",
          "2017-03-01",
          "2017-04-01",
          "2017-05-01",
          "2017-06-01",
          "2017-07-01",
          "2017-08-01",
          "2017-09-01",
          "2017-10-01",
          "2017-11-01",
          "2017-12-01",
          "2018-01-01",
          "2018-02-01",
          "2018-03-01",
          "2018-04-01",
          "2018-05-01",
          "2018-06-01",
          "2018-07-01",
          "2018-08-01",
          "2018-09-01",
          "2018-10-01",
          "2018-11-01",
          "2018-12-01",
          "2019-01-01",
          "2019-02-01",
          "2019-03-01",
          "2019-04-01",
          "2019-05-01",
          "2019-06-01",
          "2019-07-01",
          "2019-08-01",
          "2019-09-01",
          "2019-10-01",
          "2019-11-01",
          "2019-12-01",
          "2020-01-01",
          "2020-02-01",
          "2020-03-01",
          "2020-04-01",
          "2020-05-01",
          "2020-06-01",
          "2020-07-01",
          "2020-08-01",
          "2020-09-01",
          "2020-10-01",
          "2020-11-01",
          "2020-12-01",
          "2021-01-01",
          "2021-02-01",
          "2021-03-01",
          "2021-04-01",
          "2021-05-01",
          "2021-06-01",
          "2021-07-01",
          "2021-08-01",
          "2021-09-01",
          "2021-10-01",
          "2021-11-01",
          "2021-12-01",
          "2022-01-01",
          "2022-02-01",
          "2022-03-01",
          "2022-04-01",
          "2022-05-01",
          "2022-06-01"
         ],
         "y": [
          1.19,
          1.181,
          1.173,
          1.197,
          1.256,
          1.281,
          1.252,
          1.222,
          1.206,
          1.185,
          1.161,
          1.16,
          1.186,
          1.181,
          1.219,
          1.305,
          1.378,
          1.354,
          1.328,
          1.298,
          1.293,
          1.287,
          1.308,
          1.318,
          1.318,
          1.312,
          1.293,
          1.288,
          1.284,
          1.286,
          1.263,
          1.31,
          1.334,
          1.3,
          1.271,
          1.236,
          1.186,
          1.137,
          1.097,
          1.106,
          1.146,
          1.148,
          1.134,
          1.108,
          1.091,
          1.099,
          1.086,
          1.046,
          1.031,
          1.014,
          1.048,
          1.232,
          1.233,
          1.204,
          1.244,
          1.309,
          1.334,
          1.329,
          1.319,
          1.353,
          1.356,
          1.422,
          1.594,
          1.561,
          1.552,
          1.666,
          1.642,
          1.559,
          1.635,
          1.613,
          1.608,
          1.544,
          1.525,
          1.538,
          1.503,
          1.617,
          1.812,
          1.731,
          1.565,
          1.509,
          1.609,
          1.442,
          1.324,
          1.2,
          1.209,
          1.21,
          1.324,
          1.493,
          1.508,
          1.489,
          1.496,
          1.508,
          1.507,
          1.535,
          1.534,
          1.477,
          1.557,
          1.686,
          1.791,
          1.704,
          1.587,
          1.558,
          1.567,
          1.671,
          1.771,
          1.646,
          1.578,
          1.538,
          1.635,
          1.715,
          1.809,
          1.875,
          2.05,
          2.083,
          1.982,
          1.941,
          1.934,
          2.072,
          2.053,
          1.926,
          1.866,
          1.96,
          2.107,
          2.325,
          2.257,
          2.218,
          2.357,
          2.548,
          2.969,
          2.83,
          2.387,
          2.23,
          2.359,
          2.354,
          2.444,
          2.801,
          2.993,
          2.963,
          3.046,
          3.033,
          2.637,
          2.319,
          2.287,
          2.38,
          2.321,
          2.333,
          2.639,
          2.909,
          3.176,
          3.1,
          3.013,
          2.833,
          2.839,
          2.843,
          3.118,
          3.069,
          3.096,
          3.083,
          3.307,
          3.491,
          3.813,
          4.115,
          4.142,
          3.838,
          3.749,
          3.225,
          2.208,
          1.742,
          1.838,
          1.979,
          2,
          2.107,
          2.314,
          2.681,
          2.594,
          2.677,
          2.626,
          2.613,
          2.709,
          2.671,
          2.779,
          2.709,
          2.829,
          2.906,
          2.915,
          2.783,
          2.783,
          2.795,
          2.754,
          2.843,
          2.899,
          3.031,
          3.139,
          3.215,
          3.594,
          3.863,
          3.982,
          3.753,
          3.703,
          3.68,
          3.664,
          3.521,
          3.475,
          3.329,
          3.447,
          3.622,
          3.918,
          3.976,
          3.839,
          3.602,
          3.502,
          3.759,
          3.908,
          3.839,
          3.542,
          3.386,
          3.407,
          3.748,
          3.792,
          3.647,
          3.682,
          3.693,
          3.687,
          3.658,
          3.616,
          3.434,
          3.31,
          3.333,
          3.378,
          3.422,
          3.59,
          3.717,
          3.745,
          3.75,
          3.69,
          3.54,
          3.463,
          3.241,
          2.945,
          2.618,
          2.17,
          2.308,
          2.544,
          2.545,
          2.832,
          2.889,
          2.893,
          2.745,
          2.463,
          2.357,
          2.249,
          2.125,
          2.034,
          1.833,
          2.021,
          2.196,
          2.324,
          2.422,
          2.287,
          2.218,
          2.269,
          2.304,
          2.246,
          2.289,
          2.409,
          2.36,
          2.386,
          2.479,
          2.448,
          2.4,
          2.344,
          2.436,
          2.688,
          2.545,
          2.608,
          2.521,
          2.596,
          2.632,
          2.631,
          2.795,
          2.963,
          2.97,
          2.93,
          2.919,
          2.93,
          2.945,
          2.733,
          2.479,
          2.352,
          2.412,
          2.62,
          2.894,
          2.963,
          2.814,
          2.836,
          2.716,
          2.694,
          2.741,
          2.687,
          2.652,
          2.631,
          2.53,
          2.334,
          1.946,
          1.946,
          2.141,
          2.243,
          2.245,
          2.26,
          2.228,
          2.159,
          2.235,
          2.391,
          2.559,
          2.856,
          2.907,
          3.041,
          3.245,
          3.326,
          3.351,
          3.361,
          3.477,
          3.576,
          3.505,
          3.5,
          3.675,
          4.401,
          4.369,
          4.695,
          5.149
         ]
        }
       ],
       "layout": {
        "legend": {
         "bgcolor": "#F5F6F9",
         "font": {
          "color": "#4D5663"
         }
        },
        "paper_bgcolor": "#F5F6F9",
        "plot_bgcolor": "#F5F6F9",
        "template": {
         "data": {
          "bar": [
           {
            "error_x": {
             "color": "#2a3f5f"
            },
            "error_y": {
             "color": "#2a3f5f"
            },
            "marker": {
             "line": {
              "color": "#E5ECF6",
              "width": 0.5
             },
             "pattern": {
              "fillmode": "overlay",
              "size": 10,
              "solidity": 0.2
             }
            },
            "type": "bar"
           }
          ],
          "barpolar": [
           {
            "marker": {
             "line": {
              "color": "#E5ECF6",
              "width": 0.5
             },
             "pattern": {
              "fillmode": "overlay",
              "size": 10,
              "solidity": 0.2
             }
            },
            "type": "barpolar"
           }
          ],
          "carpet": [
           {
            "aaxis": {
             "endlinecolor": "#2a3f5f",
             "gridcolor": "white",
             "linecolor": "white",
             "minorgridcolor": "white",
             "startlinecolor": "#2a3f5f"
            },
            "baxis": {
             "endlinecolor": "#2a3f5f",
             "gridcolor": "white",
             "linecolor": "white",
             "minorgridcolor": "white",
             "startlinecolor": "#2a3f5f"
            },
            "type": "carpet"
           }
          ],
          "choropleth": [
           {
            "colorbar": {
             "outlinewidth": 0,
             "ticks": ""
            },
            "type": "choropleth"
           }
          ],
          "contour": [
           {
            "colorbar": {
             "outlinewidth": 0,
             "ticks": ""
            },
            "colorscale": [
             [
              0,
              "#0d0887"
             ],
             [
              0.1111111111111111,
              "#46039f"
             ],
             [
              0.2222222222222222,
              "#7201a8"
             ],
             [
              0.3333333333333333,
              "#9c179e"
             ],
             [
              0.4444444444444444,
              "#bd3786"
             ],
             [
              0.5555555555555556,
              "#d8576b"
             ],
             [
              0.6666666666666666,
              "#ed7953"
             ],
             [
              0.7777777777777778,
              "#fb9f3a"
             ],
             [
              0.8888888888888888,
              "#fdca26"
             ],
             [
              1,
              "#f0f921"
             ]
            ],
            "type": "contour"
           }
          ],
          "contourcarpet": [
           {
            "colorbar": {
             "outlinewidth": 0,
             "ticks": ""
            },
            "type": "contourcarpet"
           }
          ],
          "heatmap": [
           {
            "colorbar": {
             "outlinewidth": 0,
             "ticks": ""
            },
            "colorscale": [
             [
              0,
              "#0d0887"
             ],
             [
              0.1111111111111111,
              "#46039f"
             ],
             [
              0.2222222222222222,
              "#7201a8"
             ],
             [
              0.3333333333333333,
              "#9c179e"
             ],
             [
              0.4444444444444444,
              "#bd3786"
             ],
             [
              0.5555555555555556,
              "#d8576b"
             ],
             [
              0.6666666666666666,
              "#ed7953"
             ],
             [
              0.7777777777777778,
              "#fb9f3a"
             ],
             [
              0.8888888888888888,
              "#fdca26"
             ],
             [
              1,
              "#f0f921"
             ]
            ],
            "type": "heatmap"
           }
          ],
          "heatmapgl": [
           {
            "colorbar": {
             "outlinewidth": 0,
             "ticks": ""
            },
            "colorscale": [
             [
              0,
              "#0d0887"
             ],
             [
              0.1111111111111111,
              "#46039f"
             ],
             [
              0.2222222222222222,
              "#7201a8"
             ],
             [
              0.3333333333333333,
              "#9c179e"
             ],
             [
              0.4444444444444444,
              "#bd3786"
             ],
             [
              0.5555555555555556,
              "#d8576b"
             ],
             [
              0.6666666666666666,
              "#ed7953"
             ],
             [
              0.7777777777777778,
              "#fb9f3a"
             ],
             [
              0.8888888888888888,
              "#fdca26"
             ],
             [
              1,
              "#f0f921"
             ]
            ],
            "type": "heatmapgl"
           }
          ],
          "histogram": [
           {
            "marker": {
             "pattern": {
              "fillmode": "overlay",
              "size": 10,
              "solidity": 0.2
             }
            },
            "type": "histogram"
           }
          ],
          "histogram2d": [
           {
            "colorbar": {
             "outlinewidth": 0,
             "ticks": ""
            },
            "colorscale": [
             [
              0,
              "#0d0887"
             ],
             [
              0.1111111111111111,
              "#46039f"
             ],
             [
              0.2222222222222222,
              "#7201a8"
             ],
             [
              0.3333333333333333,
              "#9c179e"
             ],
             [
              0.4444444444444444,
              "#bd3786"
             ],
             [
              0.5555555555555556,
              "#d8576b"
             ],
             [
              0.6666666666666666,
              "#ed7953"
             ],
             [
              0.7777777777777778,
              "#fb9f3a"
             ],
             [
              0.8888888888888888,
              "#fdca26"
             ],
             [
              1,
              "#f0f921"
             ]
            ],
            "type": "histogram2d"
           }
          ],
          "histogram2dcontour": [
           {
            "colorbar": {
             "outlinewidth": 0,
             "ticks": ""
            },
            "colorscale": [
             [
              0,
              "#0d0887"
             ],
             [
              0.1111111111111111,
              "#46039f"
             ],
             [
              0.2222222222222222,
              "#7201a8"
             ],
             [
              0.3333333333333333,
              "#9c179e"
             ],
             [
              0.4444444444444444,
              "#bd3786"
             ],
             [
              0.5555555555555556,
              "#d8576b"
             ],
             [
              0.6666666666666666,
              "#ed7953"
             ],
             [
              0.7777777777777778,
              "#fb9f3a"
             ],
             [
              0.8888888888888888,
              "#fdca26"
             ],
             [
              1,
              "#f0f921"
             ]
            ],
            "type": "histogram2dcontour"
           }
          ],
          "mesh3d": [
           {
            "colorbar": {
             "outlinewidth": 0,
             "ticks": ""
            },
            "type": "mesh3d"
           }
          ],
          "parcoords": [
           {
            "line": {
             "colorbar": {
              "outlinewidth": 0,
              "ticks": ""
             }
            },
            "type": "parcoords"
           }
          ],
          "pie": [
           {
            "automargin": true,
            "type": "pie"
           }
          ],
          "scatter": [
           {
            "marker": {
             "colorbar": {
              "outlinewidth": 0,
              "ticks": ""
             }
            },
            "type": "scatter"
           }
          ],
          "scatter3d": [
           {
            "line": {
             "colorbar": {
              "outlinewidth": 0,
              "ticks": ""
             }
            },
            "marker": {
             "colorbar": {
              "outlinewidth": 0,
              "ticks": ""
             }
            },
            "type": "scatter3d"
           }
          ],
          "scattercarpet": [
           {
            "marker": {
             "colorbar": {
              "outlinewidth": 0,
              "ticks": ""
             }
            },
            "type": "scattercarpet"
           }
          ],
          "scattergeo": [
           {
            "marker": {
             "colorbar": {
              "outlinewidth": 0,
              "ticks": ""
             }
            },
            "type": "scattergeo"
           }
          ],
          "scattergl": [
           {
            "marker": {
             "colorbar": {
              "outlinewidth": 0,
              "ticks": ""
             }
            },
            "type": "scattergl"
           }
          ],
          "scattermapbox": [
           {
            "marker": {
             "colorbar": {
              "outlinewidth": 0,
              "ticks": ""
             }
            },
            "type": "scattermapbox"
           }
          ],
          "scatterpolar": [
           {
            "marker": {
             "colorbar": {
              "outlinewidth": 0,
              "ticks": ""
             }
            },
            "type": "scatterpolar"
           }
          ],
          "scatterpolargl": [
           {
            "marker": {
             "colorbar": {
              "outlinewidth": 0,
              "ticks": ""
             }
            },
            "type": "scatterpolargl"
           }
          ],
          "scatterternary": [
           {
            "marker": {
             "colorbar": {
              "outlinewidth": 0,
              "ticks": ""
             }
            },
            "type": "scatterternary"
           }
          ],
          "surface": [
           {
            "colorbar": {
             "outlinewidth": 0,
             "ticks": ""
            },
            "colorscale": [
             [
              0,
              "#0d0887"
             ],
             [
              0.1111111111111111,
              "#46039f"
             ],
             [
              0.2222222222222222,
              "#7201a8"
             ],
             [
              0.3333333333333333,
              "#9c179e"
             ],
             [
              0.4444444444444444,
              "#bd3786"
             ],
             [
              0.5555555555555556,
              "#d8576b"
             ],
             [
              0.6666666666666666,
              "#ed7953"
             ],
             [
              0.7777777777777778,
              "#fb9f3a"
             ],
             [
              0.8888888888888888,
              "#fdca26"
             ],
             [
              1,
              "#f0f921"
             ]
            ],
            "type": "surface"
           }
          ],
          "table": [
           {
            "cells": {
             "fill": {
              "color": "#EBF0F8"
             },
             "line": {
              "color": "white"
             }
            },
            "header": {
             "fill": {
              "color": "#C8D4E3"
             },
             "line": {
              "color": "white"
             }
            },
            "type": "table"
           }
          ]
         },
         "layout": {
          "annotationdefaults": {
           "arrowcolor": "#2a3f5f",
           "arrowhead": 0,
           "arrowwidth": 1
          },
          "autotypenumbers": "strict",
          "coloraxis": {
           "colorbar": {
            "outlinewidth": 0,
            "ticks": ""
           }
          },
          "colorscale": {
           "diverging": [
            [
             0,
             "#8e0152"
            ],
            [
             0.1,
             "#c51b7d"
            ],
            [
             0.2,
             "#de77ae"
            ],
            [
             0.3,
             "#f1b6da"
            ],
            [
             0.4,
             "#fde0ef"
            ],
            [
             0.5,
             "#f7f7f7"
            ],
            [
             0.6,
             "#e6f5d0"
            ],
            [
             0.7,
             "#b8e186"
            ],
            [
             0.8,
             "#7fbc41"
            ],
            [
             0.9,
             "#4d9221"
            ],
            [
             1,
             "#276419"
            ]
           ],
           "sequential": [
            [
             0,
             "#0d0887"
            ],
            [
             0.1111111111111111,
             "#46039f"
            ],
            [
             0.2222222222222222,
             "#7201a8"
            ],
            [
             0.3333333333333333,
             "#9c179e"
            ],
            [
             0.4444444444444444,
             "#bd3786"
            ],
            [
             0.5555555555555556,
             "#d8576b"
            ],
            [
             0.6666666666666666,
             "#ed7953"
            ],
            [
             0.7777777777777778,
             "#fb9f3a"
            ],
            [
             0.8888888888888888,
             "#fdca26"
            ],
            [
             1,
             "#f0f921"
            ]
           ],
           "sequentialminus": [
            [
             0,
             "#0d0887"
            ],
            [
             0.1111111111111111,
             "#46039f"
            ],
            [
             0.2222222222222222,
             "#7201a8"
            ],
            [
             0.3333333333333333,
             "#9c179e"
            ],
            [
             0.4444444444444444,
             "#bd3786"
            ],
            [
             0.5555555555555556,
             "#d8576b"
            ],
            [
             0.6666666666666666,
             "#ed7953"
            ],
            [
             0.7777777777777778,
             "#fb9f3a"
            ],
            [
             0.8888888888888888,
             "#fdca26"
            ],
            [
             1,
             "#f0f921"
            ]
           ]
          },
          "colorway": [
           "#636efa",
           "#EF553B",
           "#00cc96",
           "#ab63fa",
           "#FFA15A",
           "#19d3f3",
           "#FF6692",
           "#B6E880",
           "#FF97FF",
           "#FECB52"
          ],
          "font": {
           "color": "#2a3f5f"
          },
          "geo": {
           "bgcolor": "white",
           "lakecolor": "white",
           "landcolor": "#E5ECF6",
           "showlakes": true,
           "showland": true,
           "subunitcolor": "white"
          },
          "hoverlabel": {
           "align": "left"
          },
          "hovermode": "closest",
          "mapbox": {
           "style": "light"
          },
          "paper_bgcolor": "white",
          "plot_bgcolor": "#E5ECF6",
          "polar": {
           "angularaxis": {
            "gridcolor": "white",
            "linecolor": "white",
            "ticks": ""
           },
           "bgcolor": "#E5ECF6",
           "radialaxis": {
            "gridcolor": "white",
            "linecolor": "white",
            "ticks": ""
           }
          },
          "scene": {
           "xaxis": {
            "backgroundcolor": "#E5ECF6",
            "gridcolor": "white",
            "gridwidth": 2,
            "linecolor": "white",
            "showbackground": true,
            "ticks": "",
            "zerolinecolor": "white"
           },
           "yaxis": {
            "backgroundcolor": "#E5ECF6",
            "gridcolor": "white",
            "gridwidth": 2,
            "linecolor": "white",
            "showbackground": true,
            "ticks": "",
            "zerolinecolor": "white"
           },
           "zaxis": {
            "backgroundcolor": "#E5ECF6",
            "gridcolor": "white",
            "gridwidth": 2,
            "linecolor": "white",
            "showbackground": true,
            "ticks": "",
            "zerolinecolor": "white"
           }
          },
          "shapedefaults": {
           "line": {
            "color": "#2a3f5f"
           }
          },
          "ternary": {
           "aaxis": {
            "gridcolor": "white",
            "linecolor": "white",
            "ticks": ""
           },
           "baxis": {
            "gridcolor": "white",
            "linecolor": "white",
            "ticks": ""
           },
           "bgcolor": "#E5ECF6",
           "caxis": {
            "gridcolor": "white",
            "linecolor": "white",
            "ticks": ""
           }
          },
          "title": {
           "x": 0.05
          },
          "xaxis": {
           "automargin": true,
           "gridcolor": "white",
           "linecolor": "white",
           "ticks": "",
           "title": {
            "standoff": 15
           },
           "zerolinecolor": "white",
           "zerolinewidth": 2
          },
          "yaxis": {
           "automargin": true,
           "gridcolor": "white",
           "linecolor": "white",
           "ticks": "",
           "title": {
            "standoff": 15
           },
           "zerolinecolor": "white",
           "zerolinewidth": 2
          }
         }
        },
        "title": {
         "font": {
          "color": "#4D5663"
         },
         "text": "U.S. City Average Price, Gasoline, All Types"
        },
        "xaxis": {
         "gridcolor": "#E1E5ED",
         "showgrid": true,
         "tickfont": {
          "color": "#4D5663"
         },
         "title": {
          "font": {
           "color": "#4D5663"
          },
          "text": "Date"
         },
         "zerolinecolor": "#E1E5ED"
        },
        "yaxis": {
         "gridcolor": "#E1E5ED",
         "showgrid": true,
         "tickfont": {
          "color": "#4D5663"
         },
         "title": {
          "font": {
           "color": "#4D5663"
          },
          "text": "Price ($)"
         },
         "zerolinecolor": "#E1E5ED"
        }
       }
      },
      "text/html": [
       "<div>                            <div id=\"187d0cee-c150-42c2-bc13-5e155107c692\" class=\"plotly-graph-div\" style=\"height:525px; width:100%;\"></div>            <script type=\"text/javascript\">                require([\"plotly\"], function(Plotly) {                    window.PLOTLYENV=window.PLOTLYENV || {};\n",
       "                    window.PLOTLYENV.BASE_URL='https://plot.ly';                                    if (document.getElementById(\"187d0cee-c150-42c2-bc13-5e155107c692\")) {                    Plotly.newPlot(                        \"187d0cee-c150-42c2-bc13-5e155107c692\",                        [{\"line\":{\"color\":\"rgba(0, 0, 0, 1.0)\",\"dash\":\"solid\",\"shape\":\"linear\",\"width\":1.3},\"mode\":\"lines\",\"name\":\"value\",\"text\":\"\",\"x\":[\"1995-01-01\",\"1995-02-01\",\"1995-03-01\",\"1995-04-01\",\"1995-05-01\",\"1995-06-01\",\"1995-07-01\",\"1995-08-01\",\"1995-09-01\",\"1995-10-01\",\"1995-11-01\",\"1995-12-01\",\"1996-01-01\",\"1996-02-01\",\"1996-03-01\",\"1996-04-01\",\"1996-05-01\",\"1996-06-01\",\"1996-07-01\",\"1996-08-01\",\"1996-09-01\",\"1996-10-01\",\"1996-11-01\",\"1996-12-01\",\"1997-01-01\",\"1997-02-01\",\"1997-03-01\",\"1997-04-01\",\"1997-05-01\",\"1997-06-01\",\"1997-07-01\",\"1997-08-01\",\"1997-09-01\",\"1997-10-01\",\"1997-11-01\",\"1997-12-01\",\"1998-01-01\",\"1998-02-01\",\"1998-03-01\",\"1998-04-01\",\"1998-05-01\",\"1998-06-01\",\"1998-07-01\",\"1998-08-01\",\"1998-09-01\",\"1998-10-01\",\"1998-11-01\",\"1998-12-01\",\"1999-01-01\",\"1999-02-01\",\"1999-03-01\",\"1999-04-01\",\"1999-05-01\",\"1999-06-01\",\"1999-07-01\",\"1999-08-01\",\"1999-09-01\",\"1999-10-01\",\"1999-11-01\",\"1999-12-01\",\"2000-01-01\",\"2000-02-01\",\"2000-03-01\",\"2000-04-01\",\"2000-05-01\",\"2000-06-01\",\"2000-07-01\",\"2000-08-01\",\"2000-09-01\",\"2000-10-01\",\"2000-11-01\",\"2000-12-01\",\"2001-01-01\",\"2001-02-01\",\"2001-03-01\",\"2001-04-01\",\"2001-05-01\",\"2001-06-01\",\"2001-07-01\",\"2001-08-01\",\"2001-09-01\",\"2001-10-01\",\"2001-11-01\",\"2001-12-01\",\"2002-01-01\",\"2002-02-01\",\"2002-03-01\",\"2002-04-01\",\"2002-05-01\",\"2002-06-01\",\"2002-07-01\",\"2002-08-01\",\"2002-09-01\",\"2002-10-01\",\"2002-11-01\",\"2002-12-01\",\"2003-01-01\",\"2003-02-01\",\"2003-03-01\",\"2003-04-01\",\"2003-05-01\",\"2003-06-01\",\"2003-07-01\",\"2003-08-01\",\"2003-09-01\",\"2003-10-01\",\"2003-11-01\",\"2003-12-01\",\"2004-01-01\",\"2004-02-01\",\"2004-03-01\",\"2004-04-01\",\"2004-05-01\",\"2004-06-01\",\"2004-07-01\",\"2004-08-01\",\"2004-09-01\",\"2004-10-01\",\"2004-11-01\",\"2004-12-01\",\"2005-01-01\",\"2005-02-01\",\"2005-03-01\",\"2005-04-01\",\"2005-05-01\",\"2005-06-01\",\"2005-07-01\",\"2005-08-01\",\"2005-09-01\",\"2005-10-01\",\"2005-11-01\",\"2005-12-01\",\"2006-01-01\",\"2006-02-01\",\"2006-03-01\",\"2006-04-01\",\"2006-05-01\",\"2006-06-01\",\"2006-07-01\",\"2006-08-01\",\"2006-09-01\",\"2006-10-01\",\"2006-11-01\",\"2006-12-01\",\"2007-01-01\",\"2007-02-01\",\"2007-03-01\",\"2007-04-01\",\"2007-05-01\",\"2007-06-01\",\"2007-07-01\",\"2007-08-01\",\"2007-09-01\",\"2007-10-01\",\"2007-11-01\",\"2007-12-01\",\"2008-01-01\",\"2008-02-01\",\"2008-03-01\",\"2008-04-01\",\"2008-05-01\",\"2008-06-01\",\"2008-07-01\",\"2008-08-01\",\"2008-09-01\",\"2008-10-01\",\"2008-11-01\",\"2008-12-01\",\"2009-01-01\",\"2009-02-01\",\"2009-03-01\",\"2009-04-01\",\"2009-05-01\",\"2009-06-01\",\"2009-07-01\",\"2009-08-01\",\"2009-09-01\",\"2009-10-01\",\"2009-11-01\",\"2009-12-01\",\"2010-01-01\",\"2010-02-01\",\"2010-03-01\",\"2010-04-01\",\"2010-05-01\",\"2010-06-01\",\"2010-07-01\",\"2010-08-01\",\"2010-09-01\",\"2010-10-01\",\"2010-11-01\",\"2010-12-01\",\"2011-01-01\",\"2011-02-01\",\"2011-03-01\",\"2011-04-01\",\"2011-05-01\",\"2011-06-01\",\"2011-07-01\",\"2011-08-01\",\"2011-09-01\",\"2011-10-01\",\"2011-11-01\",\"2011-12-01\",\"2012-01-01\",\"2012-02-01\",\"2012-03-01\",\"2012-04-01\",\"2012-05-01\",\"2012-06-01\",\"2012-07-01\",\"2012-08-01\",\"2012-09-01\",\"2012-10-01\",\"2012-11-01\",\"2012-12-01\",\"2013-01-01\",\"2013-02-01\",\"2013-03-01\",\"2013-04-01\",\"2013-05-01\",\"2013-06-01\",\"2013-07-01\",\"2013-08-01\",\"2013-09-01\",\"2013-10-01\",\"2013-11-01\",\"2013-12-01\",\"2014-01-01\",\"2014-02-01\",\"2014-03-01\",\"2014-04-01\",\"2014-05-01\",\"2014-06-01\",\"2014-07-01\",\"2014-08-01\",\"2014-09-01\",\"2014-10-01\",\"2014-11-01\",\"2014-12-01\",\"2015-01-01\",\"2015-02-01\",\"2015-03-01\",\"2015-04-01\",\"2015-05-01\",\"2015-06-01\",\"2015-07-01\",\"2015-08-01\",\"2015-09-01\",\"2015-10-01\",\"2015-11-01\",\"2015-12-01\",\"2016-01-01\",\"2016-02-01\",\"2016-03-01\",\"2016-04-01\",\"2016-05-01\",\"2016-06-01\",\"2016-07-01\",\"2016-08-01\",\"2016-09-01\",\"2016-10-01\",\"2016-11-01\",\"2016-12-01\",\"2017-01-01\",\"2017-02-01\",\"2017-03-01\",\"2017-04-01\",\"2017-05-01\",\"2017-06-01\",\"2017-07-01\",\"2017-08-01\",\"2017-09-01\",\"2017-10-01\",\"2017-11-01\",\"2017-12-01\",\"2018-01-01\",\"2018-02-01\",\"2018-03-01\",\"2018-04-01\",\"2018-05-01\",\"2018-06-01\",\"2018-07-01\",\"2018-08-01\",\"2018-09-01\",\"2018-10-01\",\"2018-11-01\",\"2018-12-01\",\"2019-01-01\",\"2019-02-01\",\"2019-03-01\",\"2019-04-01\",\"2019-05-01\",\"2019-06-01\",\"2019-07-01\",\"2019-08-01\",\"2019-09-01\",\"2019-10-01\",\"2019-11-01\",\"2019-12-01\",\"2020-01-01\",\"2020-02-01\",\"2020-03-01\",\"2020-04-01\",\"2020-05-01\",\"2020-06-01\",\"2020-07-01\",\"2020-08-01\",\"2020-09-01\",\"2020-10-01\",\"2020-11-01\",\"2020-12-01\",\"2021-01-01\",\"2021-02-01\",\"2021-03-01\",\"2021-04-01\",\"2021-05-01\",\"2021-06-01\",\"2021-07-01\",\"2021-08-01\",\"2021-09-01\",\"2021-10-01\",\"2021-11-01\",\"2021-12-01\",\"2022-01-01\",\"2022-02-01\",\"2022-03-01\",\"2022-04-01\",\"2022-05-01\",\"2022-06-01\"],\"y\":[1.19,1.181,1.173,1.197,1.256,1.281,1.252,1.222,1.206,1.185,1.161,1.16,1.186,1.181,1.219,1.305,1.378,1.354,1.328,1.298,1.293,1.287,1.308,1.318,1.318,1.312,1.293,1.288,1.284,1.286,1.263,1.31,1.334,1.3,1.271,1.236,1.186,1.137,1.097,1.106,1.146,1.148,1.134,1.108,1.091,1.099,1.086,1.046,1.031,1.014,1.048,1.232,1.233,1.204,1.244,1.309,1.334,1.329,1.319,1.353,1.356,1.422,1.594,1.561,1.552,1.666,1.642,1.559,1.635,1.613,1.608,1.544,1.525,1.538,1.503,1.617,1.812,1.731,1.565,1.509,1.609,1.442,1.324,1.2,1.209,1.21,1.324,1.493,1.508,1.489,1.496,1.508,1.507,1.535,1.534,1.477,1.557,1.686,1.791,1.704,1.587,1.558,1.567,1.671,1.771,1.646,1.578,1.538,1.635,1.715,1.809,1.875,2.05,2.083,1.982,1.941,1.934,2.072,2.053,1.926,1.866,1.96,2.107,2.325,2.257,2.218,2.357,2.548,2.969,2.83,2.387,2.23,2.359,2.354,2.444,2.801,2.993,2.963,3.046,3.033,2.637,2.319,2.287,2.38,2.321,2.333,2.639,2.909,3.176,3.1,3.013,2.833,2.839,2.843,3.118,3.069,3.096,3.083,3.307,3.491,3.813,4.115,4.142,3.838,3.749,3.225,2.208,1.742,1.838,1.979,2.0,2.107,2.314,2.681,2.594,2.677,2.626,2.613,2.709,2.671,2.779,2.709,2.829,2.906,2.915,2.783,2.783,2.795,2.754,2.843,2.899,3.031,3.139,3.215,3.594,3.863,3.982,3.753,3.703,3.68,3.664,3.521,3.475,3.329,3.447,3.622,3.918,3.976,3.839,3.602,3.502,3.759,3.908,3.839,3.542,3.386,3.407,3.748,3.792,3.647,3.682,3.693,3.687,3.658,3.616,3.434,3.31,3.333,3.378,3.422,3.59,3.717,3.745,3.75,3.69,3.54,3.463,3.241,2.945,2.618,2.17,2.308,2.544,2.545,2.832,2.889,2.893,2.745,2.463,2.357,2.249,2.125,2.034,1.833,2.021,2.196,2.324,2.422,2.287,2.218,2.269,2.304,2.246,2.289,2.409,2.36,2.386,2.479,2.448,2.4,2.344,2.436,2.688,2.545,2.608,2.521,2.596,2.632,2.631,2.795,2.963,2.97,2.93,2.919,2.93,2.945,2.733,2.479,2.352,2.412,2.62,2.894,2.963,2.814,2.836,2.716,2.694,2.741,2.687,2.652,2.631,2.53,2.334,1.946,1.946,2.141,2.243,2.245,2.26,2.228,2.159,2.235,2.391,2.559,2.856,2.907,3.041,3.245,3.326,3.351,3.361,3.477,3.576,3.505,3.5,3.675,4.401,4.369,4.695,5.149],\"type\":\"scatter\"}],                        {\"legend\":{\"bgcolor\":\"#F5F6F9\",\"font\":{\"color\":\"#4D5663\"}},\"paper_bgcolor\":\"#F5F6F9\",\"plot_bgcolor\":\"#F5F6F9\",\"template\":{\"data\":{\"barpolar\":[{\"marker\":{\"line\":{\"color\":\"#E5ECF6\",\"width\":0.5},\"pattern\":{\"fillmode\":\"overlay\",\"size\":10,\"solidity\":0.2}},\"type\":\"barpolar\"}],\"bar\":[{\"error_x\":{\"color\":\"#2a3f5f\"},\"error_y\":{\"color\":\"#2a3f5f\"},\"marker\":{\"line\":{\"color\":\"#E5ECF6\",\"width\":0.5},\"pattern\":{\"fillmode\":\"overlay\",\"size\":10,\"solidity\":0.2}},\"type\":\"bar\"}],\"carpet\":[{\"aaxis\":{\"endlinecolor\":\"#2a3f5f\",\"gridcolor\":\"white\",\"linecolor\":\"white\",\"minorgridcolor\":\"white\",\"startlinecolor\":\"#2a3f5f\"},\"baxis\":{\"endlinecolor\":\"#2a3f5f\",\"gridcolor\":\"white\",\"linecolor\":\"white\",\"minorgridcolor\":\"white\",\"startlinecolor\":\"#2a3f5f\"},\"type\":\"carpet\"}],\"choropleth\":[{\"colorbar\":{\"outlinewidth\":0,\"ticks\":\"\"},\"type\":\"choropleth\"}],\"contourcarpet\":[{\"colorbar\":{\"outlinewidth\":0,\"ticks\":\"\"},\"type\":\"contourcarpet\"}],\"contour\":[{\"colorbar\":{\"outlinewidth\":0,\"ticks\":\"\"},\"colorscale\":[[0.0,\"#0d0887\"],[0.1111111111111111,\"#46039f\"],[0.2222222222222222,\"#7201a8\"],[0.3333333333333333,\"#9c179e\"],[0.4444444444444444,\"#bd3786\"],[0.5555555555555556,\"#d8576b\"],[0.6666666666666666,\"#ed7953\"],[0.7777777777777778,\"#fb9f3a\"],[0.8888888888888888,\"#fdca26\"],[1.0,\"#f0f921\"]],\"type\":\"contour\"}],\"heatmapgl\":[{\"colorbar\":{\"outlinewidth\":0,\"ticks\":\"\"},\"colorscale\":[[0.0,\"#0d0887\"],[0.1111111111111111,\"#46039f\"],[0.2222222222222222,\"#7201a8\"],[0.3333333333333333,\"#9c179e\"],[0.4444444444444444,\"#bd3786\"],[0.5555555555555556,\"#d8576b\"],[0.6666666666666666,\"#ed7953\"],[0.7777777777777778,\"#fb9f3a\"],[0.8888888888888888,\"#fdca26\"],[1.0,\"#f0f921\"]],\"type\":\"heatmapgl\"}],\"heatmap\":[{\"colorbar\":{\"outlinewidth\":0,\"ticks\":\"\"},\"colorscale\":[[0.0,\"#0d0887\"],[0.1111111111111111,\"#46039f\"],[0.2222222222222222,\"#7201a8\"],[0.3333333333333333,\"#9c179e\"],[0.4444444444444444,\"#bd3786\"],[0.5555555555555556,\"#d8576b\"],[0.6666666666666666,\"#ed7953\"],[0.7777777777777778,\"#fb9f3a\"],[0.8888888888888888,\"#fdca26\"],[1.0,\"#f0f921\"]],\"type\":\"heatmap\"}],\"histogram2dcontour\":[{\"colorbar\":{\"outlinewidth\":0,\"ticks\":\"\"},\"colorscale\":[[0.0,\"#0d0887\"],[0.1111111111111111,\"#46039f\"],[0.2222222222222222,\"#7201a8\"],[0.3333333333333333,\"#9c179e\"],[0.4444444444444444,\"#bd3786\"],[0.5555555555555556,\"#d8576b\"],[0.6666666666666666,\"#ed7953\"],[0.7777777777777778,\"#fb9f3a\"],[0.8888888888888888,\"#fdca26\"],[1.0,\"#f0f921\"]],\"type\":\"histogram2dcontour\"}],\"histogram2d\":[{\"colorbar\":{\"outlinewidth\":0,\"ticks\":\"\"},\"colorscale\":[[0.0,\"#0d0887\"],[0.1111111111111111,\"#46039f\"],[0.2222222222222222,\"#7201a8\"],[0.3333333333333333,\"#9c179e\"],[0.4444444444444444,\"#bd3786\"],[0.5555555555555556,\"#d8576b\"],[0.6666666666666666,\"#ed7953\"],[0.7777777777777778,\"#fb9f3a\"],[0.8888888888888888,\"#fdca26\"],[1.0,\"#f0f921\"]],\"type\":\"histogram2d\"}],\"histogram\":[{\"marker\":{\"pattern\":{\"fillmode\":\"overlay\",\"size\":10,\"solidity\":0.2}},\"type\":\"histogram\"}],\"mesh3d\":[{\"colorbar\":{\"outlinewidth\":0,\"ticks\":\"\"},\"type\":\"mesh3d\"}],\"parcoords\":[{\"line\":{\"colorbar\":{\"outlinewidth\":0,\"ticks\":\"\"}},\"type\":\"parcoords\"}],\"pie\":[{\"automargin\":true,\"type\":\"pie\"}],\"scatter3d\":[{\"line\":{\"colorbar\":{\"outlinewidth\":0,\"ticks\":\"\"}},\"marker\":{\"colorbar\":{\"outlinewidth\":0,\"ticks\":\"\"}},\"type\":\"scatter3d\"}],\"scattercarpet\":[{\"marker\":{\"colorbar\":{\"outlinewidth\":0,\"ticks\":\"\"}},\"type\":\"scattercarpet\"}],\"scattergeo\":[{\"marker\":{\"colorbar\":{\"outlinewidth\":0,\"ticks\":\"\"}},\"type\":\"scattergeo\"}],\"scattergl\":[{\"marker\":{\"colorbar\":{\"outlinewidth\":0,\"ticks\":\"\"}},\"type\":\"scattergl\"}],\"scattermapbox\":[{\"marker\":{\"colorbar\":{\"outlinewidth\":0,\"ticks\":\"\"}},\"type\":\"scattermapbox\"}],\"scatterpolargl\":[{\"marker\":{\"colorbar\":{\"outlinewidth\":0,\"ticks\":\"\"}},\"type\":\"scatterpolargl\"}],\"scatterpolar\":[{\"marker\":{\"colorbar\":{\"outlinewidth\":0,\"ticks\":\"\"}},\"type\":\"scatterpolar\"}],\"scatter\":[{\"marker\":{\"colorbar\":{\"outlinewidth\":0,\"ticks\":\"\"}},\"type\":\"scatter\"}],\"scatterternary\":[{\"marker\":{\"colorbar\":{\"outlinewidth\":0,\"ticks\":\"\"}},\"type\":\"scatterternary\"}],\"surface\":[{\"colorbar\":{\"outlinewidth\":0,\"ticks\":\"\"},\"colorscale\":[[0.0,\"#0d0887\"],[0.1111111111111111,\"#46039f\"],[0.2222222222222222,\"#7201a8\"],[0.3333333333333333,\"#9c179e\"],[0.4444444444444444,\"#bd3786\"],[0.5555555555555556,\"#d8576b\"],[0.6666666666666666,\"#ed7953\"],[0.7777777777777778,\"#fb9f3a\"],[0.8888888888888888,\"#fdca26\"],[1.0,\"#f0f921\"]],\"type\":\"surface\"}],\"table\":[{\"cells\":{\"fill\":{\"color\":\"#EBF0F8\"},\"line\":{\"color\":\"white\"}},\"header\":{\"fill\":{\"color\":\"#C8D4E3\"},\"line\":{\"color\":\"white\"}},\"type\":\"table\"}]},\"layout\":{\"annotationdefaults\":{\"arrowcolor\":\"#2a3f5f\",\"arrowhead\":0,\"arrowwidth\":1},\"autotypenumbers\":\"strict\",\"coloraxis\":{\"colorbar\":{\"outlinewidth\":0,\"ticks\":\"\"}},\"colorscale\":{\"diverging\":[[0,\"#8e0152\"],[0.1,\"#c51b7d\"],[0.2,\"#de77ae\"],[0.3,\"#f1b6da\"],[0.4,\"#fde0ef\"],[0.5,\"#f7f7f7\"],[0.6,\"#e6f5d0\"],[0.7,\"#b8e186\"],[0.8,\"#7fbc41\"],[0.9,\"#4d9221\"],[1,\"#276419\"]],\"sequential\":[[0.0,\"#0d0887\"],[0.1111111111111111,\"#46039f\"],[0.2222222222222222,\"#7201a8\"],[0.3333333333333333,\"#9c179e\"],[0.4444444444444444,\"#bd3786\"],[0.5555555555555556,\"#d8576b\"],[0.6666666666666666,\"#ed7953\"],[0.7777777777777778,\"#fb9f3a\"],[0.8888888888888888,\"#fdca26\"],[1.0,\"#f0f921\"]],\"sequentialminus\":[[0.0,\"#0d0887\"],[0.1111111111111111,\"#46039f\"],[0.2222222222222222,\"#7201a8\"],[0.3333333333333333,\"#9c179e\"],[0.4444444444444444,\"#bd3786\"],[0.5555555555555556,\"#d8576b\"],[0.6666666666666666,\"#ed7953\"],[0.7777777777777778,\"#fb9f3a\"],[0.8888888888888888,\"#fdca26\"],[1.0,\"#f0f921\"]]},\"colorway\":[\"#636efa\",\"#EF553B\",\"#00cc96\",\"#ab63fa\",\"#FFA15A\",\"#19d3f3\",\"#FF6692\",\"#B6E880\",\"#FF97FF\",\"#FECB52\"],\"font\":{\"color\":\"#2a3f5f\"},\"geo\":{\"bgcolor\":\"white\",\"lakecolor\":\"white\",\"landcolor\":\"#E5ECF6\",\"showlakes\":true,\"showland\":true,\"subunitcolor\":\"white\"},\"hoverlabel\":{\"align\":\"left\"},\"hovermode\":\"closest\",\"mapbox\":{\"style\":\"light\"},\"paper_bgcolor\":\"white\",\"plot_bgcolor\":\"#E5ECF6\",\"polar\":{\"angularaxis\":{\"gridcolor\":\"white\",\"linecolor\":\"white\",\"ticks\":\"\"},\"bgcolor\":\"#E5ECF6\",\"radialaxis\":{\"gridcolor\":\"white\",\"linecolor\":\"white\",\"ticks\":\"\"}},\"scene\":{\"xaxis\":{\"backgroundcolor\":\"#E5ECF6\",\"gridcolor\":\"white\",\"gridwidth\":2,\"linecolor\":\"white\",\"showbackground\":true,\"ticks\":\"\",\"zerolinecolor\":\"white\"},\"yaxis\":{\"backgroundcolor\":\"#E5ECF6\",\"gridcolor\":\"white\",\"gridwidth\":2,\"linecolor\":\"white\",\"showbackground\":true,\"ticks\":\"\",\"zerolinecolor\":\"white\"},\"zaxis\":{\"backgroundcolor\":\"#E5ECF6\",\"gridcolor\":\"white\",\"gridwidth\":2,\"linecolor\":\"white\",\"showbackground\":true,\"ticks\":\"\",\"zerolinecolor\":\"white\"}},\"shapedefaults\":{\"line\":{\"color\":\"#2a3f5f\"}},\"ternary\":{\"aaxis\":{\"gridcolor\":\"white\",\"linecolor\":\"white\",\"ticks\":\"\"},\"baxis\":{\"gridcolor\":\"white\",\"linecolor\":\"white\",\"ticks\":\"\"},\"bgcolor\":\"#E5ECF6\",\"caxis\":{\"gridcolor\":\"white\",\"linecolor\":\"white\",\"ticks\":\"\"}},\"title\":{\"x\":0.05},\"xaxis\":{\"automargin\":true,\"gridcolor\":\"white\",\"linecolor\":\"white\",\"ticks\":\"\",\"title\":{\"standoff\":15},\"zerolinecolor\":\"white\",\"zerolinewidth\":2},\"yaxis\":{\"automargin\":true,\"gridcolor\":\"white\",\"linecolor\":\"white\",\"ticks\":\"\",\"title\":{\"standoff\":15},\"zerolinecolor\":\"white\",\"zerolinewidth\":2}}},\"title\":{\"font\":{\"color\":\"#4D5663\"},\"text\":\"U.S. City Average Price, Gasoline, All Types\"},\"xaxis\":{\"gridcolor\":\"#E1E5ED\",\"showgrid\":true,\"tickfont\":{\"color\":\"#4D5663\"},\"title\":{\"font\":{\"color\":\"#4D5663\"},\"text\":\"Date\"},\"zerolinecolor\":\"#E1E5ED\"},\"yaxis\":{\"gridcolor\":\"#E1E5ED\",\"showgrid\":true,\"tickfont\":{\"color\":\"#4D5663\"},\"title\":{\"font\":{\"color\":\"#4D5663\"},\"text\":\"Price ($)\"},\"zerolinecolor\":\"#E1E5ED\"}},                        {\"showLink\": true, \"linkText\": \"Export to plot.ly\", \"plotlyServerURL\": \"https://plot.ly\", \"responsive\": true}                    ).then(function(){\n",
       "                            \n",
       "var gd = document.getElementById('187d0cee-c150-42c2-bc13-5e155107c692');\n",
       "var x = new MutationObserver(function (mutations, observer) {{\n",
       "        var display = window.getComputedStyle(gd).display;\n",
       "        if (!display || display === 'none') {{\n",
       "            console.log([gd, 'removed!']);\n",
       "            Plotly.purge(gd);\n",
       "            observer.disconnect();\n",
       "        }}\n",
       "}});\n",
       "\n",
       "// Listen for the removal of the full notebook cells\n",
       "var notebookContainer = gd.closest('#notebook-container');\n",
       "if (notebookContainer) {{\n",
       "    x.observe(notebookContainer, {childList: true});\n",
       "}}\n",
       "\n",
       "// Listen for the clearing of the current output cell\n",
       "var outputEl = gd.closest('.output');\n",
       "if (outputEl) {{\n",
       "    x.observe(outputEl, {childList: true});\n",
       "}}\n",
       "\n",
       "                        })                };                });            </script>        </div>"
      ]
     },
     "metadata": {},
     "output_type": "display_data"
    }
   ],
   "source": [
    "gas_all_df.iplot(kind='scatter',x='date',y='value',\n",
    "                 title='U.S. City Average Price, Gasoline, All Types',\n",
    "                 xTitle='Date',\n",
    "                 yTitle='Price ($)',\n",
    "                 color='black')"
   ]
  },
  {
   "cell_type": "code",
   "execution_count": 48,
   "id": "723f7f55",
   "metadata": {},
   "outputs": [
    {
     "data": {
      "application/vnd.plotly.v1+json": {
       "config": {
        "linkText": "Export to plot.ly",
        "plotlyServerURL": "https://plot.ly",
        "showLink": true
       },
       "data": [
        {
         "line": {
          "color": "rgba(0, 0, 0, 1.0)",
          "dash": "solid",
          "shape": "linear",
          "width": 1.3
         },
         "mode": "lines",
         "name": "monthly",
         "text": "",
         "type": "scatter",
         "x": [
          "1995-01-01",
          "1995-02-01",
          "1995-03-01",
          "1995-04-01",
          "1995-05-01",
          "1995-06-01",
          "1995-07-01",
          "1995-08-01",
          "1995-09-01",
          "1995-10-01",
          "1995-11-01",
          "1995-12-01",
          "1996-01-01",
          "1996-02-01",
          "1996-03-01",
          "1996-04-01",
          "1996-05-01",
          "1996-06-01",
          "1996-07-01",
          "1996-08-01",
          "1996-09-01",
          "1996-10-01",
          "1996-11-01",
          "1996-12-01",
          "1997-01-01",
          "1997-02-01",
          "1997-03-01",
          "1997-04-01",
          "1997-05-01",
          "1997-06-01",
          "1997-07-01",
          "1997-08-01",
          "1997-09-01",
          "1997-10-01",
          "1997-11-01",
          "1997-12-01",
          "1998-01-01",
          "1998-02-01",
          "1998-03-01",
          "1998-04-01",
          "1998-05-01",
          "1998-06-01",
          "1998-07-01",
          "1998-08-01",
          "1998-09-01",
          "1998-10-01",
          "1998-11-01",
          "1998-12-01",
          "1999-01-01",
          "1999-02-01",
          "1999-03-01",
          "1999-04-01",
          "1999-05-01",
          "1999-06-01",
          "1999-07-01",
          "1999-08-01",
          "1999-09-01",
          "1999-10-01",
          "1999-11-01",
          "1999-12-01",
          "2000-01-01",
          "2000-02-01",
          "2000-03-01",
          "2000-04-01",
          "2000-05-01",
          "2000-06-01",
          "2000-07-01",
          "2000-08-01",
          "2000-09-01",
          "2000-10-01",
          "2000-11-01",
          "2000-12-01",
          "2001-01-01",
          "2001-02-01",
          "2001-03-01",
          "2001-04-01",
          "2001-05-01",
          "2001-06-01",
          "2001-07-01",
          "2001-08-01",
          "2001-09-01",
          "2001-10-01",
          "2001-11-01",
          "2001-12-01",
          "2002-01-01",
          "2002-02-01",
          "2002-03-01",
          "2002-04-01",
          "2002-05-01",
          "2002-06-01",
          "2002-07-01",
          "2002-08-01",
          "2002-09-01",
          "2002-10-01",
          "2002-11-01",
          "2002-12-01",
          "2003-01-01",
          "2003-02-01",
          "2003-03-01",
          "2003-04-01",
          "2003-05-01",
          "2003-06-01",
          "2003-07-01",
          "2003-08-01",
          "2003-09-01",
          "2003-10-01",
          "2003-11-01",
          "2003-12-01",
          "2004-01-01",
          "2004-02-01",
          "2004-03-01",
          "2004-04-01",
          "2004-05-01",
          "2004-06-01",
          "2004-07-01",
          "2004-08-01",
          "2004-09-01",
          "2004-10-01",
          "2004-11-01",
          "2004-12-01",
          "2005-01-01",
          "2005-02-01",
          "2005-03-01",
          "2005-04-01",
          "2005-05-01",
          "2005-06-01",
          "2005-07-01",
          "2005-08-01",
          "2005-09-01",
          "2005-10-01",
          "2005-11-01",
          "2005-12-01",
          "2006-01-01",
          "2006-02-01",
          "2006-03-01",
          "2006-04-01",
          "2006-05-01",
          "2006-06-01",
          "2006-07-01",
          "2006-08-01",
          "2006-09-01",
          "2006-10-01",
          "2006-11-01",
          "2006-12-01",
          "2007-01-01",
          "2007-02-01",
          "2007-03-01",
          "2007-04-01",
          "2007-05-01",
          "2007-06-01",
          "2007-07-01",
          "2007-08-01",
          "2007-09-01",
          "2007-10-01",
          "2007-11-01",
          "2007-12-01",
          "2008-01-01",
          "2008-02-01",
          "2008-03-01",
          "2008-04-01",
          "2008-05-01",
          "2008-06-01",
          "2008-07-01",
          "2008-08-01",
          "2008-09-01",
          "2008-10-01",
          "2008-11-01",
          "2008-12-01",
          "2009-01-01",
          "2009-02-01",
          "2009-03-01",
          "2009-04-01",
          "2009-05-01",
          "2009-06-01",
          "2009-07-01",
          "2009-08-01",
          "2009-09-01",
          "2009-10-01",
          "2009-11-01",
          "2009-12-01",
          "2010-01-01",
          "2010-02-01",
          "2010-03-01",
          "2010-04-01",
          "2010-05-01",
          "2010-06-01",
          "2010-07-01",
          "2010-08-01",
          "2010-09-01",
          "2010-10-01",
          "2010-11-01",
          "2010-12-01",
          "2011-01-01",
          "2011-02-01",
          "2011-03-01",
          "2011-04-01",
          "2011-05-01",
          "2011-06-01",
          "2011-07-01",
          "2011-08-01",
          "2011-09-01",
          "2011-10-01",
          "2011-11-01",
          "2011-12-01",
          "2012-01-01",
          "2012-02-01",
          "2012-03-01",
          "2012-04-01",
          "2012-05-01",
          "2012-06-01",
          "2012-07-01",
          "2012-08-01",
          "2012-09-01",
          "2012-10-01",
          "2012-11-01",
          "2012-12-01",
          "2013-01-01",
          "2013-02-01",
          "2013-03-01",
          "2013-04-01",
          "2013-05-01",
          "2013-06-01",
          "2013-07-01",
          "2013-08-01",
          "2013-09-01",
          "2013-10-01",
          "2013-11-01",
          "2013-12-01",
          "2014-01-01",
          "2014-02-01",
          "2014-03-01",
          "2014-04-01",
          "2014-05-01",
          "2014-06-01",
          "2014-07-01",
          "2014-08-01",
          "2014-09-01",
          "2014-10-01",
          "2014-11-01",
          "2014-12-01",
          "2015-01-01",
          "2015-02-01",
          "2015-03-01",
          "2015-04-01",
          "2015-05-01",
          "2015-06-01",
          "2015-07-01",
          "2015-08-01",
          "2015-09-01",
          "2015-10-01",
          "2015-11-01",
          "2015-12-01",
          "2016-01-01",
          "2016-02-01",
          "2016-03-01",
          "2016-04-01",
          "2016-05-01",
          "2016-06-01",
          "2016-07-01",
          "2016-08-01",
          "2016-09-01",
          "2016-10-01",
          "2016-11-01",
          "2016-12-01",
          "2017-01-01",
          "2017-02-01",
          "2017-03-01",
          "2017-04-01",
          "2017-05-01",
          "2017-06-01",
          "2017-07-01",
          "2017-08-01",
          "2017-09-01",
          "2017-10-01",
          "2017-11-01",
          "2017-12-01",
          "2018-01-01",
          "2018-02-01",
          "2018-03-01",
          "2018-04-01",
          "2018-05-01",
          "2018-06-01",
          "2018-07-01",
          "2018-08-01",
          "2018-09-01",
          "2018-10-01",
          "2018-11-01",
          "2018-12-01",
          "2019-01-01",
          "2019-02-01",
          "2019-03-01",
          "2019-04-01",
          "2019-05-01",
          "2019-06-01",
          "2019-07-01",
          "2019-08-01",
          "2019-09-01",
          "2019-10-01",
          "2019-11-01",
          "2019-12-01",
          "2020-01-01",
          "2020-02-01",
          "2020-03-01",
          "2020-04-01",
          "2020-05-01",
          "2020-06-01",
          "2020-07-01",
          "2020-08-01",
          "2020-09-01",
          "2020-10-01",
          "2020-11-01",
          "2020-12-01",
          "2021-01-01",
          "2021-02-01",
          "2021-03-01",
          "2021-04-01",
          "2021-05-01",
          "2021-06-01",
          "2021-07-01",
          "2021-08-01",
          "2021-09-01",
          "2021-10-01",
          "2021-11-01",
          "2021-12-01",
          "2022-01-01",
          "2022-02-01",
          "2022-03-01",
          "2022-04-01",
          "2022-05-01",
          "2022-06-01"
         ],
         "y": [
          "",
          -0.7563025210083896,
          -0.6773920406435208,
          2.0460358056265893,
          4.9289891395154495,
          1.9904458598726027,
          -2.2638563622170094,
          -2.396166134185307,
          -1.3093289689034338,
          -1.741293532338306,
          -2.0253164556962022,
          -0.08613264427218548,
          2.2413793103448265,
          -0.4215851602023535,
          3.2176121930567403,
          7.054963084495469,
          5.59386973180076,
          -1.741654571843232,
          -1.9202363367799125,
          -2.259036144578319,
          -0.38520801232666546,
          -0.46403712296984034,
          1.631701631701632,
          0.7645259938837912,
          0,
          -0.4552352048558417,
          -1.4481707317073322,
          -0.3866976024748614,
          -0.31055900621117516,
          0.15576323987538387,
          -1.788491446345264,
          3.721298495645309,
          1.8320610687022842,
          -2.548725637181415,
          -2.230769230769236,
          -2.7537372147914962,
          -4.045307443365697,
          -4.131534569983131,
          -3.518029903254183,
          0.8204193254330194,
          3.616636528028927,
          0.17452006980802626,
          -1.2195121951219523,
          -2.2927689594356093,
          -1.5342960288808771,
          0.7332722273143855,
          -1.182893539581431,
          -3.6832412523020275,
          -1.4340344168260133,
          -1.6488845780795236,
          3.3530571992110403,
          17.557251908396942,
          0.08116883116884299,
          -2.351987023519886,
          3.322259136212624,
          5.225080385852077,
          1.909854851031323,
          -0.37481259370315545,
          -0.7524454477050413,
          2.577710386656551,
          0.22172949002217113,
          4.867256637168138,
          12.09563994374121,
          -2.070263488080315,
          -0.5765534913516945,
          7.345360824742264,
          -1.4405762304921965,
          -5.054811205846521,
          4.874919820397694,
          -1.3455657492354778,
          -0.3099814011159219,
          -3.9800995024875663,
          -1.2305699481865329,
          0.8524590163934587,
          -2.2756827048114547,
          7.584830339321358,
          12.059369202226344,
          -4.470198675496684,
          -9.58983246678221,
          -3.578274760383393,
          6.626905235255132,
          -10.37911746426352,
          -8.183079056865461,
          -9.365558912386717,
          0.7500000000000062,
          0.08271298593878207,
          9.421487603305788,
          12.764350453172213,
          1.0046885465505584,
          -1.2599469496021198,
          0.4701141705842682,
          0.8021390374331583,
          -0.06631299734748408,
          1.857996018579966,
          -0.06514657980455363,
          -3.715775749674055,
          5.4163845633039776,
          8.285163776493265,
          6.227758007117434,
          -4.8576214405360085,
          -6.866197183098588,
          -1.8273471959672327,
          0.5776636713735517,
          6.636885768985334,
          5.9844404548174746,
          -7.058159232072281,
          -4.131227217496958,
          -2.5348542458808687,
          6.306892067620273,
          4.892966360856277,
          5.481049562682205,
          3.6484245439469376,
          9.333333333333327,
          1.6097560975609992,
          -4.848775804128669,
          -2.068617558022201,
          -0.3606388459556964,
          7.135470527404353,
          -0.9169884169884179,
          -6.1860691670725725,
          -3.1152647975077774,
          5.037513397642002,
          7.500000000000018,
          10.346464167062175,
          -2.9247311827957034,
          -1.7279574656623886,
          6.266907123534726,
          8.103521425540938,
          16.522762951334368,
          -4.681711013809354,
          -15.653710247349828,
          -6.577293674067864,
          5.784753363228701,
          -0.2119542178889322,
          3.823279524214107,
          14.607201309328977,
          6.854694751874324,
          -1.0023387905111814,
          2.801214984812672,
          -0.42678923177937866,
          -13.056379821958453,
          -12.059158134243464,
          -1.3799051315222077,
          4.066462614779187,
          -2.4789915966386467,
          0.5170185264971927,
          13.116159451350185,
          10.231148162182645,
          9.178411825369558,
          -2.3929471032745564,
          -2.806451612903227,
          -5.974112180550939,
          0.2117896223085003,
          0.1408946812257783,
          9.672880759760805,
          -1.5715202052597799,
          0.8797653958944274,
          -0.41989664082686673,
          7.2656503405773565,
          5.563955246446928,
          9.22371813234031,
          7.920272751114599,
          0.6561360874848043,
          -7.339449541284404,
          -2.3189161021365257,
          -13.977060549479859,
          -31.534883720930228,
          -21.105072463768128,
          5.510907003444321,
          7.671381936887922,
          1.0611419909045017,
          5.35000000000001,
          9.824394874228748,
          15.859982713915288,
          -3.24505781424842,
          3.1996915959907613,
          -1.9051176690325078,
          -0.4950495049504955,
          3.6739380022962065,
          -1.402731635289789,
          4.0434294271808335,
          -2.5188916876574208,
          4.429678848283514,
          2.7218098267939084,
          0.30970406056434197,
          -4.528301886792452,
          0,
          0.43118936399568764,
          -1.4669051878354211,
          3.2316630355845977,
          1.9697502638058362,
          4.553294239392902,
          3.563180468492244,
          2.421153233513862,
          11.788491446345262,
          7.484696716750139,
          3.0805073776857483,
          -5.750878955298844,
          -1.3322675193178868,
          -0.6211180124223503,
          -0.43478260869564966,
          -3.902838427947608,
          -1.3064470320931498,
          -4.201438848920858,
          3.544607990387494,
          5.076878445024646,
          8.172280508006624,
          1.4803471158754355,
          -3.4456740442655898,
          -6.173482677780672,
          -2.7762354247640175,
          7.338663620788122,
          3.9638201649374816,
          -1.7656090071647923,
          -7.73638968481376,
          -4.404291360813096,
          0.6202008269344361,
          10.008805400645727,
          1.1739594450373314,
          -3.8238396624472593,
          0.9596928982725572,
          0.2987506789788208,
          -0.16246953696182898,
          -0.7865473284513147,
          -1.1481683980317015,
          -5.033185840707965,
          -3.6109493302271423,
          0.6948640483383617,
          1.3501350135013412,
          1.3025458851391392,
          4.90940970192868,
          3.537604456824517,
          0.7532956685499137,
          0.1335113484646211,
          -1.6000000000000014,
          -4.0650406504065035,
          -2.1751412429378503,
          -6.410626624314175,
          -9.132983647022531,
          -11.103565365025469,
          -17.112299465240643,
          6.359447004608287,
          10.225303292894283,
          0.039308176100627534,
          11.277013752455801,
          2.0127118644067687,
          0.13845621322257085,
          -5.115796750777724,
          -10.273224043715846,
          -4.3036946812829875,
          -4.5820958845990685,
          -5.513561582925752,
          -4.282352941176482,
          -9.882005899705003,
          10.256410256410264,
          8.659079663532921,
          5.828779599271394,
          4.216867469879526,
          -5.573905862923212,
          -3.0170529077393926,
          2.2993688007213686,
          1.5425297487879908,
          -2.517361111111105,
          1.9145146927871837,
          5.242463958060273,
          -2.0340390203403835,
          1.1016949152542477,
          3.8977367979882604,
          -1.2505042355788643,
          -1.9607843137254943,
          -2.3333333333333317,
          3.924914675767921,
          10.344827586206895,
          -5.319940476190488,
          2.4754420432220092,
          -3.335889570552153,
          2.9750099166997224,
          1.3867488443759735,
          -0.037993920972656525,
          6.233371341695171,
          6.01073345259393,
          0.23624704691191933,
          -1.3468013468013518,
          -0.3754266211604129,
          0.37684138403564216,
          0.5119453924914641,
          -7.198641765704572,
          -9.293816319063296,
          -5.1230334812424445,
          2.5510204081632626,
          8.62354892205639,
          10.458015267175579,
          2.384243261921215,
          -5.028687141410737,
          0.7818052594172009,
          -4.231311706629048,
          -0.810014727540509,
          1.7446176688938442,
          -1.9700839109814017,
          -1.3025679196129403,
          -0.7918552036199178,
          -3.8388445458000797,
          -7.747035573122519,
          -16.623821765209946,
          0,
          10.020554984583763,
          4.764128911723486,
          0.0891662951404415,
          0.6681514476614581,
          -1.4159292035398008,
          -3.096947935368055,
          3.5201482167670273,
          6.979865771812088,
          7.026348808030125,
          11.60609613130128,
          1.7857142857143016,
          4.6095631234950085,
          6.70831963170011,
          2.4961479198767345,
          0.7516536380036021,
          0.298418382572363,
          3.4513537637607783,
          2.8472821397756753,
          -1.9854586129753993,
          -0.14265335235377208,
          5.000000000000004,
          19.75510204081632,
          -0.7271074755737295,
          7.461661707484568,
          9.669861554845571
         ]
        }
       ],
       "layout": {
        "legend": {
         "bgcolor": "#F5F6F9",
         "font": {
          "color": "#4D5663"
         }
        },
        "paper_bgcolor": "#F5F6F9",
        "plot_bgcolor": "#F5F6F9",
        "template": {
         "data": {
          "bar": [
           {
            "error_x": {
             "color": "#2a3f5f"
            },
            "error_y": {
             "color": "#2a3f5f"
            },
            "marker": {
             "line": {
              "color": "#E5ECF6",
              "width": 0.5
             },
             "pattern": {
              "fillmode": "overlay",
              "size": 10,
              "solidity": 0.2
             }
            },
            "type": "bar"
           }
          ],
          "barpolar": [
           {
            "marker": {
             "line": {
              "color": "#E5ECF6",
              "width": 0.5
             },
             "pattern": {
              "fillmode": "overlay",
              "size": 10,
              "solidity": 0.2
             }
            },
            "type": "barpolar"
           }
          ],
          "carpet": [
           {
            "aaxis": {
             "endlinecolor": "#2a3f5f",
             "gridcolor": "white",
             "linecolor": "white",
             "minorgridcolor": "white",
             "startlinecolor": "#2a3f5f"
            },
            "baxis": {
             "endlinecolor": "#2a3f5f",
             "gridcolor": "white",
             "linecolor": "white",
             "minorgridcolor": "white",
             "startlinecolor": "#2a3f5f"
            },
            "type": "carpet"
           }
          ],
          "choropleth": [
           {
            "colorbar": {
             "outlinewidth": 0,
             "ticks": ""
            },
            "type": "choropleth"
           }
          ],
          "contour": [
           {
            "colorbar": {
             "outlinewidth": 0,
             "ticks": ""
            },
            "colorscale": [
             [
              0,
              "#0d0887"
             ],
             [
              0.1111111111111111,
              "#46039f"
             ],
             [
              0.2222222222222222,
              "#7201a8"
             ],
             [
              0.3333333333333333,
              "#9c179e"
             ],
             [
              0.4444444444444444,
              "#bd3786"
             ],
             [
              0.5555555555555556,
              "#d8576b"
             ],
             [
              0.6666666666666666,
              "#ed7953"
             ],
             [
              0.7777777777777778,
              "#fb9f3a"
             ],
             [
              0.8888888888888888,
              "#fdca26"
             ],
             [
              1,
              "#f0f921"
             ]
            ],
            "type": "contour"
           }
          ],
          "contourcarpet": [
           {
            "colorbar": {
             "outlinewidth": 0,
             "ticks": ""
            },
            "type": "contourcarpet"
           }
          ],
          "heatmap": [
           {
            "colorbar": {
             "outlinewidth": 0,
             "ticks": ""
            },
            "colorscale": [
             [
              0,
              "#0d0887"
             ],
             [
              0.1111111111111111,
              "#46039f"
             ],
             [
              0.2222222222222222,
              "#7201a8"
             ],
             [
              0.3333333333333333,
              "#9c179e"
             ],
             [
              0.4444444444444444,
              "#bd3786"
             ],
             [
              0.5555555555555556,
              "#d8576b"
             ],
             [
              0.6666666666666666,
              "#ed7953"
             ],
             [
              0.7777777777777778,
              "#fb9f3a"
             ],
             [
              0.8888888888888888,
              "#fdca26"
             ],
             [
              1,
              "#f0f921"
             ]
            ],
            "type": "heatmap"
           }
          ],
          "heatmapgl": [
           {
            "colorbar": {
             "outlinewidth": 0,
             "ticks": ""
            },
            "colorscale": [
             [
              0,
              "#0d0887"
             ],
             [
              0.1111111111111111,
              "#46039f"
             ],
             [
              0.2222222222222222,
              "#7201a8"
             ],
             [
              0.3333333333333333,
              "#9c179e"
             ],
             [
              0.4444444444444444,
              "#bd3786"
             ],
             [
              0.5555555555555556,
              "#d8576b"
             ],
             [
              0.6666666666666666,
              "#ed7953"
             ],
             [
              0.7777777777777778,
              "#fb9f3a"
             ],
             [
              0.8888888888888888,
              "#fdca26"
             ],
             [
              1,
              "#f0f921"
             ]
            ],
            "type": "heatmapgl"
           }
          ],
          "histogram": [
           {
            "marker": {
             "pattern": {
              "fillmode": "overlay",
              "size": 10,
              "solidity": 0.2
             }
            },
            "type": "histogram"
           }
          ],
          "histogram2d": [
           {
            "colorbar": {
             "outlinewidth": 0,
             "ticks": ""
            },
            "colorscale": [
             [
              0,
              "#0d0887"
             ],
             [
              0.1111111111111111,
              "#46039f"
             ],
             [
              0.2222222222222222,
              "#7201a8"
             ],
             [
              0.3333333333333333,
              "#9c179e"
             ],
             [
              0.4444444444444444,
              "#bd3786"
             ],
             [
              0.5555555555555556,
              "#d8576b"
             ],
             [
              0.6666666666666666,
              "#ed7953"
             ],
             [
              0.7777777777777778,
              "#fb9f3a"
             ],
             [
              0.8888888888888888,
              "#fdca26"
             ],
             [
              1,
              "#f0f921"
             ]
            ],
            "type": "histogram2d"
           }
          ],
          "histogram2dcontour": [
           {
            "colorbar": {
             "outlinewidth": 0,
             "ticks": ""
            },
            "colorscale": [
             [
              0,
              "#0d0887"
             ],
             [
              0.1111111111111111,
              "#46039f"
             ],
             [
              0.2222222222222222,
              "#7201a8"
             ],
             [
              0.3333333333333333,
              "#9c179e"
             ],
             [
              0.4444444444444444,
              "#bd3786"
             ],
             [
              0.5555555555555556,
              "#d8576b"
             ],
             [
              0.6666666666666666,
              "#ed7953"
             ],
             [
              0.7777777777777778,
              "#fb9f3a"
             ],
             [
              0.8888888888888888,
              "#fdca26"
             ],
             [
              1,
              "#f0f921"
             ]
            ],
            "type": "histogram2dcontour"
           }
          ],
          "mesh3d": [
           {
            "colorbar": {
             "outlinewidth": 0,
             "ticks": ""
            },
            "type": "mesh3d"
           }
          ],
          "parcoords": [
           {
            "line": {
             "colorbar": {
              "outlinewidth": 0,
              "ticks": ""
             }
            },
            "type": "parcoords"
           }
          ],
          "pie": [
           {
            "automargin": true,
            "type": "pie"
           }
          ],
          "scatter": [
           {
            "marker": {
             "colorbar": {
              "outlinewidth": 0,
              "ticks": ""
             }
            },
            "type": "scatter"
           }
          ],
          "scatter3d": [
           {
            "line": {
             "colorbar": {
              "outlinewidth": 0,
              "ticks": ""
             }
            },
            "marker": {
             "colorbar": {
              "outlinewidth": 0,
              "ticks": ""
             }
            },
            "type": "scatter3d"
           }
          ],
          "scattercarpet": [
           {
            "marker": {
             "colorbar": {
              "outlinewidth": 0,
              "ticks": ""
             }
            },
            "type": "scattercarpet"
           }
          ],
          "scattergeo": [
           {
            "marker": {
             "colorbar": {
              "outlinewidth": 0,
              "ticks": ""
             }
            },
            "type": "scattergeo"
           }
          ],
          "scattergl": [
           {
            "marker": {
             "colorbar": {
              "outlinewidth": 0,
              "ticks": ""
             }
            },
            "type": "scattergl"
           }
          ],
          "scattermapbox": [
           {
            "marker": {
             "colorbar": {
              "outlinewidth": 0,
              "ticks": ""
             }
            },
            "type": "scattermapbox"
           }
          ],
          "scatterpolar": [
           {
            "marker": {
             "colorbar": {
              "outlinewidth": 0,
              "ticks": ""
             }
            },
            "type": "scatterpolar"
           }
          ],
          "scatterpolargl": [
           {
            "marker": {
             "colorbar": {
              "outlinewidth": 0,
              "ticks": ""
             }
            },
            "type": "scatterpolargl"
           }
          ],
          "scatterternary": [
           {
            "marker": {
             "colorbar": {
              "outlinewidth": 0,
              "ticks": ""
             }
            },
            "type": "scatterternary"
           }
          ],
          "surface": [
           {
            "colorbar": {
             "outlinewidth": 0,
             "ticks": ""
            },
            "colorscale": [
             [
              0,
              "#0d0887"
             ],
             [
              0.1111111111111111,
              "#46039f"
             ],
             [
              0.2222222222222222,
              "#7201a8"
             ],
             [
              0.3333333333333333,
              "#9c179e"
             ],
             [
              0.4444444444444444,
              "#bd3786"
             ],
             [
              0.5555555555555556,
              "#d8576b"
             ],
             [
              0.6666666666666666,
              "#ed7953"
             ],
             [
              0.7777777777777778,
              "#fb9f3a"
             ],
             [
              0.8888888888888888,
              "#fdca26"
             ],
             [
              1,
              "#f0f921"
             ]
            ],
            "type": "surface"
           }
          ],
          "table": [
           {
            "cells": {
             "fill": {
              "color": "#EBF0F8"
             },
             "line": {
              "color": "white"
             }
            },
            "header": {
             "fill": {
              "color": "#C8D4E3"
             },
             "line": {
              "color": "white"
             }
            },
            "type": "table"
           }
          ]
         },
         "layout": {
          "annotationdefaults": {
           "arrowcolor": "#2a3f5f",
           "arrowhead": 0,
           "arrowwidth": 1
          },
          "autotypenumbers": "strict",
          "coloraxis": {
           "colorbar": {
            "outlinewidth": 0,
            "ticks": ""
           }
          },
          "colorscale": {
           "diverging": [
            [
             0,
             "#8e0152"
            ],
            [
             0.1,
             "#c51b7d"
            ],
            [
             0.2,
             "#de77ae"
            ],
            [
             0.3,
             "#f1b6da"
            ],
            [
             0.4,
             "#fde0ef"
            ],
            [
             0.5,
             "#f7f7f7"
            ],
            [
             0.6,
             "#e6f5d0"
            ],
            [
             0.7,
             "#b8e186"
            ],
            [
             0.8,
             "#7fbc41"
            ],
            [
             0.9,
             "#4d9221"
            ],
            [
             1,
             "#276419"
            ]
           ],
           "sequential": [
            [
             0,
             "#0d0887"
            ],
            [
             0.1111111111111111,
             "#46039f"
            ],
            [
             0.2222222222222222,
             "#7201a8"
            ],
            [
             0.3333333333333333,
             "#9c179e"
            ],
            [
             0.4444444444444444,
             "#bd3786"
            ],
            [
             0.5555555555555556,
             "#d8576b"
            ],
            [
             0.6666666666666666,
             "#ed7953"
            ],
            [
             0.7777777777777778,
             "#fb9f3a"
            ],
            [
             0.8888888888888888,
             "#fdca26"
            ],
            [
             1,
             "#f0f921"
            ]
           ],
           "sequentialminus": [
            [
             0,
             "#0d0887"
            ],
            [
             0.1111111111111111,
             "#46039f"
            ],
            [
             0.2222222222222222,
             "#7201a8"
            ],
            [
             0.3333333333333333,
             "#9c179e"
            ],
            [
             0.4444444444444444,
             "#bd3786"
            ],
            [
             0.5555555555555556,
             "#d8576b"
            ],
            [
             0.6666666666666666,
             "#ed7953"
            ],
            [
             0.7777777777777778,
             "#fb9f3a"
            ],
            [
             0.8888888888888888,
             "#fdca26"
            ],
            [
             1,
             "#f0f921"
            ]
           ]
          },
          "colorway": [
           "#636efa",
           "#EF553B",
           "#00cc96",
           "#ab63fa",
           "#FFA15A",
           "#19d3f3",
           "#FF6692",
           "#B6E880",
           "#FF97FF",
           "#FECB52"
          ],
          "font": {
           "color": "#2a3f5f"
          },
          "geo": {
           "bgcolor": "white",
           "lakecolor": "white",
           "landcolor": "#E5ECF6",
           "showlakes": true,
           "showland": true,
           "subunitcolor": "white"
          },
          "hoverlabel": {
           "align": "left"
          },
          "hovermode": "closest",
          "mapbox": {
           "style": "light"
          },
          "paper_bgcolor": "white",
          "plot_bgcolor": "#E5ECF6",
          "polar": {
           "angularaxis": {
            "gridcolor": "white",
            "linecolor": "white",
            "ticks": ""
           },
           "bgcolor": "#E5ECF6",
           "radialaxis": {
            "gridcolor": "white",
            "linecolor": "white",
            "ticks": ""
           }
          },
          "scene": {
           "xaxis": {
            "backgroundcolor": "#E5ECF6",
            "gridcolor": "white",
            "gridwidth": 2,
            "linecolor": "white",
            "showbackground": true,
            "ticks": "",
            "zerolinecolor": "white"
           },
           "yaxis": {
            "backgroundcolor": "#E5ECF6",
            "gridcolor": "white",
            "gridwidth": 2,
            "linecolor": "white",
            "showbackground": true,
            "ticks": "",
            "zerolinecolor": "white"
           },
           "zaxis": {
            "backgroundcolor": "#E5ECF6",
            "gridcolor": "white",
            "gridwidth": 2,
            "linecolor": "white",
            "showbackground": true,
            "ticks": "",
            "zerolinecolor": "white"
           }
          },
          "shapedefaults": {
           "line": {
            "color": "#2a3f5f"
           }
          },
          "ternary": {
           "aaxis": {
            "gridcolor": "white",
            "linecolor": "white",
            "ticks": ""
           },
           "baxis": {
            "gridcolor": "white",
            "linecolor": "white",
            "ticks": ""
           },
           "bgcolor": "#E5ECF6",
           "caxis": {
            "gridcolor": "white",
            "linecolor": "white",
            "ticks": ""
           }
          },
          "title": {
           "x": 0.05
          },
          "xaxis": {
           "automargin": true,
           "gridcolor": "white",
           "linecolor": "white",
           "ticks": "",
           "title": {
            "standoff": 15
           },
           "zerolinecolor": "white",
           "zerolinewidth": 2
          },
          "yaxis": {
           "automargin": true,
           "gridcolor": "white",
           "linecolor": "white",
           "ticks": "",
           "title": {
            "standoff": 15
           },
           "zerolinecolor": "white",
           "zerolinewidth": 2
          }
         }
        },
        "title": {
         "font": {
          "color": "#4D5663"
         },
         "text": "MoM Change in U.S. City Average Price, Gasoline, All Types"
        },
        "xaxis": {
         "gridcolor": "#E1E5ED",
         "showgrid": true,
         "tickfont": {
          "color": "#4D5663"
         },
         "title": {
          "font": {
           "color": "#4D5663"
          },
          "text": "Date"
         },
         "zerolinecolor": "#E1E5ED"
        },
        "yaxis": {
         "gridcolor": "#E1E5ED",
         "showgrid": true,
         "tickfont": {
          "color": "#4D5663"
         },
         "title": {
          "font": {
           "color": "#4D5663"
          },
          "text": "MoM Change in Price (%)"
         },
         "zerolinecolor": "#E1E5ED"
        }
       }
      },
      "text/html": [
       "<div>                            <div id=\"d8223e15-8314-44bb-a361-d6ab469904d6\" class=\"plotly-graph-div\" style=\"height:525px; width:100%;\"></div>            <script type=\"text/javascript\">                require([\"plotly\"], function(Plotly) {                    window.PLOTLYENV=window.PLOTLYENV || {};\n",
       "                    window.PLOTLYENV.BASE_URL='https://plot.ly';                                    if (document.getElementById(\"d8223e15-8314-44bb-a361-d6ab469904d6\")) {                    Plotly.newPlot(                        \"d8223e15-8314-44bb-a361-d6ab469904d6\",                        [{\"line\":{\"color\":\"rgba(0, 0, 0, 1.0)\",\"dash\":\"solid\",\"shape\":\"linear\",\"width\":1.3},\"mode\":\"lines\",\"name\":\"monthly\",\"text\":\"\",\"x\":[\"1995-01-01\",\"1995-02-01\",\"1995-03-01\",\"1995-04-01\",\"1995-05-01\",\"1995-06-01\",\"1995-07-01\",\"1995-08-01\",\"1995-09-01\",\"1995-10-01\",\"1995-11-01\",\"1995-12-01\",\"1996-01-01\",\"1996-02-01\",\"1996-03-01\",\"1996-04-01\",\"1996-05-01\",\"1996-06-01\",\"1996-07-01\",\"1996-08-01\",\"1996-09-01\",\"1996-10-01\",\"1996-11-01\",\"1996-12-01\",\"1997-01-01\",\"1997-02-01\",\"1997-03-01\",\"1997-04-01\",\"1997-05-01\",\"1997-06-01\",\"1997-07-01\",\"1997-08-01\",\"1997-09-01\",\"1997-10-01\",\"1997-11-01\",\"1997-12-01\",\"1998-01-01\",\"1998-02-01\",\"1998-03-01\",\"1998-04-01\",\"1998-05-01\",\"1998-06-01\",\"1998-07-01\",\"1998-08-01\",\"1998-09-01\",\"1998-10-01\",\"1998-11-01\",\"1998-12-01\",\"1999-01-01\",\"1999-02-01\",\"1999-03-01\",\"1999-04-01\",\"1999-05-01\",\"1999-06-01\",\"1999-07-01\",\"1999-08-01\",\"1999-09-01\",\"1999-10-01\",\"1999-11-01\",\"1999-12-01\",\"2000-01-01\",\"2000-02-01\",\"2000-03-01\",\"2000-04-01\",\"2000-05-01\",\"2000-06-01\",\"2000-07-01\",\"2000-08-01\",\"2000-09-01\",\"2000-10-01\",\"2000-11-01\",\"2000-12-01\",\"2001-01-01\",\"2001-02-01\",\"2001-03-01\",\"2001-04-01\",\"2001-05-01\",\"2001-06-01\",\"2001-07-01\",\"2001-08-01\",\"2001-09-01\",\"2001-10-01\",\"2001-11-01\",\"2001-12-01\",\"2002-01-01\",\"2002-02-01\",\"2002-03-01\",\"2002-04-01\",\"2002-05-01\",\"2002-06-01\",\"2002-07-01\",\"2002-08-01\",\"2002-09-01\",\"2002-10-01\",\"2002-11-01\",\"2002-12-01\",\"2003-01-01\",\"2003-02-01\",\"2003-03-01\",\"2003-04-01\",\"2003-05-01\",\"2003-06-01\",\"2003-07-01\",\"2003-08-01\",\"2003-09-01\",\"2003-10-01\",\"2003-11-01\",\"2003-12-01\",\"2004-01-01\",\"2004-02-01\",\"2004-03-01\",\"2004-04-01\",\"2004-05-01\",\"2004-06-01\",\"2004-07-01\",\"2004-08-01\",\"2004-09-01\",\"2004-10-01\",\"2004-11-01\",\"2004-12-01\",\"2005-01-01\",\"2005-02-01\",\"2005-03-01\",\"2005-04-01\",\"2005-05-01\",\"2005-06-01\",\"2005-07-01\",\"2005-08-01\",\"2005-09-01\",\"2005-10-01\",\"2005-11-01\",\"2005-12-01\",\"2006-01-01\",\"2006-02-01\",\"2006-03-01\",\"2006-04-01\",\"2006-05-01\",\"2006-06-01\",\"2006-07-01\",\"2006-08-01\",\"2006-09-01\",\"2006-10-01\",\"2006-11-01\",\"2006-12-01\",\"2007-01-01\",\"2007-02-01\",\"2007-03-01\",\"2007-04-01\",\"2007-05-01\",\"2007-06-01\",\"2007-07-01\",\"2007-08-01\",\"2007-09-01\",\"2007-10-01\",\"2007-11-01\",\"2007-12-01\",\"2008-01-01\",\"2008-02-01\",\"2008-03-01\",\"2008-04-01\",\"2008-05-01\",\"2008-06-01\",\"2008-07-01\",\"2008-08-01\",\"2008-09-01\",\"2008-10-01\",\"2008-11-01\",\"2008-12-01\",\"2009-01-01\",\"2009-02-01\",\"2009-03-01\",\"2009-04-01\",\"2009-05-01\",\"2009-06-01\",\"2009-07-01\",\"2009-08-01\",\"2009-09-01\",\"2009-10-01\",\"2009-11-01\",\"2009-12-01\",\"2010-01-01\",\"2010-02-01\",\"2010-03-01\",\"2010-04-01\",\"2010-05-01\",\"2010-06-01\",\"2010-07-01\",\"2010-08-01\",\"2010-09-01\",\"2010-10-01\",\"2010-11-01\",\"2010-12-01\",\"2011-01-01\",\"2011-02-01\",\"2011-03-01\",\"2011-04-01\",\"2011-05-01\",\"2011-06-01\",\"2011-07-01\",\"2011-08-01\",\"2011-09-01\",\"2011-10-01\",\"2011-11-01\",\"2011-12-01\",\"2012-01-01\",\"2012-02-01\",\"2012-03-01\",\"2012-04-01\",\"2012-05-01\",\"2012-06-01\",\"2012-07-01\",\"2012-08-01\",\"2012-09-01\",\"2012-10-01\",\"2012-11-01\",\"2012-12-01\",\"2013-01-01\",\"2013-02-01\",\"2013-03-01\",\"2013-04-01\",\"2013-05-01\",\"2013-06-01\",\"2013-07-01\",\"2013-08-01\",\"2013-09-01\",\"2013-10-01\",\"2013-11-01\",\"2013-12-01\",\"2014-01-01\",\"2014-02-01\",\"2014-03-01\",\"2014-04-01\",\"2014-05-01\",\"2014-06-01\",\"2014-07-01\",\"2014-08-01\",\"2014-09-01\",\"2014-10-01\",\"2014-11-01\",\"2014-12-01\",\"2015-01-01\",\"2015-02-01\",\"2015-03-01\",\"2015-04-01\",\"2015-05-01\",\"2015-06-01\",\"2015-07-01\",\"2015-08-01\",\"2015-09-01\",\"2015-10-01\",\"2015-11-01\",\"2015-12-01\",\"2016-01-01\",\"2016-02-01\",\"2016-03-01\",\"2016-04-01\",\"2016-05-01\",\"2016-06-01\",\"2016-07-01\",\"2016-08-01\",\"2016-09-01\",\"2016-10-01\",\"2016-11-01\",\"2016-12-01\",\"2017-01-01\",\"2017-02-01\",\"2017-03-01\",\"2017-04-01\",\"2017-05-01\",\"2017-06-01\",\"2017-07-01\",\"2017-08-01\",\"2017-09-01\",\"2017-10-01\",\"2017-11-01\",\"2017-12-01\",\"2018-01-01\",\"2018-02-01\",\"2018-03-01\",\"2018-04-01\",\"2018-05-01\",\"2018-06-01\",\"2018-07-01\",\"2018-08-01\",\"2018-09-01\",\"2018-10-01\",\"2018-11-01\",\"2018-12-01\",\"2019-01-01\",\"2019-02-01\",\"2019-03-01\",\"2019-04-01\",\"2019-05-01\",\"2019-06-01\",\"2019-07-01\",\"2019-08-01\",\"2019-09-01\",\"2019-10-01\",\"2019-11-01\",\"2019-12-01\",\"2020-01-01\",\"2020-02-01\",\"2020-03-01\",\"2020-04-01\",\"2020-05-01\",\"2020-06-01\",\"2020-07-01\",\"2020-08-01\",\"2020-09-01\",\"2020-10-01\",\"2020-11-01\",\"2020-12-01\",\"2021-01-01\",\"2021-02-01\",\"2021-03-01\",\"2021-04-01\",\"2021-05-01\",\"2021-06-01\",\"2021-07-01\",\"2021-08-01\",\"2021-09-01\",\"2021-10-01\",\"2021-11-01\",\"2021-12-01\",\"2022-01-01\",\"2022-02-01\",\"2022-03-01\",\"2022-04-01\",\"2022-05-01\",\"2022-06-01\"],\"y\":[\"\",-0.7563025210083896,-0.6773920406435208,2.0460358056265893,4.9289891395154495,1.9904458598726027,-2.2638563622170094,-2.396166134185307,-1.3093289689034338,-1.741293532338306,-2.0253164556962022,-0.08613264427218548,2.2413793103448265,-0.4215851602023535,3.2176121930567403,7.054963084495469,5.59386973180076,-1.741654571843232,-1.9202363367799125,-2.259036144578319,-0.38520801232666546,-0.46403712296984034,1.631701631701632,0.7645259938837912,0.0,-0.4552352048558417,-1.4481707317073322,-0.3866976024748614,-0.31055900621117516,0.15576323987538387,-1.788491446345264,3.721298495645309,1.8320610687022842,-2.548725637181415,-2.230769230769236,-2.7537372147914962,-4.045307443365697,-4.131534569983131,-3.518029903254183,0.8204193254330194,3.616636528028927,0.17452006980802626,-1.2195121951219523,-2.2927689594356093,-1.5342960288808771,0.7332722273143855,-1.182893539581431,-3.6832412523020275,-1.4340344168260133,-1.6488845780795236,3.3530571992110403,17.557251908396942,0.08116883116884299,-2.351987023519886,3.322259136212624,5.225080385852077,1.909854851031323,-0.37481259370315545,-0.7524454477050413,2.577710386656551,0.22172949002217113,4.867256637168138,12.09563994374121,-2.070263488080315,-0.5765534913516945,7.345360824742264,-1.4405762304921965,-5.054811205846521,4.874919820397694,-1.3455657492354778,-0.3099814011159219,-3.9800995024875663,-1.2305699481865329,0.8524590163934587,-2.2756827048114547,7.584830339321358,12.059369202226344,-4.470198675496684,-9.58983246678221,-3.578274760383393,6.626905235255132,-10.37911746426352,-8.183079056865461,-9.365558912386717,0.7500000000000062,0.08271298593878207,9.421487603305788,12.764350453172213,1.0046885465505584,-1.2599469496021198,0.4701141705842682,0.8021390374331583,-0.06631299734748408,1.857996018579966,-0.06514657980455363,-3.715775749674055,5.4163845633039776,8.285163776493265,6.227758007117434,-4.8576214405360085,-6.866197183098588,-1.8273471959672327,0.5776636713735517,6.636885768985334,5.9844404548174746,-7.058159232072281,-4.131227217496958,-2.5348542458808687,6.306892067620273,4.892966360856277,5.481049562682205,3.6484245439469376,9.333333333333327,1.6097560975609992,-4.848775804128669,-2.068617558022201,-0.3606388459556964,7.135470527404353,-0.9169884169884179,-6.1860691670725725,-3.1152647975077774,5.037513397642002,7.500000000000018,10.346464167062175,-2.9247311827957034,-1.7279574656623886,6.266907123534726,8.103521425540938,16.522762951334368,-4.681711013809354,-15.653710247349828,-6.577293674067864,5.784753363228701,-0.2119542178889322,3.823279524214107,14.607201309328977,6.854694751874324,-1.0023387905111814,2.801214984812672,-0.42678923177937866,-13.056379821958453,-12.059158134243464,-1.3799051315222077,4.066462614779187,-2.4789915966386467,0.5170185264971927,13.116159451350185,10.231148162182645,9.178411825369558,-2.3929471032745564,-2.806451612903227,-5.974112180550939,0.2117896223085003,0.1408946812257783,9.672880759760805,-1.5715202052597799,0.8797653958944274,-0.41989664082686673,7.2656503405773565,5.563955246446928,9.22371813234031,7.920272751114599,0.6561360874848043,-7.339449541284404,-2.3189161021365257,-13.977060549479859,-31.534883720930228,-21.105072463768128,5.510907003444321,7.671381936887922,1.0611419909045017,5.35000000000001,9.824394874228748,15.859982713915288,-3.24505781424842,3.1996915959907613,-1.9051176690325078,-0.4950495049504955,3.6739380022962065,-1.402731635289789,4.0434294271808335,-2.5188916876574208,4.429678848283514,2.7218098267939084,0.30970406056434197,-4.528301886792452,0.0,0.43118936399568764,-1.4669051878354211,3.2316630355845977,1.9697502638058362,4.553294239392902,3.563180468492244,2.421153233513862,11.788491446345262,7.484696716750139,3.0805073776857483,-5.750878955298844,-1.3322675193178868,-0.6211180124223503,-0.43478260869564966,-3.902838427947608,-1.3064470320931498,-4.201438848920858,3.544607990387494,5.076878445024646,8.172280508006624,1.4803471158754355,-3.4456740442655898,-6.173482677780672,-2.7762354247640175,7.338663620788122,3.9638201649374816,-1.7656090071647923,-7.73638968481376,-4.404291360813096,0.6202008269344361,10.008805400645727,1.1739594450373314,-3.8238396624472593,0.9596928982725572,0.2987506789788208,-0.16246953696182898,-0.7865473284513147,-1.1481683980317015,-5.033185840707965,-3.6109493302271423,0.6948640483383617,1.3501350135013412,1.3025458851391392,4.90940970192868,3.537604456824517,0.7532956685499137,0.1335113484646211,-1.6000000000000014,-4.0650406504065035,-2.1751412429378503,-6.410626624314175,-9.132983647022531,-11.103565365025469,-17.112299465240643,6.359447004608287,10.225303292894283,0.039308176100627534,11.277013752455801,2.0127118644067687,0.13845621322257085,-5.115796750777724,-10.273224043715846,-4.3036946812829875,-4.5820958845990685,-5.513561582925752,-4.282352941176482,-9.882005899705003,10.256410256410264,8.659079663532921,5.828779599271394,4.216867469879526,-5.573905862923212,-3.0170529077393926,2.2993688007213686,1.5425297487879908,-2.517361111111105,1.9145146927871837,5.242463958060273,-2.0340390203403835,1.1016949152542477,3.8977367979882604,-1.2505042355788643,-1.9607843137254943,-2.3333333333333317,3.924914675767921,10.344827586206895,-5.319940476190488,2.4754420432220092,-3.335889570552153,2.9750099166997224,1.3867488443759735,-0.037993920972656525,6.233371341695171,6.01073345259393,0.23624704691191933,-1.3468013468013518,-0.3754266211604129,0.37684138403564216,0.5119453924914641,-7.198641765704572,-9.293816319063296,-5.1230334812424445,2.5510204081632626,8.62354892205639,10.458015267175579,2.384243261921215,-5.028687141410737,0.7818052594172009,-4.231311706629048,-0.810014727540509,1.7446176688938442,-1.9700839109814017,-1.3025679196129403,-0.7918552036199178,-3.8388445458000797,-7.747035573122519,-16.623821765209946,0.0,10.020554984583763,4.764128911723486,0.0891662951404415,0.6681514476614581,-1.4159292035398008,-3.096947935368055,3.5201482167670273,6.979865771812088,7.026348808030125,11.60609613130128,1.7857142857143016,4.6095631234950085,6.70831963170011,2.4961479198767345,0.7516536380036021,0.298418382572363,3.4513537637607783,2.8472821397756753,-1.9854586129753993,-0.14265335235377208,5.000000000000004,19.75510204081632,-0.7271074755737295,7.461661707484568,9.669861554845571],\"type\":\"scatter\"}],                        {\"legend\":{\"bgcolor\":\"#F5F6F9\",\"font\":{\"color\":\"#4D5663\"}},\"paper_bgcolor\":\"#F5F6F9\",\"plot_bgcolor\":\"#F5F6F9\",\"template\":{\"data\":{\"barpolar\":[{\"marker\":{\"line\":{\"color\":\"#E5ECF6\",\"width\":0.5},\"pattern\":{\"fillmode\":\"overlay\",\"size\":10,\"solidity\":0.2}},\"type\":\"barpolar\"}],\"bar\":[{\"error_x\":{\"color\":\"#2a3f5f\"},\"error_y\":{\"color\":\"#2a3f5f\"},\"marker\":{\"line\":{\"color\":\"#E5ECF6\",\"width\":0.5},\"pattern\":{\"fillmode\":\"overlay\",\"size\":10,\"solidity\":0.2}},\"type\":\"bar\"}],\"carpet\":[{\"aaxis\":{\"endlinecolor\":\"#2a3f5f\",\"gridcolor\":\"white\",\"linecolor\":\"white\",\"minorgridcolor\":\"white\",\"startlinecolor\":\"#2a3f5f\"},\"baxis\":{\"endlinecolor\":\"#2a3f5f\",\"gridcolor\":\"white\",\"linecolor\":\"white\",\"minorgridcolor\":\"white\",\"startlinecolor\":\"#2a3f5f\"},\"type\":\"carpet\"}],\"choropleth\":[{\"colorbar\":{\"outlinewidth\":0,\"ticks\":\"\"},\"type\":\"choropleth\"}],\"contourcarpet\":[{\"colorbar\":{\"outlinewidth\":0,\"ticks\":\"\"},\"type\":\"contourcarpet\"}],\"contour\":[{\"colorbar\":{\"outlinewidth\":0,\"ticks\":\"\"},\"colorscale\":[[0.0,\"#0d0887\"],[0.1111111111111111,\"#46039f\"],[0.2222222222222222,\"#7201a8\"],[0.3333333333333333,\"#9c179e\"],[0.4444444444444444,\"#bd3786\"],[0.5555555555555556,\"#d8576b\"],[0.6666666666666666,\"#ed7953\"],[0.7777777777777778,\"#fb9f3a\"],[0.8888888888888888,\"#fdca26\"],[1.0,\"#f0f921\"]],\"type\":\"contour\"}],\"heatmapgl\":[{\"colorbar\":{\"outlinewidth\":0,\"ticks\":\"\"},\"colorscale\":[[0.0,\"#0d0887\"],[0.1111111111111111,\"#46039f\"],[0.2222222222222222,\"#7201a8\"],[0.3333333333333333,\"#9c179e\"],[0.4444444444444444,\"#bd3786\"],[0.5555555555555556,\"#d8576b\"],[0.6666666666666666,\"#ed7953\"],[0.7777777777777778,\"#fb9f3a\"],[0.8888888888888888,\"#fdca26\"],[1.0,\"#f0f921\"]],\"type\":\"heatmapgl\"}],\"heatmap\":[{\"colorbar\":{\"outlinewidth\":0,\"ticks\":\"\"},\"colorscale\":[[0.0,\"#0d0887\"],[0.1111111111111111,\"#46039f\"],[0.2222222222222222,\"#7201a8\"],[0.3333333333333333,\"#9c179e\"],[0.4444444444444444,\"#bd3786\"],[0.5555555555555556,\"#d8576b\"],[0.6666666666666666,\"#ed7953\"],[0.7777777777777778,\"#fb9f3a\"],[0.8888888888888888,\"#fdca26\"],[1.0,\"#f0f921\"]],\"type\":\"heatmap\"}],\"histogram2dcontour\":[{\"colorbar\":{\"outlinewidth\":0,\"ticks\":\"\"},\"colorscale\":[[0.0,\"#0d0887\"],[0.1111111111111111,\"#46039f\"],[0.2222222222222222,\"#7201a8\"],[0.3333333333333333,\"#9c179e\"],[0.4444444444444444,\"#bd3786\"],[0.5555555555555556,\"#d8576b\"],[0.6666666666666666,\"#ed7953\"],[0.7777777777777778,\"#fb9f3a\"],[0.8888888888888888,\"#fdca26\"],[1.0,\"#f0f921\"]],\"type\":\"histogram2dcontour\"}],\"histogram2d\":[{\"colorbar\":{\"outlinewidth\":0,\"ticks\":\"\"},\"colorscale\":[[0.0,\"#0d0887\"],[0.1111111111111111,\"#46039f\"],[0.2222222222222222,\"#7201a8\"],[0.3333333333333333,\"#9c179e\"],[0.4444444444444444,\"#bd3786\"],[0.5555555555555556,\"#d8576b\"],[0.6666666666666666,\"#ed7953\"],[0.7777777777777778,\"#fb9f3a\"],[0.8888888888888888,\"#fdca26\"],[1.0,\"#f0f921\"]],\"type\":\"histogram2d\"}],\"histogram\":[{\"marker\":{\"pattern\":{\"fillmode\":\"overlay\",\"size\":10,\"solidity\":0.2}},\"type\":\"histogram\"}],\"mesh3d\":[{\"colorbar\":{\"outlinewidth\":0,\"ticks\":\"\"},\"type\":\"mesh3d\"}],\"parcoords\":[{\"line\":{\"colorbar\":{\"outlinewidth\":0,\"ticks\":\"\"}},\"type\":\"parcoords\"}],\"pie\":[{\"automargin\":true,\"type\":\"pie\"}],\"scatter3d\":[{\"line\":{\"colorbar\":{\"outlinewidth\":0,\"ticks\":\"\"}},\"marker\":{\"colorbar\":{\"outlinewidth\":0,\"ticks\":\"\"}},\"type\":\"scatter3d\"}],\"scattercarpet\":[{\"marker\":{\"colorbar\":{\"outlinewidth\":0,\"ticks\":\"\"}},\"type\":\"scattercarpet\"}],\"scattergeo\":[{\"marker\":{\"colorbar\":{\"outlinewidth\":0,\"ticks\":\"\"}},\"type\":\"scattergeo\"}],\"scattergl\":[{\"marker\":{\"colorbar\":{\"outlinewidth\":0,\"ticks\":\"\"}},\"type\":\"scattergl\"}],\"scattermapbox\":[{\"marker\":{\"colorbar\":{\"outlinewidth\":0,\"ticks\":\"\"}},\"type\":\"scattermapbox\"}],\"scatterpolargl\":[{\"marker\":{\"colorbar\":{\"outlinewidth\":0,\"ticks\":\"\"}},\"type\":\"scatterpolargl\"}],\"scatterpolar\":[{\"marker\":{\"colorbar\":{\"outlinewidth\":0,\"ticks\":\"\"}},\"type\":\"scatterpolar\"}],\"scatter\":[{\"marker\":{\"colorbar\":{\"outlinewidth\":0,\"ticks\":\"\"}},\"type\":\"scatter\"}],\"scatterternary\":[{\"marker\":{\"colorbar\":{\"outlinewidth\":0,\"ticks\":\"\"}},\"type\":\"scatterternary\"}],\"surface\":[{\"colorbar\":{\"outlinewidth\":0,\"ticks\":\"\"},\"colorscale\":[[0.0,\"#0d0887\"],[0.1111111111111111,\"#46039f\"],[0.2222222222222222,\"#7201a8\"],[0.3333333333333333,\"#9c179e\"],[0.4444444444444444,\"#bd3786\"],[0.5555555555555556,\"#d8576b\"],[0.6666666666666666,\"#ed7953\"],[0.7777777777777778,\"#fb9f3a\"],[0.8888888888888888,\"#fdca26\"],[1.0,\"#f0f921\"]],\"type\":\"surface\"}],\"table\":[{\"cells\":{\"fill\":{\"color\":\"#EBF0F8\"},\"line\":{\"color\":\"white\"}},\"header\":{\"fill\":{\"color\":\"#C8D4E3\"},\"line\":{\"color\":\"white\"}},\"type\":\"table\"}]},\"layout\":{\"annotationdefaults\":{\"arrowcolor\":\"#2a3f5f\",\"arrowhead\":0,\"arrowwidth\":1},\"autotypenumbers\":\"strict\",\"coloraxis\":{\"colorbar\":{\"outlinewidth\":0,\"ticks\":\"\"}},\"colorscale\":{\"diverging\":[[0,\"#8e0152\"],[0.1,\"#c51b7d\"],[0.2,\"#de77ae\"],[0.3,\"#f1b6da\"],[0.4,\"#fde0ef\"],[0.5,\"#f7f7f7\"],[0.6,\"#e6f5d0\"],[0.7,\"#b8e186\"],[0.8,\"#7fbc41\"],[0.9,\"#4d9221\"],[1,\"#276419\"]],\"sequential\":[[0.0,\"#0d0887\"],[0.1111111111111111,\"#46039f\"],[0.2222222222222222,\"#7201a8\"],[0.3333333333333333,\"#9c179e\"],[0.4444444444444444,\"#bd3786\"],[0.5555555555555556,\"#d8576b\"],[0.6666666666666666,\"#ed7953\"],[0.7777777777777778,\"#fb9f3a\"],[0.8888888888888888,\"#fdca26\"],[1.0,\"#f0f921\"]],\"sequentialminus\":[[0.0,\"#0d0887\"],[0.1111111111111111,\"#46039f\"],[0.2222222222222222,\"#7201a8\"],[0.3333333333333333,\"#9c179e\"],[0.4444444444444444,\"#bd3786\"],[0.5555555555555556,\"#d8576b\"],[0.6666666666666666,\"#ed7953\"],[0.7777777777777778,\"#fb9f3a\"],[0.8888888888888888,\"#fdca26\"],[1.0,\"#f0f921\"]]},\"colorway\":[\"#636efa\",\"#EF553B\",\"#00cc96\",\"#ab63fa\",\"#FFA15A\",\"#19d3f3\",\"#FF6692\",\"#B6E880\",\"#FF97FF\",\"#FECB52\"],\"font\":{\"color\":\"#2a3f5f\"},\"geo\":{\"bgcolor\":\"white\",\"lakecolor\":\"white\",\"landcolor\":\"#E5ECF6\",\"showlakes\":true,\"showland\":true,\"subunitcolor\":\"white\"},\"hoverlabel\":{\"align\":\"left\"},\"hovermode\":\"closest\",\"mapbox\":{\"style\":\"light\"},\"paper_bgcolor\":\"white\",\"plot_bgcolor\":\"#E5ECF6\",\"polar\":{\"angularaxis\":{\"gridcolor\":\"white\",\"linecolor\":\"white\",\"ticks\":\"\"},\"bgcolor\":\"#E5ECF6\",\"radialaxis\":{\"gridcolor\":\"white\",\"linecolor\":\"white\",\"ticks\":\"\"}},\"scene\":{\"xaxis\":{\"backgroundcolor\":\"#E5ECF6\",\"gridcolor\":\"white\",\"gridwidth\":2,\"linecolor\":\"white\",\"showbackground\":true,\"ticks\":\"\",\"zerolinecolor\":\"white\"},\"yaxis\":{\"backgroundcolor\":\"#E5ECF6\",\"gridcolor\":\"white\",\"gridwidth\":2,\"linecolor\":\"white\",\"showbackground\":true,\"ticks\":\"\",\"zerolinecolor\":\"white\"},\"zaxis\":{\"backgroundcolor\":\"#E5ECF6\",\"gridcolor\":\"white\",\"gridwidth\":2,\"linecolor\":\"white\",\"showbackground\":true,\"ticks\":\"\",\"zerolinecolor\":\"white\"}},\"shapedefaults\":{\"line\":{\"color\":\"#2a3f5f\"}},\"ternary\":{\"aaxis\":{\"gridcolor\":\"white\",\"linecolor\":\"white\",\"ticks\":\"\"},\"baxis\":{\"gridcolor\":\"white\",\"linecolor\":\"white\",\"ticks\":\"\"},\"bgcolor\":\"#E5ECF6\",\"caxis\":{\"gridcolor\":\"white\",\"linecolor\":\"white\",\"ticks\":\"\"}},\"title\":{\"x\":0.05},\"xaxis\":{\"automargin\":true,\"gridcolor\":\"white\",\"linecolor\":\"white\",\"ticks\":\"\",\"title\":{\"standoff\":15},\"zerolinecolor\":\"white\",\"zerolinewidth\":2},\"yaxis\":{\"automargin\":true,\"gridcolor\":\"white\",\"linecolor\":\"white\",\"ticks\":\"\",\"title\":{\"standoff\":15},\"zerolinecolor\":\"white\",\"zerolinewidth\":2}}},\"title\":{\"font\":{\"color\":\"#4D5663\"},\"text\":\"MoM Change in U.S. City Average Price, Gasoline, All Types\"},\"xaxis\":{\"gridcolor\":\"#E1E5ED\",\"showgrid\":true,\"tickfont\":{\"color\":\"#4D5663\"},\"title\":{\"font\":{\"color\":\"#4D5663\"},\"text\":\"Date\"},\"zerolinecolor\":\"#E1E5ED\"},\"yaxis\":{\"gridcolor\":\"#E1E5ED\",\"showgrid\":true,\"tickfont\":{\"color\":\"#4D5663\"},\"title\":{\"font\":{\"color\":\"#4D5663\"},\"text\":\"MoM Change in Price (%)\"},\"zerolinecolor\":\"#E1E5ED\"}},                        {\"showLink\": true, \"linkText\": \"Export to plot.ly\", \"plotlyServerURL\": \"https://plot.ly\", \"responsive\": true}                    ).then(function(){\n",
       "                            \n",
       "var gd = document.getElementById('d8223e15-8314-44bb-a361-d6ab469904d6');\n",
       "var x = new MutationObserver(function (mutations, observer) {{\n",
       "        var display = window.getComputedStyle(gd).display;\n",
       "        if (!display || display === 'none') {{\n",
       "            console.log([gd, 'removed!']);\n",
       "            Plotly.purge(gd);\n",
       "            observer.disconnect();\n",
       "        }}\n",
       "}});\n",
       "\n",
       "// Listen for the removal of the full notebook cells\n",
       "var notebookContainer = gd.closest('#notebook-container');\n",
       "if (notebookContainer) {{\n",
       "    x.observe(notebookContainer, {childList: true});\n",
       "}}\n",
       "\n",
       "// Listen for the clearing of the current output cell\n",
       "var outputEl = gd.closest('.output');\n",
       "if (outputEl) {{\n",
       "    x.observe(outputEl, {childList: true});\n",
       "}}\n",
       "\n",
       "                        })                };                });            </script>        </div>"
      ]
     },
     "metadata": {},
     "output_type": "display_data"
    }
   ],
   "source": [
    "gas_all_df.iplot(kind='scatter',x='date',y='monthly',\n",
    "                 title='MoM Change in U.S. City Average Price, Gasoline, All Types',\n",
    "                 xTitle='Date',\n",
    "                 yTitle='MoM Change in Price (%)',\n",
    "                 color='black')"
   ]
  },
  {
   "cell_type": "code",
   "execution_count": 49,
   "id": "312b2abb",
   "metadata": {
    "scrolled": false
   },
   "outputs": [
    {
     "data": {
      "application/vnd.plotly.v1+json": {
       "config": {
        "linkText": "Export to plot.ly",
        "plotlyServerURL": "https://plot.ly",
        "showLink": true
       },
       "data": [
        {
         "line": {
          "color": "rgba(0, 0, 0, 1.0)",
          "dash": "solid",
          "shape": "linear",
          "width": 1.3
         },
         "mode": "lines",
         "name": "yearly",
         "text": "",
         "type": "scatter",
         "x": [
          "1995-01-01",
          "1995-02-01",
          "1995-03-01",
          "1995-04-01",
          "1995-05-01",
          "1995-06-01",
          "1995-07-01",
          "1995-08-01",
          "1995-09-01",
          "1995-10-01",
          "1995-11-01",
          "1995-12-01",
          "1996-01-01",
          "1996-02-01",
          "1996-03-01",
          "1996-04-01",
          "1996-05-01",
          "1996-06-01",
          "1996-07-01",
          "1996-08-01",
          "1996-09-01",
          "1996-10-01",
          "1996-11-01",
          "1996-12-01",
          "1997-01-01",
          "1997-02-01",
          "1997-03-01",
          "1997-04-01",
          "1997-05-01",
          "1997-06-01",
          "1997-07-01",
          "1997-08-01",
          "1997-09-01",
          "1997-10-01",
          "1997-11-01",
          "1997-12-01",
          "1998-01-01",
          "1998-02-01",
          "1998-03-01",
          "1998-04-01",
          "1998-05-01",
          "1998-06-01",
          "1998-07-01",
          "1998-08-01",
          "1998-09-01",
          "1998-10-01",
          "1998-11-01",
          "1998-12-01",
          "1999-01-01",
          "1999-02-01",
          "1999-03-01",
          "1999-04-01",
          "1999-05-01",
          "1999-06-01",
          "1999-07-01",
          "1999-08-01",
          "1999-09-01",
          "1999-10-01",
          "1999-11-01",
          "1999-12-01",
          "2000-01-01",
          "2000-02-01",
          "2000-03-01",
          "2000-04-01",
          "2000-05-01",
          "2000-06-01",
          "2000-07-01",
          "2000-08-01",
          "2000-09-01",
          "2000-10-01",
          "2000-11-01",
          "2000-12-01",
          "2001-01-01",
          "2001-02-01",
          "2001-03-01",
          "2001-04-01",
          "2001-05-01",
          "2001-06-01",
          "2001-07-01",
          "2001-08-01",
          "2001-09-01",
          "2001-10-01",
          "2001-11-01",
          "2001-12-01",
          "2002-01-01",
          "2002-02-01",
          "2002-03-01",
          "2002-04-01",
          "2002-05-01",
          "2002-06-01",
          "2002-07-01",
          "2002-08-01",
          "2002-09-01",
          "2002-10-01",
          "2002-11-01",
          "2002-12-01",
          "2003-01-01",
          "2003-02-01",
          "2003-03-01",
          "2003-04-01",
          "2003-05-01",
          "2003-06-01",
          "2003-07-01",
          "2003-08-01",
          "2003-09-01",
          "2003-10-01",
          "2003-11-01",
          "2003-12-01",
          "2004-01-01",
          "2004-02-01",
          "2004-03-01",
          "2004-04-01",
          "2004-05-01",
          "2004-06-01",
          "2004-07-01",
          "2004-08-01",
          "2004-09-01",
          "2004-10-01",
          "2004-11-01",
          "2004-12-01",
          "2005-01-01",
          "2005-02-01",
          "2005-03-01",
          "2005-04-01",
          "2005-05-01",
          "2005-06-01",
          "2005-07-01",
          "2005-08-01",
          "2005-09-01",
          "2005-10-01",
          "2005-11-01",
          "2005-12-01",
          "2006-01-01",
          "2006-02-01",
          "2006-03-01",
          "2006-04-01",
          "2006-05-01",
          "2006-06-01",
          "2006-07-01",
          "2006-08-01",
          "2006-09-01",
          "2006-10-01",
          "2006-11-01",
          "2006-12-01",
          "2007-01-01",
          "2007-02-01",
          "2007-03-01",
          "2007-04-01",
          "2007-05-01",
          "2007-06-01",
          "2007-07-01",
          "2007-08-01",
          "2007-09-01",
          "2007-10-01",
          "2007-11-01",
          "2007-12-01",
          "2008-01-01",
          "2008-02-01",
          "2008-03-01",
          "2008-04-01",
          "2008-05-01",
          "2008-06-01",
          "2008-07-01",
          "2008-08-01",
          "2008-09-01",
          "2008-10-01",
          "2008-11-01",
          "2008-12-01",
          "2009-01-01",
          "2009-02-01",
          "2009-03-01",
          "2009-04-01",
          "2009-05-01",
          "2009-06-01",
          "2009-07-01",
          "2009-08-01",
          "2009-09-01",
          "2009-10-01",
          "2009-11-01",
          "2009-12-01",
          "2010-01-01",
          "2010-02-01",
          "2010-03-01",
          "2010-04-01",
          "2010-05-01",
          "2010-06-01",
          "2010-07-01",
          "2010-08-01",
          "2010-09-01",
          "2010-10-01",
          "2010-11-01",
          "2010-12-01",
          "2011-01-01",
          "2011-02-01",
          "2011-03-01",
          "2011-04-01",
          "2011-05-01",
          "2011-06-01",
          "2011-07-01",
          "2011-08-01",
          "2011-09-01",
          "2011-10-01",
          "2011-11-01",
          "2011-12-01",
          "2012-01-01",
          "2012-02-01",
          "2012-03-01",
          "2012-04-01",
          "2012-05-01",
          "2012-06-01",
          "2012-07-01",
          "2012-08-01",
          "2012-09-01",
          "2012-10-01",
          "2012-11-01",
          "2012-12-01",
          "2013-01-01",
          "2013-02-01",
          "2013-03-01",
          "2013-04-01",
          "2013-05-01",
          "2013-06-01",
          "2013-07-01",
          "2013-08-01",
          "2013-09-01",
          "2013-10-01",
          "2013-11-01",
          "2013-12-01",
          "2014-01-01",
          "2014-02-01",
          "2014-03-01",
          "2014-04-01",
          "2014-05-01",
          "2014-06-01",
          "2014-07-01",
          "2014-08-01",
          "2014-09-01",
          "2014-10-01",
          "2014-11-01",
          "2014-12-01",
          "2015-01-01",
          "2015-02-01",
          "2015-03-01",
          "2015-04-01",
          "2015-05-01",
          "2015-06-01",
          "2015-07-01",
          "2015-08-01",
          "2015-09-01",
          "2015-10-01",
          "2015-11-01",
          "2015-12-01",
          "2016-01-01",
          "2016-02-01",
          "2016-03-01",
          "2016-04-01",
          "2016-05-01",
          "2016-06-01",
          "2016-07-01",
          "2016-08-01",
          "2016-09-01",
          "2016-10-01",
          "2016-11-01",
          "2016-12-01",
          "2017-01-01",
          "2017-02-01",
          "2017-03-01",
          "2017-04-01",
          "2017-05-01",
          "2017-06-01",
          "2017-07-01",
          "2017-08-01",
          "2017-09-01",
          "2017-10-01",
          "2017-11-01",
          "2017-12-01",
          "2018-01-01",
          "2018-02-01",
          "2018-03-01",
          "2018-04-01",
          "2018-05-01",
          "2018-06-01",
          "2018-07-01",
          "2018-08-01",
          "2018-09-01",
          "2018-10-01",
          "2018-11-01",
          "2018-12-01",
          "2019-01-01",
          "2019-02-01",
          "2019-03-01",
          "2019-04-01",
          "2019-05-01",
          "2019-06-01",
          "2019-07-01",
          "2019-08-01",
          "2019-09-01",
          "2019-10-01",
          "2019-11-01",
          "2019-12-01",
          "2020-01-01",
          "2020-02-01",
          "2020-03-01",
          "2020-04-01",
          "2020-05-01",
          "2020-06-01",
          "2020-07-01",
          "2020-08-01",
          "2020-09-01",
          "2020-10-01",
          "2020-11-01",
          "2020-12-01",
          "2021-01-01",
          "2021-02-01",
          "2021-03-01",
          "2021-04-01",
          "2021-05-01",
          "2021-06-01",
          "2021-07-01",
          "2021-08-01",
          "2021-09-01",
          "2021-10-01",
          "2021-11-01",
          "2021-12-01",
          "2022-01-01",
          "2022-02-01",
          "2022-03-01",
          "2022-04-01",
          "2022-05-01",
          "2022-06-01"
         ],
         "y": [
          "",
          "",
          "",
          "",
          "",
          "",
          "",
          "",
          "",
          "",
          "",
          "",
          -0.3361344537815114,
          0,
          3.9215686274509887,
          9.022556390977442,
          9.713375796178326,
          5.698672911787672,
          6.070287539936103,
          6.219312602291338,
          7.213930348258701,
          8.60759493670884,
          12.661498708010344,
          13.620689655172423,
          11.129848229342333,
          11.092294665537672,
          6.070549630844946,
          -1.3026819923371624,
          -6.82148040638606,
          -5.022156573116698,
          -4.894578313253028,
          0.9244992295839749,
          3.1709203402938924,
          1.0101010101010166,
          -2.828746177370045,
          -6.2215477996965145,
          -10.01517450682854,
          -13.338414634146345,
          -15.158546017014697,
          -14.130434782608692,
          -10.747663551401876,
          -10.73094867807155,
          -10.213776722090262,
          -15.419847328244273,
          -18.215892053973015,
          -15.46153846153847,
          -14.5554681353265,
          -15.372168284789645,
          -13.069139966273191,
          -10.817941952506594,
          -4.466727438468543,
          11.392405063291132,
          7.591623036649242,
          4.878048780487809,
          9.700176366843039,
          18.140794223826706,
          22.27314390467463,
          20.928116469517732,
          21.454880294659297,
          29.34990439770553,
          31.522793404461712,
          40.236686390532526,
          52.09923664122138,
          26.70454545454546,
          25.871857258718567,
          38.372093023255815,
          31.9935691318328,
          19.098548510313208,
          22.563718140929524,
          21.369450714823166,
          21.91053828658076,
          14.116777531411673,
          12.4631268436578,
          8.157524613220811,
          -5.708908406524483,
          3.587443946188351,
          16.752577319587637,
          3.9015606242497114,
          -4.689403166869665,
          -3.2071840923669104,
          -1.5902140672782838,
          -10.601363918164907,
          -17.66169154228856,
          -22.27979274611399,
          -20.72131147540983,
          -21.326397919375818,
          -11.909514304723878,
          -7.66852195423623,
          -16.777041942604853,
          -13.980358174465623,
          -4.408945686900956,
          -0.0662690523525411,
          -6.339341205717841,
          6.449375866851592,
          15.861027190332333,
          23.083333333333343,
          28.784119106699734,
          39.3388429752066,
          35.27190332326282,
          14.132618888144656,
          5.2387267904509205,
          4.63398253861651,
          4.745989304812825,
          10.80901856763925,
          17.51824817518248,
          7.231270358306197,
          2.8683181225554133,
          4.129993229519302,
          5.009633911368017,
          1.7200474495848272,
          1.005025125628145,
          10.035211267605625,
          29.174543163201005,
          33.697047496790766,
          26.483726866624124,
          16.157989228007175,
          9.203839638622258,
          25.880923450789805,
          30.101394169835217,
          25.227568270481136,
          14.128440366972473,
          14.28571428571428,
          16.47318960751798,
          24,
          10.097560975609765,
          6.481036965914533,
          18.920282542885978,
          31.272539927872224,
          53.516028955532576,
          36.58301158301158,
          16.268874817340475,
          15.784008307372787,
          26.420150053590554,
          20.10204081632654,
          15.994304698623619,
          20.47311827956988,
          32.609658839167025,
          33.58881875563571,
          29.232074671192176,
          19.034536891679753,
          -11.18221623442236,
          -18.056537102473502,
          -4.189359028068706,
          6.726457399103136,
          -1.6108520559559025,
          -0.8920985556499561,
          7.978723404255317,
          3.8557657979293003,
          6.114266622118292,
          4.623692203847463,
          -1.0833880499015125,
          -6.59413122321133,
          7.660219946909375,
          22.59594652867616,
          36.33581110625273,
          28.94957983193278,
          33.39077983627745,
          32.14744963566223,
          25.31261841606669,
          20.006875214850474,
          20.056675062972285,
          32.74193548387097,
          37.47095917690011,
          35.4747617366749,
          32.0535399788658,
          13.436510728104123,
          -29.185375240538804,
          -43.23884001303357,
          -40.633074935400515,
          -35.80927667855984,
          -39.52222558209858,
          -39.64480091664279,
          -39.312876999737746,
          -34.84811664641555,
          -37.37324963785612,
          -30.250130276185516,
          -29.954654574553217,
          -18.976744186046513,
          22.690217391304344,
          53.32950631458093,
          51.196953210010875,
          36.88731682668014,
          41.45000000000001,
          37.92121499762695,
          25.97234226447709,
          3.804550540842966,
          7.2860447185813415,
          4.407919312663422,
          4.874333587204882,
          8.802143130501339,
          7.013658176448878,
          13.478098090602785,
          12.954300107952488,
          18.678479143595418,
          27.041357370095433,
          32.93186510667583,
          36.603773584905674,
          34.854473589651455,
          33.057851239669425,
          31.663685152057262,
          33.04284676833697,
          23.84804783679213,
          19.868920317350813,
          9.831738700098969,
          9.812042051608794,
          12.659409020217737,
          9.015025041736235,
          2.9251876779704977,
          -3.5911602209944826,
          -4.023447908340005,
          -5.428031325951932,
          2.1467391304347716,
          6.659388646288211,
          9.03152513490486,
          1.928057553956819,
          1.7122258936617563,
          -1.16042935886278,
          3.4787410270568753,
          -3.215926493108734,
          -8.27464788732395,
          -4.089606668403234,
          2.526374236535256,
          5.2826956025128435,
          -2.6868848097898357,
          -7.471852610030705,
          -10.549622297473293,
          -6.549971767363061,
          -1.5652687536916732,
          -0.8511887290871711,
          -8.69797225186767,
          -5.3270042194092815,
          1.9193857965451144,
          1.7110266159695797,
          1.543460601137281,
          0.08136696501219731,
          -3.2258064516129004,
          -4.2311946902654824,
          -5.620267909143861,
          -11.027190332326287,
          -21.452145214521458,
          -35.76080521018354,
          -32.55406195207482,
          -29.13649025069638,
          -31.53080441216035,
          -24.379172229639522,
          -22.96,
          -21.598915989159895,
          -22.457627118644062,
          -28.876696505919718,
          -27.275532243134826,
          -23.633276740237687,
          -18.83116883116883,
          -6.267281105990785,
          -20.580589254766025,
          -20.558176100628934,
          -13.713163064833001,
          -17.937853107344637,
          -16.164762893734842,
          -20.94711372277912,
          -19.198542805100182,
          -7.876573284612254,
          -2.248621128553263,
          -0.13339261894175225,
          7.71764705882354,
          18.436578171091455,
          28.750681942171298,
          18.060366155368634,
          12.887067395264108,
          5.335628227194489,
          -0.9083402146986108,
          2.4923480542194953,
          9.828674481514877,
          18.466284706919357,
          10.460069444444443,
          16.117542297417643,
          10.13543031891655,
          7.762557077625587,
          11.525423728813578,
          10.268231349538958,
          12.747075433642596,
          21.03758169934642,
          23.750000000000004,
          25.00000000000002,
          19.82758620689655,
          9.002976190476186,
          15.717092337917492,
          4.7929447852760765,
          -1.6660055533518348,
          -9.399075500770426,
          -8.358662613981771,
          -0.4180919802356353,
          3.542039355992843,
          0,
          -5.252525252525253,
          -3.208191126279869,
          -6.954436450839319,
          -8.05460750853243,
          -6.9269949066213865,
          -1.6831320892791934,
          6.978620411456227,
          11.862244897959172,
          4.892205638474301,
          -10.916030534351151,
          -32.75742916378716,
          -34.323320958488026,
          -23.916133617626155,
          -20.909732016925243,
          -17.34167893961709,
          -16.10987379361545,
          -18.715797154323234,
          -19.650167473018243,
          -15.7239819004525,
          -9.122006841505126,
          1.1462450592885531,
          22.3650385604113,
          49.383350462487165,
          56.26927029804727,
          51.56468939747783,
          48.28354881854659,
          49.265033407572375,
          48.716814159292056,
          56.059245960502665,
          65.63223714682724,
          56.823266219239386,
          46.38226683396069,
          43.61078546307149,
          54.09663865546219,
          50.2923976608187,
          54.39000328839199,
          58.6748844375963
         ]
        }
       ],
       "layout": {
        "legend": {
         "bgcolor": "#F5F6F9",
         "font": {
          "color": "#4D5663"
         }
        },
        "paper_bgcolor": "#F5F6F9",
        "plot_bgcolor": "#F5F6F9",
        "template": {
         "data": {
          "bar": [
           {
            "error_x": {
             "color": "#2a3f5f"
            },
            "error_y": {
             "color": "#2a3f5f"
            },
            "marker": {
             "line": {
              "color": "#E5ECF6",
              "width": 0.5
             },
             "pattern": {
              "fillmode": "overlay",
              "size": 10,
              "solidity": 0.2
             }
            },
            "type": "bar"
           }
          ],
          "barpolar": [
           {
            "marker": {
             "line": {
              "color": "#E5ECF6",
              "width": 0.5
             },
             "pattern": {
              "fillmode": "overlay",
              "size": 10,
              "solidity": 0.2
             }
            },
            "type": "barpolar"
           }
          ],
          "carpet": [
           {
            "aaxis": {
             "endlinecolor": "#2a3f5f",
             "gridcolor": "white",
             "linecolor": "white",
             "minorgridcolor": "white",
             "startlinecolor": "#2a3f5f"
            },
            "baxis": {
             "endlinecolor": "#2a3f5f",
             "gridcolor": "white",
             "linecolor": "white",
             "minorgridcolor": "white",
             "startlinecolor": "#2a3f5f"
            },
            "type": "carpet"
           }
          ],
          "choropleth": [
           {
            "colorbar": {
             "outlinewidth": 0,
             "ticks": ""
            },
            "type": "choropleth"
           }
          ],
          "contour": [
           {
            "colorbar": {
             "outlinewidth": 0,
             "ticks": ""
            },
            "colorscale": [
             [
              0,
              "#0d0887"
             ],
             [
              0.1111111111111111,
              "#46039f"
             ],
             [
              0.2222222222222222,
              "#7201a8"
             ],
             [
              0.3333333333333333,
              "#9c179e"
             ],
             [
              0.4444444444444444,
              "#bd3786"
             ],
             [
              0.5555555555555556,
              "#d8576b"
             ],
             [
              0.6666666666666666,
              "#ed7953"
             ],
             [
              0.7777777777777778,
              "#fb9f3a"
             ],
             [
              0.8888888888888888,
              "#fdca26"
             ],
             [
              1,
              "#f0f921"
             ]
            ],
            "type": "contour"
           }
          ],
          "contourcarpet": [
           {
            "colorbar": {
             "outlinewidth": 0,
             "ticks": ""
            },
            "type": "contourcarpet"
           }
          ],
          "heatmap": [
           {
            "colorbar": {
             "outlinewidth": 0,
             "ticks": ""
            },
            "colorscale": [
             [
              0,
              "#0d0887"
             ],
             [
              0.1111111111111111,
              "#46039f"
             ],
             [
              0.2222222222222222,
              "#7201a8"
             ],
             [
              0.3333333333333333,
              "#9c179e"
             ],
             [
              0.4444444444444444,
              "#bd3786"
             ],
             [
              0.5555555555555556,
              "#d8576b"
             ],
             [
              0.6666666666666666,
              "#ed7953"
             ],
             [
              0.7777777777777778,
              "#fb9f3a"
             ],
             [
              0.8888888888888888,
              "#fdca26"
             ],
             [
              1,
              "#f0f921"
             ]
            ],
            "type": "heatmap"
           }
          ],
          "heatmapgl": [
           {
            "colorbar": {
             "outlinewidth": 0,
             "ticks": ""
            },
            "colorscale": [
             [
              0,
              "#0d0887"
             ],
             [
              0.1111111111111111,
              "#46039f"
             ],
             [
              0.2222222222222222,
              "#7201a8"
             ],
             [
              0.3333333333333333,
              "#9c179e"
             ],
             [
              0.4444444444444444,
              "#bd3786"
             ],
             [
              0.5555555555555556,
              "#d8576b"
             ],
             [
              0.6666666666666666,
              "#ed7953"
             ],
             [
              0.7777777777777778,
              "#fb9f3a"
             ],
             [
              0.8888888888888888,
              "#fdca26"
             ],
             [
              1,
              "#f0f921"
             ]
            ],
            "type": "heatmapgl"
           }
          ],
          "histogram": [
           {
            "marker": {
             "pattern": {
              "fillmode": "overlay",
              "size": 10,
              "solidity": 0.2
             }
            },
            "type": "histogram"
           }
          ],
          "histogram2d": [
           {
            "colorbar": {
             "outlinewidth": 0,
             "ticks": ""
            },
            "colorscale": [
             [
              0,
              "#0d0887"
             ],
             [
              0.1111111111111111,
              "#46039f"
             ],
             [
              0.2222222222222222,
              "#7201a8"
             ],
             [
              0.3333333333333333,
              "#9c179e"
             ],
             [
              0.4444444444444444,
              "#bd3786"
             ],
             [
              0.5555555555555556,
              "#d8576b"
             ],
             [
              0.6666666666666666,
              "#ed7953"
             ],
             [
              0.7777777777777778,
              "#fb9f3a"
             ],
             [
              0.8888888888888888,
              "#fdca26"
             ],
             [
              1,
              "#f0f921"
             ]
            ],
            "type": "histogram2d"
           }
          ],
          "histogram2dcontour": [
           {
            "colorbar": {
             "outlinewidth": 0,
             "ticks": ""
            },
            "colorscale": [
             [
              0,
              "#0d0887"
             ],
             [
              0.1111111111111111,
              "#46039f"
             ],
             [
              0.2222222222222222,
              "#7201a8"
             ],
             [
              0.3333333333333333,
              "#9c179e"
             ],
             [
              0.4444444444444444,
              "#bd3786"
             ],
             [
              0.5555555555555556,
              "#d8576b"
             ],
             [
              0.6666666666666666,
              "#ed7953"
             ],
             [
              0.7777777777777778,
              "#fb9f3a"
             ],
             [
              0.8888888888888888,
              "#fdca26"
             ],
             [
              1,
              "#f0f921"
             ]
            ],
            "type": "histogram2dcontour"
           }
          ],
          "mesh3d": [
           {
            "colorbar": {
             "outlinewidth": 0,
             "ticks": ""
            },
            "type": "mesh3d"
           }
          ],
          "parcoords": [
           {
            "line": {
             "colorbar": {
              "outlinewidth": 0,
              "ticks": ""
             }
            },
            "type": "parcoords"
           }
          ],
          "pie": [
           {
            "automargin": true,
            "type": "pie"
           }
          ],
          "scatter": [
           {
            "marker": {
             "colorbar": {
              "outlinewidth": 0,
              "ticks": ""
             }
            },
            "type": "scatter"
           }
          ],
          "scatter3d": [
           {
            "line": {
             "colorbar": {
              "outlinewidth": 0,
              "ticks": ""
             }
            },
            "marker": {
             "colorbar": {
              "outlinewidth": 0,
              "ticks": ""
             }
            },
            "type": "scatter3d"
           }
          ],
          "scattercarpet": [
           {
            "marker": {
             "colorbar": {
              "outlinewidth": 0,
              "ticks": ""
             }
            },
            "type": "scattercarpet"
           }
          ],
          "scattergeo": [
           {
            "marker": {
             "colorbar": {
              "outlinewidth": 0,
              "ticks": ""
             }
            },
            "type": "scattergeo"
           }
          ],
          "scattergl": [
           {
            "marker": {
             "colorbar": {
              "outlinewidth": 0,
              "ticks": ""
             }
            },
            "type": "scattergl"
           }
          ],
          "scattermapbox": [
           {
            "marker": {
             "colorbar": {
              "outlinewidth": 0,
              "ticks": ""
             }
            },
            "type": "scattermapbox"
           }
          ],
          "scatterpolar": [
           {
            "marker": {
             "colorbar": {
              "outlinewidth": 0,
              "ticks": ""
             }
            },
            "type": "scatterpolar"
           }
          ],
          "scatterpolargl": [
           {
            "marker": {
             "colorbar": {
              "outlinewidth": 0,
              "ticks": ""
             }
            },
            "type": "scatterpolargl"
           }
          ],
          "scatterternary": [
           {
            "marker": {
             "colorbar": {
              "outlinewidth": 0,
              "ticks": ""
             }
            },
            "type": "scatterternary"
           }
          ],
          "surface": [
           {
            "colorbar": {
             "outlinewidth": 0,
             "ticks": ""
            },
            "colorscale": [
             [
              0,
              "#0d0887"
             ],
             [
              0.1111111111111111,
              "#46039f"
             ],
             [
              0.2222222222222222,
              "#7201a8"
             ],
             [
              0.3333333333333333,
              "#9c179e"
             ],
             [
              0.4444444444444444,
              "#bd3786"
             ],
             [
              0.5555555555555556,
              "#d8576b"
             ],
             [
              0.6666666666666666,
              "#ed7953"
             ],
             [
              0.7777777777777778,
              "#fb9f3a"
             ],
             [
              0.8888888888888888,
              "#fdca26"
             ],
             [
              1,
              "#f0f921"
             ]
            ],
            "type": "surface"
           }
          ],
          "table": [
           {
            "cells": {
             "fill": {
              "color": "#EBF0F8"
             },
             "line": {
              "color": "white"
             }
            },
            "header": {
             "fill": {
              "color": "#C8D4E3"
             },
             "line": {
              "color": "white"
             }
            },
            "type": "table"
           }
          ]
         },
         "layout": {
          "annotationdefaults": {
           "arrowcolor": "#2a3f5f",
           "arrowhead": 0,
           "arrowwidth": 1
          },
          "autotypenumbers": "strict",
          "coloraxis": {
           "colorbar": {
            "outlinewidth": 0,
            "ticks": ""
           }
          },
          "colorscale": {
           "diverging": [
            [
             0,
             "#8e0152"
            ],
            [
             0.1,
             "#c51b7d"
            ],
            [
             0.2,
             "#de77ae"
            ],
            [
             0.3,
             "#f1b6da"
            ],
            [
             0.4,
             "#fde0ef"
            ],
            [
             0.5,
             "#f7f7f7"
            ],
            [
             0.6,
             "#e6f5d0"
            ],
            [
             0.7,
             "#b8e186"
            ],
            [
             0.8,
             "#7fbc41"
            ],
            [
             0.9,
             "#4d9221"
            ],
            [
             1,
             "#276419"
            ]
           ],
           "sequential": [
            [
             0,
             "#0d0887"
            ],
            [
             0.1111111111111111,
             "#46039f"
            ],
            [
             0.2222222222222222,
             "#7201a8"
            ],
            [
             0.3333333333333333,
             "#9c179e"
            ],
            [
             0.4444444444444444,
             "#bd3786"
            ],
            [
             0.5555555555555556,
             "#d8576b"
            ],
            [
             0.6666666666666666,
             "#ed7953"
            ],
            [
             0.7777777777777778,
             "#fb9f3a"
            ],
            [
             0.8888888888888888,
             "#fdca26"
            ],
            [
             1,
             "#f0f921"
            ]
           ],
           "sequentialminus": [
            [
             0,
             "#0d0887"
            ],
            [
             0.1111111111111111,
             "#46039f"
            ],
            [
             0.2222222222222222,
             "#7201a8"
            ],
            [
             0.3333333333333333,
             "#9c179e"
            ],
            [
             0.4444444444444444,
             "#bd3786"
            ],
            [
             0.5555555555555556,
             "#d8576b"
            ],
            [
             0.6666666666666666,
             "#ed7953"
            ],
            [
             0.7777777777777778,
             "#fb9f3a"
            ],
            [
             0.8888888888888888,
             "#fdca26"
            ],
            [
             1,
             "#f0f921"
            ]
           ]
          },
          "colorway": [
           "#636efa",
           "#EF553B",
           "#00cc96",
           "#ab63fa",
           "#FFA15A",
           "#19d3f3",
           "#FF6692",
           "#B6E880",
           "#FF97FF",
           "#FECB52"
          ],
          "font": {
           "color": "#2a3f5f"
          },
          "geo": {
           "bgcolor": "white",
           "lakecolor": "white",
           "landcolor": "#E5ECF6",
           "showlakes": true,
           "showland": true,
           "subunitcolor": "white"
          },
          "hoverlabel": {
           "align": "left"
          },
          "hovermode": "closest",
          "mapbox": {
           "style": "light"
          },
          "paper_bgcolor": "white",
          "plot_bgcolor": "#E5ECF6",
          "polar": {
           "angularaxis": {
            "gridcolor": "white",
            "linecolor": "white",
            "ticks": ""
           },
           "bgcolor": "#E5ECF6",
           "radialaxis": {
            "gridcolor": "white",
            "linecolor": "white",
            "ticks": ""
           }
          },
          "scene": {
           "xaxis": {
            "backgroundcolor": "#E5ECF6",
            "gridcolor": "white",
            "gridwidth": 2,
            "linecolor": "white",
            "showbackground": true,
            "ticks": "",
            "zerolinecolor": "white"
           },
           "yaxis": {
            "backgroundcolor": "#E5ECF6",
            "gridcolor": "white",
            "gridwidth": 2,
            "linecolor": "white",
            "showbackground": true,
            "ticks": "",
            "zerolinecolor": "white"
           },
           "zaxis": {
            "backgroundcolor": "#E5ECF6",
            "gridcolor": "white",
            "gridwidth": 2,
            "linecolor": "white",
            "showbackground": true,
            "ticks": "",
            "zerolinecolor": "white"
           }
          },
          "shapedefaults": {
           "line": {
            "color": "#2a3f5f"
           }
          },
          "ternary": {
           "aaxis": {
            "gridcolor": "white",
            "linecolor": "white",
            "ticks": ""
           },
           "baxis": {
            "gridcolor": "white",
            "linecolor": "white",
            "ticks": ""
           },
           "bgcolor": "#E5ECF6",
           "caxis": {
            "gridcolor": "white",
            "linecolor": "white",
            "ticks": ""
           }
          },
          "title": {
           "x": 0.05
          },
          "xaxis": {
           "automargin": true,
           "gridcolor": "white",
           "linecolor": "white",
           "ticks": "",
           "title": {
            "standoff": 15
           },
           "zerolinecolor": "white",
           "zerolinewidth": 2
          },
          "yaxis": {
           "automargin": true,
           "gridcolor": "white",
           "linecolor": "white",
           "ticks": "",
           "title": {
            "standoff": 15
           },
           "zerolinecolor": "white",
           "zerolinewidth": 2
          }
         }
        },
        "title": {
         "font": {
          "color": "#4D5663"
         },
         "text": "YoY Change in U.S. City Average Price, Gasoline, All Types"
        },
        "xaxis": {
         "gridcolor": "#E1E5ED",
         "showgrid": true,
         "tickfont": {
          "color": "#4D5663"
         },
         "title": {
          "font": {
           "color": "#4D5663"
          },
          "text": "Date"
         },
         "zerolinecolor": "#E1E5ED"
        },
        "yaxis": {
         "gridcolor": "#E1E5ED",
         "showgrid": true,
         "tickfont": {
          "color": "#4D5663"
         },
         "title": {
          "font": {
           "color": "#4D5663"
          },
          "text": "YoY Change in Price (%)"
         },
         "zerolinecolor": "#E1E5ED"
        }
       }
      },
      "text/html": [
       "<div>                            <div id=\"9f5fb8a0-c3e9-4cd3-924b-79a55afeac0b\" class=\"plotly-graph-div\" style=\"height:525px; width:100%;\"></div>            <script type=\"text/javascript\">                require([\"plotly\"], function(Plotly) {                    window.PLOTLYENV=window.PLOTLYENV || {};\n",
       "                    window.PLOTLYENV.BASE_URL='https://plot.ly';                                    if (document.getElementById(\"9f5fb8a0-c3e9-4cd3-924b-79a55afeac0b\")) {                    Plotly.newPlot(                        \"9f5fb8a0-c3e9-4cd3-924b-79a55afeac0b\",                        [{\"line\":{\"color\":\"rgba(0, 0, 0, 1.0)\",\"dash\":\"solid\",\"shape\":\"linear\",\"width\":1.3},\"mode\":\"lines\",\"name\":\"yearly\",\"text\":\"\",\"x\":[\"1995-01-01\",\"1995-02-01\",\"1995-03-01\",\"1995-04-01\",\"1995-05-01\",\"1995-06-01\",\"1995-07-01\",\"1995-08-01\",\"1995-09-01\",\"1995-10-01\",\"1995-11-01\",\"1995-12-01\",\"1996-01-01\",\"1996-02-01\",\"1996-03-01\",\"1996-04-01\",\"1996-05-01\",\"1996-06-01\",\"1996-07-01\",\"1996-08-01\",\"1996-09-01\",\"1996-10-01\",\"1996-11-01\",\"1996-12-01\",\"1997-01-01\",\"1997-02-01\",\"1997-03-01\",\"1997-04-01\",\"1997-05-01\",\"1997-06-01\",\"1997-07-01\",\"1997-08-01\",\"1997-09-01\",\"1997-10-01\",\"1997-11-01\",\"1997-12-01\",\"1998-01-01\",\"1998-02-01\",\"1998-03-01\",\"1998-04-01\",\"1998-05-01\",\"1998-06-01\",\"1998-07-01\",\"1998-08-01\",\"1998-09-01\",\"1998-10-01\",\"1998-11-01\",\"1998-12-01\",\"1999-01-01\",\"1999-02-01\",\"1999-03-01\",\"1999-04-01\",\"1999-05-01\",\"1999-06-01\",\"1999-07-01\",\"1999-08-01\",\"1999-09-01\",\"1999-10-01\",\"1999-11-01\",\"1999-12-01\",\"2000-01-01\",\"2000-02-01\",\"2000-03-01\",\"2000-04-01\",\"2000-05-01\",\"2000-06-01\",\"2000-07-01\",\"2000-08-01\",\"2000-09-01\",\"2000-10-01\",\"2000-11-01\",\"2000-12-01\",\"2001-01-01\",\"2001-02-01\",\"2001-03-01\",\"2001-04-01\",\"2001-05-01\",\"2001-06-01\",\"2001-07-01\",\"2001-08-01\",\"2001-09-01\",\"2001-10-01\",\"2001-11-01\",\"2001-12-01\",\"2002-01-01\",\"2002-02-01\",\"2002-03-01\",\"2002-04-01\",\"2002-05-01\",\"2002-06-01\",\"2002-07-01\",\"2002-08-01\",\"2002-09-01\",\"2002-10-01\",\"2002-11-01\",\"2002-12-01\",\"2003-01-01\",\"2003-02-01\",\"2003-03-01\",\"2003-04-01\",\"2003-05-01\",\"2003-06-01\",\"2003-07-01\",\"2003-08-01\",\"2003-09-01\",\"2003-10-01\",\"2003-11-01\",\"2003-12-01\",\"2004-01-01\",\"2004-02-01\",\"2004-03-01\",\"2004-04-01\",\"2004-05-01\",\"2004-06-01\",\"2004-07-01\",\"2004-08-01\",\"2004-09-01\",\"2004-10-01\",\"2004-11-01\",\"2004-12-01\",\"2005-01-01\",\"2005-02-01\",\"2005-03-01\",\"2005-04-01\",\"2005-05-01\",\"2005-06-01\",\"2005-07-01\",\"2005-08-01\",\"2005-09-01\",\"2005-10-01\",\"2005-11-01\",\"2005-12-01\",\"2006-01-01\",\"2006-02-01\",\"2006-03-01\",\"2006-04-01\",\"2006-05-01\",\"2006-06-01\",\"2006-07-01\",\"2006-08-01\",\"2006-09-01\",\"2006-10-01\",\"2006-11-01\",\"2006-12-01\",\"2007-01-01\",\"2007-02-01\",\"2007-03-01\",\"2007-04-01\",\"2007-05-01\",\"2007-06-01\",\"2007-07-01\",\"2007-08-01\",\"2007-09-01\",\"2007-10-01\",\"2007-11-01\",\"2007-12-01\",\"2008-01-01\",\"2008-02-01\",\"2008-03-01\",\"2008-04-01\",\"2008-05-01\",\"2008-06-01\",\"2008-07-01\",\"2008-08-01\",\"2008-09-01\",\"2008-10-01\",\"2008-11-01\",\"2008-12-01\",\"2009-01-01\",\"2009-02-01\",\"2009-03-01\",\"2009-04-01\",\"2009-05-01\",\"2009-06-01\",\"2009-07-01\",\"2009-08-01\",\"2009-09-01\",\"2009-10-01\",\"2009-11-01\",\"2009-12-01\",\"2010-01-01\",\"2010-02-01\",\"2010-03-01\",\"2010-04-01\",\"2010-05-01\",\"2010-06-01\",\"2010-07-01\",\"2010-08-01\",\"2010-09-01\",\"2010-10-01\",\"2010-11-01\",\"2010-12-01\",\"2011-01-01\",\"2011-02-01\",\"2011-03-01\",\"2011-04-01\",\"2011-05-01\",\"2011-06-01\",\"2011-07-01\",\"2011-08-01\",\"2011-09-01\",\"2011-10-01\",\"2011-11-01\",\"2011-12-01\",\"2012-01-01\",\"2012-02-01\",\"2012-03-01\",\"2012-04-01\",\"2012-05-01\",\"2012-06-01\",\"2012-07-01\",\"2012-08-01\",\"2012-09-01\",\"2012-10-01\",\"2012-11-01\",\"2012-12-01\",\"2013-01-01\",\"2013-02-01\",\"2013-03-01\",\"2013-04-01\",\"2013-05-01\",\"2013-06-01\",\"2013-07-01\",\"2013-08-01\",\"2013-09-01\",\"2013-10-01\",\"2013-11-01\",\"2013-12-01\",\"2014-01-01\",\"2014-02-01\",\"2014-03-01\",\"2014-04-01\",\"2014-05-01\",\"2014-06-01\",\"2014-07-01\",\"2014-08-01\",\"2014-09-01\",\"2014-10-01\",\"2014-11-01\",\"2014-12-01\",\"2015-01-01\",\"2015-02-01\",\"2015-03-01\",\"2015-04-01\",\"2015-05-01\",\"2015-06-01\",\"2015-07-01\",\"2015-08-01\",\"2015-09-01\",\"2015-10-01\",\"2015-11-01\",\"2015-12-01\",\"2016-01-01\",\"2016-02-01\",\"2016-03-01\",\"2016-04-01\",\"2016-05-01\",\"2016-06-01\",\"2016-07-01\",\"2016-08-01\",\"2016-09-01\",\"2016-10-01\",\"2016-11-01\",\"2016-12-01\",\"2017-01-01\",\"2017-02-01\",\"2017-03-01\",\"2017-04-01\",\"2017-05-01\",\"2017-06-01\",\"2017-07-01\",\"2017-08-01\",\"2017-09-01\",\"2017-10-01\",\"2017-11-01\",\"2017-12-01\",\"2018-01-01\",\"2018-02-01\",\"2018-03-01\",\"2018-04-01\",\"2018-05-01\",\"2018-06-01\",\"2018-07-01\",\"2018-08-01\",\"2018-09-01\",\"2018-10-01\",\"2018-11-01\",\"2018-12-01\",\"2019-01-01\",\"2019-02-01\",\"2019-03-01\",\"2019-04-01\",\"2019-05-01\",\"2019-06-01\",\"2019-07-01\",\"2019-08-01\",\"2019-09-01\",\"2019-10-01\",\"2019-11-01\",\"2019-12-01\",\"2020-01-01\",\"2020-02-01\",\"2020-03-01\",\"2020-04-01\",\"2020-05-01\",\"2020-06-01\",\"2020-07-01\",\"2020-08-01\",\"2020-09-01\",\"2020-10-01\",\"2020-11-01\",\"2020-12-01\",\"2021-01-01\",\"2021-02-01\",\"2021-03-01\",\"2021-04-01\",\"2021-05-01\",\"2021-06-01\",\"2021-07-01\",\"2021-08-01\",\"2021-09-01\",\"2021-10-01\",\"2021-11-01\",\"2021-12-01\",\"2022-01-01\",\"2022-02-01\",\"2022-03-01\",\"2022-04-01\",\"2022-05-01\",\"2022-06-01\"],\"y\":[\"\",\"\",\"\",\"\",\"\",\"\",\"\",\"\",\"\",\"\",\"\",\"\",-0.3361344537815114,0.0,3.9215686274509887,9.022556390977442,9.713375796178326,5.698672911787672,6.070287539936103,6.219312602291338,7.213930348258701,8.60759493670884,12.661498708010344,13.620689655172423,11.129848229342333,11.092294665537672,6.070549630844946,-1.3026819923371624,-6.82148040638606,-5.022156573116698,-4.894578313253028,0.9244992295839749,3.1709203402938924,1.0101010101010166,-2.828746177370045,-6.2215477996965145,-10.01517450682854,-13.338414634146345,-15.158546017014697,-14.130434782608692,-10.747663551401876,-10.73094867807155,-10.213776722090262,-15.419847328244273,-18.215892053973015,-15.46153846153847,-14.5554681353265,-15.372168284789645,-13.069139966273191,-10.817941952506594,-4.466727438468543,11.392405063291132,7.591623036649242,4.878048780487809,9.700176366843039,18.140794223826706,22.27314390467463,20.928116469517732,21.454880294659297,29.34990439770553,31.522793404461712,40.236686390532526,52.09923664122138,26.70454545454546,25.871857258718567,38.372093023255815,31.9935691318328,19.098548510313208,22.563718140929524,21.369450714823166,21.91053828658076,14.116777531411673,12.4631268436578,8.157524613220811,-5.708908406524483,3.587443946188351,16.752577319587637,3.9015606242497114,-4.689403166869665,-3.2071840923669104,-1.5902140672782838,-10.601363918164907,-17.66169154228856,-22.27979274611399,-20.72131147540983,-21.326397919375818,-11.909514304723878,-7.66852195423623,-16.777041942604853,-13.980358174465623,-4.408945686900956,-0.0662690523525411,-6.339341205717841,6.449375866851592,15.861027190332333,23.083333333333343,28.784119106699734,39.3388429752066,35.27190332326282,14.132618888144656,5.2387267904509205,4.63398253861651,4.745989304812825,10.80901856763925,17.51824817518248,7.231270358306197,2.8683181225554133,4.129993229519302,5.009633911368017,1.7200474495848272,1.005025125628145,10.035211267605625,29.174543163201005,33.697047496790766,26.483726866624124,16.157989228007175,9.203839638622258,25.880923450789805,30.101394169835217,25.227568270481136,14.128440366972473,14.28571428571428,16.47318960751798,24.0,10.097560975609765,6.481036965914533,18.920282542885978,31.272539927872224,53.516028955532576,36.58301158301158,16.268874817340475,15.784008307372787,26.420150053590554,20.10204081632654,15.994304698623619,20.47311827956988,32.609658839167025,33.58881875563571,29.232074671192176,19.034536891679753,-11.18221623442236,-18.056537102473502,-4.189359028068706,6.726457399103136,-1.6108520559559025,-0.8920985556499561,7.978723404255317,3.8557657979293003,6.114266622118292,4.623692203847463,-1.0833880499015125,-6.59413122321133,7.660219946909375,22.59594652867616,36.33581110625273,28.94957983193278,33.39077983627745,32.14744963566223,25.31261841606669,20.006875214850474,20.056675062972285,32.74193548387097,37.47095917690011,35.4747617366749,32.0535399788658,13.436510728104123,-29.185375240538804,-43.23884001303357,-40.633074935400515,-35.80927667855984,-39.52222558209858,-39.64480091664279,-39.312876999737746,-34.84811664641555,-37.37324963785612,-30.250130276185516,-29.954654574553217,-18.976744186046513,22.690217391304344,53.32950631458093,51.196953210010875,36.88731682668014,41.45000000000001,37.92121499762695,25.97234226447709,3.804550540842966,7.2860447185813415,4.407919312663422,4.874333587204882,8.802143130501339,7.013658176448878,13.478098090602785,12.954300107952488,18.678479143595418,27.041357370095433,32.93186510667583,36.603773584905674,34.854473589651455,33.057851239669425,31.663685152057262,33.04284676833697,23.84804783679213,19.868920317350813,9.831738700098969,9.812042051608794,12.659409020217737,9.015025041736235,2.9251876779704977,-3.5911602209944826,-4.023447908340005,-5.428031325951932,2.1467391304347716,6.659388646288211,9.03152513490486,1.928057553956819,1.7122258936617563,-1.16042935886278,3.4787410270568753,-3.215926493108734,-8.27464788732395,-4.089606668403234,2.526374236535256,5.2826956025128435,-2.6868848097898357,-7.471852610030705,-10.549622297473293,-6.549971767363061,-1.5652687536916732,-0.8511887290871711,-8.69797225186767,-5.3270042194092815,1.9193857965451144,1.7110266159695797,1.543460601137281,0.08136696501219731,-3.2258064516129004,-4.2311946902654824,-5.620267909143861,-11.027190332326287,-21.452145214521458,-35.76080521018354,-32.55406195207482,-29.13649025069638,-31.53080441216035,-24.379172229639522,-22.96,-21.598915989159895,-22.457627118644062,-28.876696505919718,-27.275532243134826,-23.633276740237687,-18.83116883116883,-6.267281105990785,-20.580589254766025,-20.558176100628934,-13.713163064833001,-17.937853107344637,-16.164762893734842,-20.94711372277912,-19.198542805100182,-7.876573284612254,-2.248621128553263,-0.13339261894175225,7.71764705882354,18.436578171091455,28.750681942171298,18.060366155368634,12.887067395264108,5.335628227194489,-0.9083402146986108,2.4923480542194953,9.828674481514877,18.466284706919357,10.460069444444443,16.117542297417643,10.13543031891655,7.762557077625587,11.525423728813578,10.268231349538958,12.747075433642596,21.03758169934642,23.750000000000004,25.00000000000002,19.82758620689655,9.002976190476186,15.717092337917492,4.7929447852760765,-1.6660055533518348,-9.399075500770426,-8.358662613981771,-0.4180919802356353,3.542039355992843,0.0,-5.252525252525253,-3.208191126279869,-6.954436450839319,-8.05460750853243,-6.9269949066213865,-1.6831320892791934,6.978620411456227,11.862244897959172,4.892205638474301,-10.916030534351151,-32.75742916378716,-34.323320958488026,-23.916133617626155,-20.909732016925243,-17.34167893961709,-16.10987379361545,-18.715797154323234,-19.650167473018243,-15.7239819004525,-9.122006841505126,1.1462450592885531,22.3650385604113,49.383350462487165,56.26927029804727,51.56468939747783,48.28354881854659,49.265033407572375,48.716814159292056,56.059245960502665,65.63223714682724,56.823266219239386,46.38226683396069,43.61078546307149,54.09663865546219,50.2923976608187,54.39000328839199,58.6748844375963],\"type\":\"scatter\"}],                        {\"legend\":{\"bgcolor\":\"#F5F6F9\",\"font\":{\"color\":\"#4D5663\"}},\"paper_bgcolor\":\"#F5F6F9\",\"plot_bgcolor\":\"#F5F6F9\",\"template\":{\"data\":{\"barpolar\":[{\"marker\":{\"line\":{\"color\":\"#E5ECF6\",\"width\":0.5},\"pattern\":{\"fillmode\":\"overlay\",\"size\":10,\"solidity\":0.2}},\"type\":\"barpolar\"}],\"bar\":[{\"error_x\":{\"color\":\"#2a3f5f\"},\"error_y\":{\"color\":\"#2a3f5f\"},\"marker\":{\"line\":{\"color\":\"#E5ECF6\",\"width\":0.5},\"pattern\":{\"fillmode\":\"overlay\",\"size\":10,\"solidity\":0.2}},\"type\":\"bar\"}],\"carpet\":[{\"aaxis\":{\"endlinecolor\":\"#2a3f5f\",\"gridcolor\":\"white\",\"linecolor\":\"white\",\"minorgridcolor\":\"white\",\"startlinecolor\":\"#2a3f5f\"},\"baxis\":{\"endlinecolor\":\"#2a3f5f\",\"gridcolor\":\"white\",\"linecolor\":\"white\",\"minorgridcolor\":\"white\",\"startlinecolor\":\"#2a3f5f\"},\"type\":\"carpet\"}],\"choropleth\":[{\"colorbar\":{\"outlinewidth\":0,\"ticks\":\"\"},\"type\":\"choropleth\"}],\"contourcarpet\":[{\"colorbar\":{\"outlinewidth\":0,\"ticks\":\"\"},\"type\":\"contourcarpet\"}],\"contour\":[{\"colorbar\":{\"outlinewidth\":0,\"ticks\":\"\"},\"colorscale\":[[0.0,\"#0d0887\"],[0.1111111111111111,\"#46039f\"],[0.2222222222222222,\"#7201a8\"],[0.3333333333333333,\"#9c179e\"],[0.4444444444444444,\"#bd3786\"],[0.5555555555555556,\"#d8576b\"],[0.6666666666666666,\"#ed7953\"],[0.7777777777777778,\"#fb9f3a\"],[0.8888888888888888,\"#fdca26\"],[1.0,\"#f0f921\"]],\"type\":\"contour\"}],\"heatmapgl\":[{\"colorbar\":{\"outlinewidth\":0,\"ticks\":\"\"},\"colorscale\":[[0.0,\"#0d0887\"],[0.1111111111111111,\"#46039f\"],[0.2222222222222222,\"#7201a8\"],[0.3333333333333333,\"#9c179e\"],[0.4444444444444444,\"#bd3786\"],[0.5555555555555556,\"#d8576b\"],[0.6666666666666666,\"#ed7953\"],[0.7777777777777778,\"#fb9f3a\"],[0.8888888888888888,\"#fdca26\"],[1.0,\"#f0f921\"]],\"type\":\"heatmapgl\"}],\"heatmap\":[{\"colorbar\":{\"outlinewidth\":0,\"ticks\":\"\"},\"colorscale\":[[0.0,\"#0d0887\"],[0.1111111111111111,\"#46039f\"],[0.2222222222222222,\"#7201a8\"],[0.3333333333333333,\"#9c179e\"],[0.4444444444444444,\"#bd3786\"],[0.5555555555555556,\"#d8576b\"],[0.6666666666666666,\"#ed7953\"],[0.7777777777777778,\"#fb9f3a\"],[0.8888888888888888,\"#fdca26\"],[1.0,\"#f0f921\"]],\"type\":\"heatmap\"}],\"histogram2dcontour\":[{\"colorbar\":{\"outlinewidth\":0,\"ticks\":\"\"},\"colorscale\":[[0.0,\"#0d0887\"],[0.1111111111111111,\"#46039f\"],[0.2222222222222222,\"#7201a8\"],[0.3333333333333333,\"#9c179e\"],[0.4444444444444444,\"#bd3786\"],[0.5555555555555556,\"#d8576b\"],[0.6666666666666666,\"#ed7953\"],[0.7777777777777778,\"#fb9f3a\"],[0.8888888888888888,\"#fdca26\"],[1.0,\"#f0f921\"]],\"type\":\"histogram2dcontour\"}],\"histogram2d\":[{\"colorbar\":{\"outlinewidth\":0,\"ticks\":\"\"},\"colorscale\":[[0.0,\"#0d0887\"],[0.1111111111111111,\"#46039f\"],[0.2222222222222222,\"#7201a8\"],[0.3333333333333333,\"#9c179e\"],[0.4444444444444444,\"#bd3786\"],[0.5555555555555556,\"#d8576b\"],[0.6666666666666666,\"#ed7953\"],[0.7777777777777778,\"#fb9f3a\"],[0.8888888888888888,\"#fdca26\"],[1.0,\"#f0f921\"]],\"type\":\"histogram2d\"}],\"histogram\":[{\"marker\":{\"pattern\":{\"fillmode\":\"overlay\",\"size\":10,\"solidity\":0.2}},\"type\":\"histogram\"}],\"mesh3d\":[{\"colorbar\":{\"outlinewidth\":0,\"ticks\":\"\"},\"type\":\"mesh3d\"}],\"parcoords\":[{\"line\":{\"colorbar\":{\"outlinewidth\":0,\"ticks\":\"\"}},\"type\":\"parcoords\"}],\"pie\":[{\"automargin\":true,\"type\":\"pie\"}],\"scatter3d\":[{\"line\":{\"colorbar\":{\"outlinewidth\":0,\"ticks\":\"\"}},\"marker\":{\"colorbar\":{\"outlinewidth\":0,\"ticks\":\"\"}},\"type\":\"scatter3d\"}],\"scattercarpet\":[{\"marker\":{\"colorbar\":{\"outlinewidth\":0,\"ticks\":\"\"}},\"type\":\"scattercarpet\"}],\"scattergeo\":[{\"marker\":{\"colorbar\":{\"outlinewidth\":0,\"ticks\":\"\"}},\"type\":\"scattergeo\"}],\"scattergl\":[{\"marker\":{\"colorbar\":{\"outlinewidth\":0,\"ticks\":\"\"}},\"type\":\"scattergl\"}],\"scattermapbox\":[{\"marker\":{\"colorbar\":{\"outlinewidth\":0,\"ticks\":\"\"}},\"type\":\"scattermapbox\"}],\"scatterpolargl\":[{\"marker\":{\"colorbar\":{\"outlinewidth\":0,\"ticks\":\"\"}},\"type\":\"scatterpolargl\"}],\"scatterpolar\":[{\"marker\":{\"colorbar\":{\"outlinewidth\":0,\"ticks\":\"\"}},\"type\":\"scatterpolar\"}],\"scatter\":[{\"marker\":{\"colorbar\":{\"outlinewidth\":0,\"ticks\":\"\"}},\"type\":\"scatter\"}],\"scatterternary\":[{\"marker\":{\"colorbar\":{\"outlinewidth\":0,\"ticks\":\"\"}},\"type\":\"scatterternary\"}],\"surface\":[{\"colorbar\":{\"outlinewidth\":0,\"ticks\":\"\"},\"colorscale\":[[0.0,\"#0d0887\"],[0.1111111111111111,\"#46039f\"],[0.2222222222222222,\"#7201a8\"],[0.3333333333333333,\"#9c179e\"],[0.4444444444444444,\"#bd3786\"],[0.5555555555555556,\"#d8576b\"],[0.6666666666666666,\"#ed7953\"],[0.7777777777777778,\"#fb9f3a\"],[0.8888888888888888,\"#fdca26\"],[1.0,\"#f0f921\"]],\"type\":\"surface\"}],\"table\":[{\"cells\":{\"fill\":{\"color\":\"#EBF0F8\"},\"line\":{\"color\":\"white\"}},\"header\":{\"fill\":{\"color\":\"#C8D4E3\"},\"line\":{\"color\":\"white\"}},\"type\":\"table\"}]},\"layout\":{\"annotationdefaults\":{\"arrowcolor\":\"#2a3f5f\",\"arrowhead\":0,\"arrowwidth\":1},\"autotypenumbers\":\"strict\",\"coloraxis\":{\"colorbar\":{\"outlinewidth\":0,\"ticks\":\"\"}},\"colorscale\":{\"diverging\":[[0,\"#8e0152\"],[0.1,\"#c51b7d\"],[0.2,\"#de77ae\"],[0.3,\"#f1b6da\"],[0.4,\"#fde0ef\"],[0.5,\"#f7f7f7\"],[0.6,\"#e6f5d0\"],[0.7,\"#b8e186\"],[0.8,\"#7fbc41\"],[0.9,\"#4d9221\"],[1,\"#276419\"]],\"sequential\":[[0.0,\"#0d0887\"],[0.1111111111111111,\"#46039f\"],[0.2222222222222222,\"#7201a8\"],[0.3333333333333333,\"#9c179e\"],[0.4444444444444444,\"#bd3786\"],[0.5555555555555556,\"#d8576b\"],[0.6666666666666666,\"#ed7953\"],[0.7777777777777778,\"#fb9f3a\"],[0.8888888888888888,\"#fdca26\"],[1.0,\"#f0f921\"]],\"sequentialminus\":[[0.0,\"#0d0887\"],[0.1111111111111111,\"#46039f\"],[0.2222222222222222,\"#7201a8\"],[0.3333333333333333,\"#9c179e\"],[0.4444444444444444,\"#bd3786\"],[0.5555555555555556,\"#d8576b\"],[0.6666666666666666,\"#ed7953\"],[0.7777777777777778,\"#fb9f3a\"],[0.8888888888888888,\"#fdca26\"],[1.0,\"#f0f921\"]]},\"colorway\":[\"#636efa\",\"#EF553B\",\"#00cc96\",\"#ab63fa\",\"#FFA15A\",\"#19d3f3\",\"#FF6692\",\"#B6E880\",\"#FF97FF\",\"#FECB52\"],\"font\":{\"color\":\"#2a3f5f\"},\"geo\":{\"bgcolor\":\"white\",\"lakecolor\":\"white\",\"landcolor\":\"#E5ECF6\",\"showlakes\":true,\"showland\":true,\"subunitcolor\":\"white\"},\"hoverlabel\":{\"align\":\"left\"},\"hovermode\":\"closest\",\"mapbox\":{\"style\":\"light\"},\"paper_bgcolor\":\"white\",\"plot_bgcolor\":\"#E5ECF6\",\"polar\":{\"angularaxis\":{\"gridcolor\":\"white\",\"linecolor\":\"white\",\"ticks\":\"\"},\"bgcolor\":\"#E5ECF6\",\"radialaxis\":{\"gridcolor\":\"white\",\"linecolor\":\"white\",\"ticks\":\"\"}},\"scene\":{\"xaxis\":{\"backgroundcolor\":\"#E5ECF6\",\"gridcolor\":\"white\",\"gridwidth\":2,\"linecolor\":\"white\",\"showbackground\":true,\"ticks\":\"\",\"zerolinecolor\":\"white\"},\"yaxis\":{\"backgroundcolor\":\"#E5ECF6\",\"gridcolor\":\"white\",\"gridwidth\":2,\"linecolor\":\"white\",\"showbackground\":true,\"ticks\":\"\",\"zerolinecolor\":\"white\"},\"zaxis\":{\"backgroundcolor\":\"#E5ECF6\",\"gridcolor\":\"white\",\"gridwidth\":2,\"linecolor\":\"white\",\"showbackground\":true,\"ticks\":\"\",\"zerolinecolor\":\"white\"}},\"shapedefaults\":{\"line\":{\"color\":\"#2a3f5f\"}},\"ternary\":{\"aaxis\":{\"gridcolor\":\"white\",\"linecolor\":\"white\",\"ticks\":\"\"},\"baxis\":{\"gridcolor\":\"white\",\"linecolor\":\"white\",\"ticks\":\"\"},\"bgcolor\":\"#E5ECF6\",\"caxis\":{\"gridcolor\":\"white\",\"linecolor\":\"white\",\"ticks\":\"\"}},\"title\":{\"x\":0.05},\"xaxis\":{\"automargin\":true,\"gridcolor\":\"white\",\"linecolor\":\"white\",\"ticks\":\"\",\"title\":{\"standoff\":15},\"zerolinecolor\":\"white\",\"zerolinewidth\":2},\"yaxis\":{\"automargin\":true,\"gridcolor\":\"white\",\"linecolor\":\"white\",\"ticks\":\"\",\"title\":{\"standoff\":15},\"zerolinecolor\":\"white\",\"zerolinewidth\":2}}},\"title\":{\"font\":{\"color\":\"#4D5663\"},\"text\":\"YoY Change in U.S. City Average Price, Gasoline, All Types\"},\"xaxis\":{\"gridcolor\":\"#E1E5ED\",\"showgrid\":true,\"tickfont\":{\"color\":\"#4D5663\"},\"title\":{\"font\":{\"color\":\"#4D5663\"},\"text\":\"Date\"},\"zerolinecolor\":\"#E1E5ED\"},\"yaxis\":{\"gridcolor\":\"#E1E5ED\",\"showgrid\":true,\"tickfont\":{\"color\":\"#4D5663\"},\"title\":{\"font\":{\"color\":\"#4D5663\"},\"text\":\"YoY Change in Price (%)\"},\"zerolinecolor\":\"#E1E5ED\"}},                        {\"showLink\": true, \"linkText\": \"Export to plot.ly\", \"plotlyServerURL\": \"https://plot.ly\", \"responsive\": true}                    ).then(function(){\n",
       "                            \n",
       "var gd = document.getElementById('9f5fb8a0-c3e9-4cd3-924b-79a55afeac0b');\n",
       "var x = new MutationObserver(function (mutations, observer) {{\n",
       "        var display = window.getComputedStyle(gd).display;\n",
       "        if (!display || display === 'none') {{\n",
       "            console.log([gd, 'removed!']);\n",
       "            Plotly.purge(gd);\n",
       "            observer.disconnect();\n",
       "        }}\n",
       "}});\n",
       "\n",
       "// Listen for the removal of the full notebook cells\n",
       "var notebookContainer = gd.closest('#notebook-container');\n",
       "if (notebookContainer) {{\n",
       "    x.observe(notebookContainer, {childList: true});\n",
       "}}\n",
       "\n",
       "// Listen for the clearing of the current output cell\n",
       "var outputEl = gd.closest('.output');\n",
       "if (outputEl) {{\n",
       "    x.observe(outputEl, {childList: true});\n",
       "}}\n",
       "\n",
       "                        })                };                });            </script>        </div>"
      ]
     },
     "metadata": {},
     "output_type": "display_data"
    }
   ],
   "source": [
    "gas_all_df.iplot(kind='scatter',x='date',y='yearly',\n",
    "                 title='YoY Change in U.S. City Average Price, Gasoline, All Types',\n",
    "                 xTitle='Date',\n",
    "                 yTitle='YoY Change in Price (%)',\n",
    "                 color='black')"
   ]
  }
 ],
 "metadata": {
  "kernelspec": {
   "display_name": "Python 3 (ipykernel)",
   "language": "python",
   "name": "python3"
  },
  "language_info": {
   "codemirror_mode": {
    "name": "ipython",
    "version": 3
   },
   "file_extension": ".py",
   "mimetype": "text/x-python",
   "name": "python",
   "nbconvert_exporter": "python",
   "pygments_lexer": "ipython3",
   "version": "3.9.7"
  }
 },
 "nbformat": 4,
 "nbformat_minor": 5
}
